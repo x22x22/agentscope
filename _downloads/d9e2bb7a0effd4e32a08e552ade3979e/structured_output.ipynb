{
  "cells": [
    {
      "cell_type": "markdown",
      "metadata": {},
      "source": [
        "\n\n# Structured Output\n\nIn this tutorial, we will be building a simple agent that outputs structured\ndata in JSON dictionary format using the `agentscope.parsers` module.\n"
      ]
    },
    {
      "cell_type": "code",
      "execution_count": null,
      "metadata": {
        "collapsed": false
      },
      "outputs": [],
      "source": [
        "from agentscope.models import ModelResponse"
      ]
    },
    {
      "cell_type": "markdown",
      "metadata": {},
      "source": [
        "## Defining the Parser\n\n"
      ]
    },
    {
      "cell_type": "code",
      "execution_count": null,
      "metadata": {
        "collapsed": false
      },
      "outputs": [],
      "source": [
        "from agentscope.parsers import MarkdownJsonDictParser\n\n\nparser = MarkdownJsonDictParser(\n    content_hint='{\"thought\": \"What you thought\", \"speak\": \"What you speak to the user\"}',\n    required_keys=[\"thought\", \"speak\"],\n)"
      ]
    },
    {
      "cell_type": "markdown",
      "metadata": {},
      "source": [
        "The parser will generate a format instruction according to your input. You\ncan use the `format_instruction` property to in your prompt to guide LLM to\ngenerate the desired output.\n\n"
      ]
    },
    {
      "cell_type": "code",
      "execution_count": null,
      "metadata": {
        "collapsed": false
      },
      "outputs": [],
      "source": [
        "print(parser.format_instruction)"
      ]
    },
    {
      "cell_type": "markdown",
      "metadata": {},
      "source": [
        "## Parsing the Output\nWhen receiving output from LLM, use `parse` method to extract the\nstructured data.\nIt takes an object of `agentscope.models.ModelResponse` as input, parses\nthe value of the `text` field, and returns a parsed dictionary in the\n`parsed` field.\n\n"
      ]
    },
    {
      "cell_type": "code",
      "execution_count": null,
      "metadata": {
        "collapsed": false
      },
      "outputs": [],
      "source": [
        "dummy_response = ModelResponse(\n    text=\"\"\"```json\n{\n    \"thought\": \"I should greet the user\",\n    \"speak\": \"Hi! How can I help you?\"\n}\n```\"\"\",\n)\n\nprint(f\"parsed field before parsing: {dummy_response.parsed}\")\n\nparsed_response = parser.parse(dummy_response)\n\nprint(f\"parsed field after parsing: {parsed_response.parsed}\")\nprint(type(parsed_response.parsed))"
      ]
    },
    {
      "cell_type": "markdown",
      "metadata": {},
      "source": [
        "## Error Handling\nIf the LLM output does not match the expected format, the parser will raise\nan error with a detailed message.\nSo developers can present the error message to LLM to guide it to correct\nthe output.\n\n"
      ]
    },
    {
      "cell_type": "code",
      "execution_count": null,
      "metadata": {
        "collapsed": false
      },
      "outputs": [],
      "source": [
        "error_response = ModelResponse(\n    text=\"\"\"```json\n{\n    \"thought\": \"I should greet the user\"\n}\n```\"\"\",\n)\n\ntry:\n    parsed_response = parser.parse(error_response)\nexcept Exception as e:\n    print(e)"
      ]
    },
    {
      "cell_type": "markdown",
      "metadata": {},
      "source": [
        "## Advanced Usage\nMore Complex Content\n^^^^^^^^^^^^^^^^^^^^^^^^^^^^^^\nAsking LLM to directly generate a JSON dictionary can be challenging,\nespecially when the JSON content is complex (e.g. code snippets, nested\nstructures).\nIn this case, you can use more advanced parsers to guide LLM to generate\nthe desired output.\nHere is an example of a more complex parser that handle code snippets.\n\n"
      ]
    },
    {
      "cell_type": "code",
      "execution_count": null,
      "metadata": {
        "collapsed": false
      },
      "outputs": [],
      "source": [
        "from agentscope.parsers import RegexTaggedContentParser\n\nparser = RegexTaggedContentParser(\n    format_instruction=\"\"\"Response in the following format:\n<thought>what you thought</thought>\n<number>A random number here</number>\n<code>your python code here</code>\n\"\"\",\n    try_parse_json=True,  # Try to parse the each value as a JSON object\n    required_keys=[\n        \"thought\",\n        \"number\",\n        \"code\",\n    ],  # Required keys in the parsed dictionary\n)\n\nprint(parser.format_instruction)"
      ]
    },
    {
      "cell_type": "markdown",
      "metadata": {},
      "source": [
        "The `RegexTaggedContentParser` uses regular expressions to match the tagged\ncontent in the text and return the parsed dictionary.\n\n<div class=\"alert alert-info\"><h4>Note</h4><p>The parsed output of `RegexTaggedContentParser` is a dictionary, which means the required keys should be unique.</p></div>\nYou can also change the regular expression pattern by settings the `tagged_content_pattern` parameter when initializing the parser.\n\n"
      ]
    },
    {
      "cell_type": "code",
      "execution_count": null,
      "metadata": {
        "collapsed": false
      },
      "outputs": [],
      "source": [
        "import json\n\ndummy_response = ModelResponse(\n    text=\"\"\"<thought>Print the current date</thought>\n<number>42</number>\n<code>import datetime\nprint(datetime.datetime.now())\n</code>\n\"\"\",\n)\n\nparsed_response = parser.parse(dummy_response)\n\nprint(\"The type of parsed response: \", type(parsed_response.parsed))\nprint(\"The type of the number: \", type(parsed_response.parsed[\"number\"]))\nprint(json.dumps(parsed_response.parsed, indent=4))"
      ]
    },
    {
      "cell_type": "markdown",
      "metadata": {},
      "source": [
        "### Auto Post-Processing\n\nWithin the parsed dictionary, different keys may require different\npost-processing steps.\nFor example, in a werewolf game, the LLM is playing the role of a seer, and\nthe output should contain the following keys:\n\n- `thought`: The seer's thoughts\n- `speak`: The seer's speech\n- `use_ability`: A boolean value indicating whether the seer should use its ability\n\nIn this case, the `thought` and `speak` contents should be stored in the\nagent's memory to ensure the consistency of the agent's behavior.\nThe `speak` content should be spoken out to the user.\nThe `use_ability` key should be accessed outside the agent easily to\ndetermine the game flow.\n\nAgentScope supports automatic post-processing of the parsed dictionary by\nproviding the following parameters when initializing the parser.\n\n- `keys_to_memory`: key(s) that should be stored in the agent's memory\n- `keys_to_content`: key(s) that should be spoken out\n- `keys_to_metadata`: key(s) that should be stored in the metadata field of the agent's response message\n\n<div class=\"alert alert-info\"><h4>Note</h4><p>If a string is provided, the parser will extract the value of the given key from the parsed dictionary. If a list of strings is provided, a sub-dictionary will be created with the given keys.</p></div>\n\nHere is an example of using the `MarkdownJsonDictParser` to automatically\npost-process the parsed dictionary.\n\n"
      ]
    },
    {
      "cell_type": "code",
      "execution_count": null,
      "metadata": {
        "collapsed": false
      },
      "outputs": [],
      "source": [
        "parser = MarkdownJsonDictParser(\n    content_hint='{\"thought\": \"what you thought\", \"speak\": \"what you speak\", \"use_ability\": \"whether to use the ability\"}',\n    keys_to_memory=[\"thought\", \"speak\"],\n    keys_to_content=\"speak\",\n    keys_to_metadata=\"use_ability\",\n)\n\ndummy_response = ModelResponse(\n    text=\"\"\"```json\n{\n    \"thought\": \"I should ...\",\n    \"speak\": \"I will not use my ability\",\n    \"use_ability\": false\n}```\n\"\"\",\n)\n\nparsed_response = parser.parse(dummy_response)\n\nprint(\"The parsed response: \", parsed_response.parsed)\nprint(\"To memory\", parser.to_memory(parsed_response.parsed))\nprint(\"To message content: \", parser.to_content(parsed_response.parsed))\nprint(\"To message metadata: \", parser.to_metadata(parsed_response.parsed))"
      ]
    },
    {
      "cell_type": "markdown",
      "metadata": {},
      "source": [
        "Here we show how to create an agent that can automatically post-process the\nparsed dictionary by the following core steps in the `reply` method.\n\n1. Put the format instruction in prompt to guide LLM to generate the desired output\n2. Parse the LLM response\n3. Post-process the parsed dictionary by using the `to_memory`, `to_content`, and `to_metadata` methods\n\n.. tip:: By changing different parsers, the agent can adapt to different scenarios and generate structured output in various formats.\n\n"
      ]
    },
    {
      "cell_type": "code",
      "execution_count": null,
      "metadata": {
        "collapsed": false
      },
      "outputs": [],
      "source": [
        "from agentscope.models import DashScopeChatWrapper\nfrom agentscope.agents import AgentBase\nfrom agentscope.message import Msg\n\n\nclass Agent(AgentBase):\n    def __init__(self):\n        self.name = \"Alice\"\n        super().__init__(name=self.name)\n\n        self.sys_prompt = f\"You're a helpful assistant named {self.name}.\"\n\n        self.model = DashScopeChatWrapper(\n            config_name=\"_\",\n            model_name=\"qwen-max\",\n        )\n\n        self.parser = MarkdownJsonDictParser(\n            content_hint='{\"thought\": \"what you thought\", \"speak\": \"what you speak\", \"use_ability\": \"whether to use the ability\"}',\n            keys_to_memory=[\"thought\", \"speak\"],\n            keys_to_content=\"speak\",\n            keys_to_metadata=\"use_ability\",\n        )\n\n        self.memory.add(Msg(\"system\", self.sys_prompt, \"system\"))\n\n    def reply(self, msg):\n        self.memory.add(msg)\n\n        prompt = self.model.format(\n            self.memory.get_memory(),\n            # Instruct the model to respond in the required format\n            Msg(\"system\", self.parser.format_instruction, \"system\"),\n        )\n\n        response = self.model(prompt)\n\n        parsed_response = self.parser.parse(response)\n\n        self.memory.add(\n            Msg(\n                name=self.name,\n                content=self.parser.to_memory(parsed_response.parsed),\n                role=\"assistant\",\n            ),\n        )\n\n        return Msg(\n            name=self.name,\n            content=self.parser.to_content(parsed_response.parsed),\n            role=\"assistant\",\n            metadata=self.parser.to_metadata(parsed_response.parsed),\n        )"
      ]
    }
  ],
  "metadata": {
    "kernelspec": {
      "display_name": "Python 3",
      "language": "python",
      "name": "python3"
    },
    "language_info": {
      "codemirror_mode": {
        "name": "ipython",
        "version": 3
      },
      "file_extension": ".py",
      "mimetype": "text/x-python",
      "name": "python",
      "nbconvert_exporter": "python",
      "pygments_lexer": "ipython3",
      "version": "3.10.17"
    }
  },
  "nbformat": 4,
  "nbformat_minor": 0
}