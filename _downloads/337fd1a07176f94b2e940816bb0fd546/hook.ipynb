{
  "cells": [
    {
      "cell_type": "markdown",
      "metadata": {},
      "source": [
        "\nHooks\n===========================\n\nHooks are extension points in AgentScope that allow developers to customize agent behaviors at specific execution points. They provide a flexible way to modify or extend the agent's functionality without changing its core implementation.\n\n# Core Functions\nAgentScope implements hooks around three core agent functions:\n\n- `reply`: Generates response messages based on the agent's current state\n- `speak`: Displays and records messages to the terminal\n- `observe`: Records incoming messages\n\n# Available Hooks\nEach core function has corresponding pre- and post-execution hooks:\n\n- `pre_reply_hook` / `post_reply_hook`\n- `pre_speak_hook` / `post_speak_hook`\n- `pre_observe_hook` / `post_observe_hook`\n\nFor example, you can use `pre_speak_hook` to redirect messages to different outputs like web interfaces or external applications.\n\nWhen working with hooks, keep these important rules in mind:\n\n1. **Hook Function Signature**\n - First argument must be the `AgentBase` object\n - Subsequent arguments are copies of the original function arguments\n\n2. **Execution Order**\n - Hooks are executed in registration order\n - Multiple hooks can be chained together\n\n3. **Return Value Handling**\n - For pre-hooks: Non-None return values are passed to the next hook or target function\n  - When a hook returns None, the next hook will use the most recent non-None return value from previous hooks\n  - If all previous hooks return None, the next hook receives a copy of the original arguments\n  - The final non-None return value (or original arguments if all hooks return None) is passed to the target function\n - For post-hooks: Only the `post-reply` hook has a return value, which works the same way as pre-hooks.\n\n4. **Important**: Never call the target function (reply/speak/observe) within a hook to avoid infinite loops\n\n# Hooks Template\n\nWe provide templates for each hook function below to show their argument\nsignatures. You can copy and paste these templates into your code and\ncustomize them as needed.\n"
      ]
    },
    {
      "cell_type": "code",
      "execution_count": null,
      "metadata": {
        "collapsed": false
      },
      "outputs": [],
      "source": [
        "from typing import Union, Optional\n\nfrom agentscope.agents import AgentBase\nfrom agentscope.message import Msg\n\n\ndef pre_reply_hook_template(\n    self: AgentBase,\n    x: Optional[Union[Msg, list[Msg]]] = None,\n) -> Union[None, Msg, list[Msg]]:\n    \"\"\"Pre-reply hook template.\"\"\"\n    pass\n\n\ndef post_reply_hook_template(self: AgentBase, x: Msg) -> Msg:\n    \"\"\"Post-reply hook template.\"\"\"\n    pass\n\n\ndef pre_speak_hook_template(\n    self: AgentBase,\n    x: Msg,\n    stream: bool,\n    last: bool,\n) -> Union[Msg, None]:\n    \"\"\"Pre-speak hook template.\"\"\"\n    pass\n\n\ndef post_speak_hook_template(self: AgentBase) -> None:\n    \"\"\"Post-speak hook template.\"\"\"\n    pass\n\n\ndef pre_observe_hook_template(\n    self: AgentBase,\n    x: Union[Msg, list[Msg]],\n) -> Union[Msg, list[Msg]]:\n    \"\"\"Pre-observe hook template.\"\"\"\n    pass\n\n\ndef post_observe_hook_template(self: AgentBase) -> None:\n    \"\"\"Post-observe hook template.\"\"\"\n    pass"
      ]
    },
    {
      "cell_type": "markdown",
      "metadata": {},
      "source": [
        "# Example Usage\nAgentScope allows to register, remove and clear hooks by calling the\ncorresponding methods.\n\nWe first create a simple agent that echoes the incoming message:\n\n"
      ]
    },
    {
      "cell_type": "code",
      "execution_count": null,
      "metadata": {
        "collapsed": false
      },
      "outputs": [],
      "source": [
        "from typing import Optional, Union\n\nfrom agentscope.agents import AgentBase\nfrom agentscope.message import Msg\n\n\nclass TestAgent(AgentBase):\n    def __init__(self):\n        super().__init__(name=\"TestAgent\")\n\n    def reply(self, x: Optional[Union[Msg, list[Msg]]] = None) -> Msg:\n        self.speak(x)\n        return x"
      ]
    },
    {
      "cell_type": "markdown",
      "metadata": {},
      "source": [
        "## Reply Hooks\nNext, we define two pre-hooks, which both modify the input message(s), but\none return the modified message(s) and the other does not:\n\n"
      ]
    },
    {
      "cell_type": "code",
      "execution_count": null,
      "metadata": {
        "collapsed": false
      },
      "outputs": [],
      "source": [
        "def pre_reply_hook_1(\n    self,\n    x=None,\n) -> Union[None, Msg, list[Msg]]:\n    \"\"\"The first pre-reply hook that changes the message content.\"\"\"\n    if isinstance(x, Msg):\n        x.content = \"[Pre-hook-1] \" + x.content\n    elif isinstance(x, list):\n        for msg in x:\n            msg.content = \"[Pre-hook-1] \" + msg.content\n\n\ndef pre_reply_hook_2(\n    self,\n    x=None,\n) -> Union[None, Msg, list[Msg]]:\n    \"\"\"The second pre-reply hook that changes the message content.\"\"\"\n    if isinstance(x, Msg):\n        x.content = \"[Pre-hook-2] \" + x.content\n    elif isinstance(x, list):\n        for msg in x:\n            msg.content = \"[Pre-hook-2] \" + msg.content\n    return x"
      ]
    },
    {
      "cell_type": "markdown",
      "metadata": {},
      "source": [
        "Then we create a post-hook that appends a suffix to the message content:\n\n"
      ]
    },
    {
      "cell_type": "code",
      "execution_count": null,
      "metadata": {
        "collapsed": false
      },
      "outputs": [],
      "source": [
        "def post_reply_hook(self, x) -> Msg:\n    \"\"\"The post-reply hook that appends a suffix to the message content.\"\"\"\n    x.content += \" [Post-hook]\"\n    return x"
      ]
    },
    {
      "cell_type": "markdown",
      "metadata": {},
      "source": [
        "Finally, we register the hooks and test the agent:\n\n"
      ]
    },
    {
      "cell_type": "code",
      "execution_count": null,
      "metadata": {
        "collapsed": false
      },
      "outputs": [],
      "source": [
        "agent = TestAgent()\n\nagent.register_pre_reply_hook(\"pre_hook_1\", pre_reply_hook_1)\nagent.register_pre_reply_hook(\"pre_hook_2\", pre_reply_hook_2)\nagent.register_post_reply_hook(\"post_hook\", post_reply_hook)\n\nmsg = Msg(\"user\", \"[Original message]\", \"user\")\n\nmsg_response = agent(msg)\n\nprint(\"The content of the response message:\\n\", msg_response.content)"
      ]
    },
    {
      "cell_type": "markdown",
      "metadata": {},
      "source": [
        "We can see that the response has one \"[Pre-hook-2]\" prefix and one\n\"[Post-hook]\" suffix. The \"[Pre-hook-1]\" prefix is missing because the\nfirst pre-hook does not return the modified message(s).\n\n## Speak Hooks\nTo be compatible with the streaming output, the pre-speak hook takes two\nadditional arguments:\n\n- `stream`: a boolean flag indicating the streaming status\n- `last`: a boolean flag indicating if the input message is the last one in the stream\n\n.. tip:: When dealing with the streaming output, you can use the msg id to determine\n whether two messages are from the same streaming output or not.\n\nWe show how to use the pre/post-speak hooks below:\n\n"
      ]
    },
    {
      "cell_type": "code",
      "execution_count": null,
      "metadata": {
        "collapsed": false
      },
      "outputs": [],
      "source": [
        "from agentscope.agents import DialogAgent\nimport agentscope\n\nagentscope.init(\n    model_configs=[\n        {\n            \"config_name\": \"streaming_config\",\n            \"model_type\": \"dashscope_chat\",\n            \"model_name\": \"qwen-max\",\n            \"stream\": True,\n        },\n    ],\n)\n\nstreaming_agent = DialogAgent(\n    name=\"TestAgent\",\n    model_config_name=\"streaming_config\",\n    sys_prompt=\"You're a helpful assistant.\",\n)\n\n\n# Create a pre-speak hook that displays the message content\ndef pre_speak_hook(self, x: Msg, stream: bool, last: bool) -> None:\n    \"\"\"The pre-speak hook that display the message content.\"\"\"\n    # You can change or redirect the message here\n    print(\n        \"id: \",\n        x.id,\n        \"content: \",\n        x.content,\n        \"stream: \",\n        stream,\n        \"last: \",\n        last,\n    )\n\n\ndef post_speak_hook(self) -> None:\n    \"\"\"The post-speak hook that display the message content.\"\"\"\n    # We count the number of calling the speak function here.\n    if not hasattr(self, \"cnt\"):\n        self.cnt = 0\n    self.cnt += 1\n\n\n# Register the hooks\nstreaming_agent.register_pre_speak_hook(\"pre_speak_hook\", pre_speak_hook)\nstreaming_agent.register_post_speak_hook(\"post_speak_hook\", post_speak_hook)\n\nmsg = Msg(\n    \"user\",\n    \"Now, count from 1 to 15, step by 1 and separate each number by a comma.\",\n    \"user\",\n)\n\nmsg_response = streaming_agent(msg)\n\nprint(\"The cnt of calling the speak function:\", streaming_agent.cnt)"
      ]
    },
    {
      "cell_type": "markdown",
      "metadata": {},
      "source": [
        "## Observe Hooks\nSimilar as the speak hooks, we show how to use the pre/post-observe hooks\nbelow:\n\n"
      ]
    },
    {
      "cell_type": "code",
      "execution_count": null,
      "metadata": {
        "collapsed": false
      },
      "outputs": [],
      "source": [
        "import json\n\n\ndef pre_observe_hook(self, x: Union[Msg, list[Msg]]) -> Union[Msg, list[Msg]]:\n    \"\"\"The pre-observe hook that display the message content.\"\"\"\n    if isinstance(x, Msg):\n        x.content = \"Observe: \" + x.content\n    elif isinstance(x, list):\n        for msg in x:\n            msg.content = \"Observe: \" + msg.content\n    return x\n\n\ndef post_observe_hook(self) -> None:\n    \"\"\"The post-observe hook that display the message content.\"\"\"\n    if not hasattr(post_observe_hook, \"cnt\"):\n        setattr(post_observe_hook, \"cnt\", 0)\n    post_observe_hook.cnt += 1\n\n\n# Clear the memory first\nagent.memory.clear()\n\nagent.register_pre_observe_hook(\"pre_observe_hook\", pre_observe_hook)\nagent.register_post_observe_hook(\"post_observe_hook\", post_observe_hook)\n\nagent.observe(\n    Msg(\n        \"user\",\n        \"The sun is shining.\",\n        \"user\",\n    ),\n)\n\nprint(\n    \"The content of the memory:\\n\",\n    json.dumps([_.to_dict() for _ in agent.memory.get_memory()], indent=4),\n)\nprint(\"The cnt of calling the observe function:\", post_observe_hook.cnt)"
      ]
    }
  ],
  "metadata": {
    "kernelspec": {
      "display_name": "Python 3",
      "language": "python",
      "name": "python3"
    },
    "language_info": {
      "codemirror_mode": {
        "name": "ipython",
        "version": 3
      },
      "file_extension": ".py",
      "mimetype": "text/x-python",
      "name": "python",
      "nbconvert_exporter": "python",
      "pygments_lexer": "ipython3",
      "version": "3.10.16"
    }
  },
  "nbformat": 4,
  "nbformat_minor": 0
}