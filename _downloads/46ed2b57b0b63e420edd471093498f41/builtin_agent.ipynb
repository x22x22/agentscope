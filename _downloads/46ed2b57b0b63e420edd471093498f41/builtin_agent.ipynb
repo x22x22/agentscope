{
  "cells": [
    {
      "cell_type": "markdown",
      "metadata": {},
      "source": [
        "\n.. _builtin-agent\n\n# Built-in Agents\n\nAgentScope builds in several agent class to support different scenarios and\nshow how to build agents with AgentScope.\n\n.. list-table::\n    :header-rows: 1\n\n    * - Class\n      - Description\n    * - `UserAgent`\n      - Agent that allows user to participate in the conversation.\n    * - `DialogAgent`\n      - Agent that speaks in natural language.\n    * - `DictDialogAgent`\n      - Agent that supports structured output.\n    * - `ReActAgent`\n      - Agent that uses tools in a reasoning-acting loop manner.\n    * - `LlamaIndexAgent`\n      - RAG agent.\n"
      ]
    },
    {
      "cell_type": "code",
      "execution_count": null,
      "metadata": {
        "collapsed": false
      },
      "outputs": [],
      "source": [
        "import agentscope\n\nfor module in agentscope.agents.__all__:\n    if module.endswith(\"Agent\"):\n        print(module)"
      ]
    },
    {
      "cell_type": "markdown",
      "metadata": {},
      "source": [
        "<div class=\"alert alert-info\"><h4>Note</h4><p>To support different LLM APIs, all built-in agents are initialized by specifying the model configuration name `model_config_name` in AgentScope.</p></div>\n\n\n"
      ]
    },
    {
      "cell_type": "code",
      "execution_count": null,
      "metadata": {
        "collapsed": false
      },
      "outputs": [],
      "source": [
        "import agentscope\n\nagentscope.init(\n    model_configs={\n        \"config_name\": \"my-qwen-max\",\n        \"model_name\": \"qwen-max\",\n        \"model_type\": \"dashscope_chat\",\n    },\n)"
      ]
    },
    {
      "cell_type": "markdown",
      "metadata": {},
      "source": [
        "## DialogAgent\nThe dialog agent is the most basic agent in AgentScope, which can interact\nwith users in a dialog manner.\nDevelopers can customize it by providing different system prompts and model\nconfigurations.\n\n\n"
      ]
    },
    {
      "cell_type": "code",
      "execution_count": null,
      "metadata": {
        "collapsed": false
      },
      "outputs": [],
      "source": [
        "from agentscope.agents import DialogAgent\nfrom agentscope.message import Msg\n\n# Init a dialog agent\nalice = DialogAgent(\n    name=\"Alice\",\n    model_config_name=\"my-qwen-max\",\n    sys_prompt=\"You're a helpful assistant named Alice.\",\n)\n\n# Send a message to the agent\nmsg = Msg(\"Bob\", \"Hi! What's your name?\", \"user\")\nresponse = alice(msg)"
      ]
    },
    {
      "cell_type": "markdown",
      "metadata": {},
      "source": [
        "## UserAgent\nThe `UserAgent` class allows users to interact with the other agents.\nWhen the `UserAgent` object is called, it will ask for user input and format\nit into a `Msg` object.\n\nHere we show how to initialize a `UserAgent` object and interact with the\ndialog agent `alice`.\n\n\n"
      ]
    },
    {
      "cell_type": "code",
      "execution_count": null,
      "metadata": {
        "collapsed": false
      },
      "outputs": [],
      "source": [
        "from agentscope.agents import UserAgent\nfrom io import StringIO\nimport sys\n\nuser = UserAgent(\n    name=\"Bob\",\n    input_hint=\"User input: \\n\",\n)\n\n# Simulate user input\nsys.stdin = StringIO(\"Do you know me?\\n\")\n\nmsg = user()\nmsg = alice(msg)"
      ]
    },
    {
      "cell_type": "markdown",
      "metadata": {},
      "source": [
        "## DictDialogAgent\nThe `DictDialogAgent` supports structured output and automatic post-processing by specifying its parser via the `set_parser` method.\n\n\nWe first initialize a `DictDialogAgent` object, and switch between different outputs by changing the parser.\n\n\n"
      ]
    },
    {
      "cell_type": "code",
      "execution_count": null,
      "metadata": {
        "collapsed": false
      },
      "outputs": [],
      "source": [
        "from agentscope.agents import DictDialogAgent\nfrom agentscope.parsers import MarkdownJsonDictParser\n\n\ncharles = DictDialogAgent(\n    name=\"Charles\",\n    model_config_name=\"my-qwen-max\",\n    sys_prompt=\"You're a helpful assistant named Charles.\",\n    max_retries=3,  # The maximum number of retries when failing to get a required structured output\n)\n\n# Ask the agent to generate structured output with `thought`, `speak`, and `decision`\nparser1 = MarkdownJsonDictParser(\n    content_hint={\n        \"thought\": \"what your thought\",\n        \"speak\": \"what you speak\",\n        \"decision\": \"your final decision, true/false\",\n    },\n    keys_to_metadata=\"decision\",\n    required_keys=[\"thought\", \"speak\", \"decision\"],\n)\n\ncharles.set_parser(parser1)\nmsg1 = charles(Msg(\"Bob\", \"Is it a good idea to go out in the rain?\", \"user\"))\n\nprint(f\"The metadata field: {msg1.metadata}\")\nprint(f\"The type of metadata field: {type(msg1.metadata)}\")"
      ]
    },
    {
      "cell_type": "markdown",
      "metadata": {},
      "source": [
        "Then, we ask the agent to pick a number from 1 to 10.\n\n"
      ]
    },
    {
      "cell_type": "code",
      "execution_count": null,
      "metadata": {
        "collapsed": false
      },
      "outputs": [],
      "source": [
        "parser2 = MarkdownJsonDictParser(\n    content_hint={\n        \"thought\": \"what your thought\",\n        \"speak\": \"what you speak\",\n        \"number\": \"the number you choose\",\n    },\n    keys_to_metadata=\"number\",\n    keys_to_content=\"speak\",\n)\n\ncharles.set_parser(parser2)\nmsg2 = charles(Msg(\"Bob\", \"Pick a number from 1 to 10.\", \"user\"))\n\nprint(f\"The content of the response message: {msg2.content}\")\nprint(f\"The metadata of the response message: {msg2.metadata}\")"
      ]
    },
    {
      "cell_type": "markdown",
      "metadata": {},
      "source": [
        "The next question is how to post-process the structured output.\nFor example, the `thought` field should be stored in memory without being exposed to the others,\nwhile the `speak` field should be displayed to the user, and the `decision` field should be easily accessible in the response message object.\n\n\n"
      ]
    },
    {
      "cell_type": "code",
      "execution_count": null,
      "metadata": {
        "collapsed": false
      },
      "outputs": [],
      "source": [
        "parser3 = MarkdownJsonDictParser(\n    content_hint={\n        \"thought\": \"what your thought\",\n        \"speak\": \"what you speak\",\n        \"number\": \"The number you choose\",\n    },\n    required_keys=[\"thought\", \"speak\", \"number\"],\n    keys_to_memory=[\"thought\", \"speak\", \"number\"],  # to be stored in memory\n    keys_to_content=\"speak\",  # to be displayed\n    keys_to_metadata=\"number\",  # to be stored in metadata field of the response message\n)\n\ncharles.set_parser(parser3)\n\nmsg3 = charles(Msg(\"Bob\", \"Pick a number from 20 to 30.\", \"user\"))\n\nprint(f\"The content field: {msg3.content}\")\nprint(f\"The type of content field: {type(msg3.content)}\\n\")\n\nprint(f\"The metadata field: {msg3.metadata}\")\nprint(f\"The type of metadata field: {type(msg3.metadata)}\")"
      ]
    },
    {
      "cell_type": "markdown",
      "metadata": {},
      "source": [
        ".. hint:: More advanced usage of structured output, and more different parsers refer to the section `structured-output`.\n\n## ReActAgent\nThe `ReActAgent` uses tools to solve the given problem in a reasoning-acting\nloop manner.\n\nFirst we prepare a tool function for the agent.\n\n\n"
      ]
    },
    {
      "cell_type": "code",
      "execution_count": null,
      "metadata": {
        "collapsed": false
      },
      "outputs": [],
      "source": [
        "from agentscope.service import ServiceToolkit, execute_python_code\n\n\ntoolkit = ServiceToolkit()\n# Set execute_python_code as a tool by specifying partial arguments\ntoolkit.add(\n    execute_python_code,\n    timeout=300,\n    use_docker=False,\n    maximum_memory_bytes=None,\n)"
      ]
    },
    {
      "cell_type": "markdown",
      "metadata": {},
      "source": [
        "Then we initialize a `ReActAgent` to solve the given problem.\n\n\n"
      ]
    },
    {
      "cell_type": "code",
      "execution_count": null,
      "metadata": {
        "collapsed": false
      },
      "outputs": [],
      "source": [
        "from agentscope.agents import ReActAgent\n\ndavid = ReActAgent(\n    name=\"David\",\n    model_config_name=\"my-qwen-max\",\n    sys_prompt=\"You're a helpful assistant named David.\",\n    service_toolkit=toolkit,\n    max_iters=10,\n    verbose=True,\n)\n\ntask = Msg(\"Bob\", \"Help me to calculate 151513434*54353453453.\", \"user\")\n\nresponse = david(task)"
      ]
    },
    {
      "cell_type": "markdown",
      "metadata": {},
      "source": [
        "## LlamaIndexAgent\nRefer to the RAG Section for more details.\n\n\n"
      ]
    }
  ],
  "metadata": {
    "kernelspec": {
      "display_name": "Python 3",
      "language": "python",
      "name": "python3"
    },
    "language_info": {
      "codemirror_mode": {
        "name": "ipython",
        "version": 3
      },
      "file_extension": ".py",
      "mimetype": "text/x-python",
      "name": "python",
      "nbconvert_exporter": "python",
      "pygments_lexer": "ipython3",
      "version": "3.10.17"
    }
  },
  "nbformat": 4,
  "nbformat_minor": 0
}