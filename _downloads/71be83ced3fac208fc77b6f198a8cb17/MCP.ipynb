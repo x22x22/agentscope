{
  "cells": [
    {
      "cell_type": "markdown",
      "metadata": {},
      "source": [
        "\n\n# MCP\n\nIn this tutorial, we will briefly introduce what MCP is and show how to use MCP in AgentScope. We will also demonstrate how to configure an existing AgentScope multi-agent application as an MCP server. Finally, to help advanced developers gain a deeper understanding, we will discuss how MCP integrates with AgentScope.\n\n<div class=\"alert alert-info\"><h4>Note</h4><p>1. Before reading this chapter, please read the \"Tools\" chapter to understand the basic usage of the `ServiceToolkit` module.</p></div>\n\n 2. Using MCP in AgentScope requires your Python version to be at least 3.10, and you must have installed the `agentscope[service]` version.\n"
      ]
    },
    {
      "cell_type": "markdown",
      "metadata": {},
      "source": [
        "## What is MCP\nMCP (Model Context Protocol) is an open standard introduced by Anthropic, aimed at standardizing communication between large language models and external data sources and tools, enabling AI models to fully realize their potential.\nThrough MCP, AI applications can securely access and manipulate local and remote data, providing a connection method similar to a \"USB-C interface\" for AI applications.\nThis standard not only facilitates API development by service providers but also avoids developers rebuilding basic functions, allowing existing MCP services to enhance the capabilities of intelligent agents. For example, MCP servers can provide predefined prompt templates for generating email drafts or optimizing code comments, thereby improving application development efficiency and quality.\n\n"
      ]
    },
    {
      "cell_type": "markdown",
      "metadata": {},
      "source": [
        "MCP supports two communication protocols: Standard Input/Output (STDIO) and HTTP Server-Sent Events (SSE).\n- The STDIO protocol is used for local communication, involving message transmission through standard input and output (i.e., the MCP Server is also started locally). This method typically involves parsing and processing messages line by line, suitable for communication between clients and servers running in the same computing environment.\n- The HTTP protocol is used for remote communication (i.e., the MCP Server is started remotely), encapsulating JSON-RPC messages as SSE events. This mechanism allows the server to push events to the client via a continuously open HTTP connection.\n\n"
      ]
    },
    {
      "cell_type": "markdown",
      "metadata": {},
      "source": [
        "## Add MCP Server to `ServiceToolkit`\nAgentScope, as an MCP client, supports starting a local MCP server via STDIO protocol and establishing a connection, as well as using the SSE protocol to connect with a remote MCP server. These usage methods are based on the `ServiceToolkit.add_mcp_servers` interface. The following code demonstrates how to start and connect a server providing browser automation functionality via STDIO locally. This server uses Puppeteer, enabling large models to interact with web pages, take screenshots, and execute JavaScript in a real browser environment. Note that before using the following MCP server, ensure that `Node.js` is installed on your system to ensure the `npx` command runs properly.\n\n"
      ]
    },
    {
      "cell_type": "code",
      "execution_count": null,
      "metadata": {
        "collapsed": false
      },
      "outputs": [],
      "source": [
        "from agentscope.service import ServiceToolkit\n\nlocal_configs = {\n    \"mcpServers\": {\n        \"puppeteer\": {\n            \"command\": \"npx\",\n            \"args\": [\"-y\", \"@modelcontextprotocol/server-puppeteer\"],\n        },\n    },\n}"
      ]
    },
    {
      "cell_type": "markdown",
      "metadata": {},
      "source": [
        "Initialize ServiceToolkit and add MCP server configuration (uncomment the\ncode lines below)\nNote: If you need to use the STDIO MCP Server, please ensure that\nthe object won't be used across threads. In one thread, the standard\ninput/output streams might be reclaimed, leading to potential conflicts\nor unexpected behavior in other threads.\n\n"
      ]
    },
    {
      "cell_type": "code",
      "execution_count": null,
      "metadata": {
        "collapsed": false
      },
      "outputs": [],
      "source": [
        "toolkit = ServiceToolkit()\n# toolkit.add_mcp_servers(server_configs=local_configs)"
      ]
    },
    {
      "cell_type": "markdown",
      "metadata": {},
      "source": [
        "Output tool configuration instructions to verify settings\n\n"
      ]
    },
    {
      "cell_type": "code",
      "execution_count": null,
      "metadata": {
        "collapsed": false
      },
      "outputs": [],
      "source": [
        "print(toolkit.tools_instruction)"
      ]
    },
    {
      "cell_type": "markdown",
      "metadata": {},
      "source": [
        "If you need to use the HTTP protocol to connect to a remote server (or an MCP server running locally in another process using the SSE protocol), you can refer to the following configuration for the connection.\n\n"
      ]
    },
    {
      "cell_type": "code",
      "execution_count": null,
      "metadata": {
        "collapsed": false
      },
      "outputs": [],
      "source": [
        "remote_configs = {\n    \"mcpServers\": {\n        \"puppeteer\": {\n            \"url\": \"http://127.0.0.1:8000/sse\",\n        },\n    },\n}"
      ]
    },
    {
      "cell_type": "markdown",
      "metadata": {},
      "source": [
        "## Adding multi-agent App to MCP server\nYou can easily add multi-agent applications to your own MCP server using the official MCP Python SDK. The following example code demonstrates how to achieve this purpose using AgentScope and the MCP library.\n\n"
      ]
    },
    {
      "cell_type": "code",
      "execution_count": null,
      "metadata": {
        "collapsed": false
      },
      "outputs": [],
      "source": [
        "import agentscope\n\nfrom agentscope.agents import DialogAgent\nfrom agentscope.message import Msg\nfrom mcp.server import FastMCP\nfrom pydantic import Field\n\nagentscope.init(\n    model_configs={\n        \"config_name\": \"my-qwen-max\",\n        \"model_type\": \"dashscope_chat\",\n        \"model_name\": \"qwen-max\",\n    },\n)\n\nmcp = FastMCP(\"My MCP Server\")"
      ]
    },
    {
      "cell_type": "markdown",
      "metadata": {},
      "source": [
        "Use the @mcp.tool() decorator to define tools; here we create a joke-telling tool using AgentScope's `DialogAgent`.\n\n"
      ]
    },
    {
      "cell_type": "code",
      "execution_count": null,
      "metadata": {
        "collapsed": false
      },
      "outputs": [],
      "source": [
        "@mcp.tool()\ndef tell_a_joke(\n    topic: str = Field(\n        description=\"The topic of a joke\",\n    ),\n) -> str:\n    \"\"\"Generate a joke based on the given topic\"\"\"\n    agent = DialogAgent(\n        name=\"FunnyBot\",\n        model_config_name=\"my-qwen-max\",\n        sys_prompt=\"You are a witty comedian tasked with creating a joke about the given topic.\",\n    )\n    msg_task = Msg(\"user\", topic, \"user\")\n    res = agent(msg_task)\n\n    return res.content"
      ]
    },
    {
      "cell_type": "markdown",
      "metadata": {},
      "source": [
        "Save the above code to the file `my_mcp_server.py`.\nThen, run the following command in the terminal to start the server:\n`mcp run my_mcp_server.py -t sse`\nThis command starts the MCP server and transmits the results of tool calls via Server-Sent Events (SSE).\nThis way, you can access and use the multi-agent application through the configured MCP server.\n\n"
      ]
    },
    {
      "cell_type": "markdown",
      "metadata": {},
      "source": [
        "If you run the above code in a subprocess (e.g., launch as an STDIO\nserver), please add the following statement in the top to ensure that the\nserver can be recycled after the subprocess ends.\n\n"
      ]
    },
    {
      "cell_type": "code",
      "execution_count": null,
      "metadata": {
        "collapsed": false
      },
      "outputs": [],
      "source": [
        "import nest_asyncio\n\nnest_asyncio.apply()"
      ]
    }
  ],
  "metadata": {
    "kernelspec": {
      "display_name": "Python 3",
      "language": "python",
      "name": "python3"
    },
    "language_info": {
      "codemirror_mode": {
        "name": "ipython",
        "version": 3
      },
      "file_extension": ".py",
      "mimetype": "text/x-python",
      "name": "python",
      "nbconvert_exporter": "python",
      "pygments_lexer": "ipython3",
      "version": "3.10.17"
    }
  },
  "nbformat": 4,
  "nbformat_minor": 0
}