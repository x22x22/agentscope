{
  "cells": [
    {
      "cell_type": "markdown",
      "metadata": {},
      "source": [
        "\n\n# MultiModality\n\nIn this section, we will show how to build multimodal applications in AgentScope with two examples.\n\n- The first example demonstrates how to use vision LLMs within an agent, and\n- the second example shows how to use text to image generation within an agent.\n\n## Building Vision Agent\n\nFor most LLM APIs, the vision and non-vision LLMs share the same APIs, and only differ in the input format.\nIn AgentScope, the `format` function of the model wrapper is responsible for converting the input `Msg` objects into the required format for vision LLMs.\n\nThat is, we only need to specify the vision LLM without changing the agent's code.\nTaking \"qwen-vl-max\" as an example, its model configuration is the same as the non-vision LLMs in DashScope Chat API.\n\nRefer to section `model_api` for the vision LLM APIs supported in AgentScope.\n"
      ]
    },
    {
      "cell_type": "code",
      "execution_count": null,
      "metadata": {
        "collapsed": false
      },
      "outputs": [],
      "source": [
        "model_config = {\n    \"config_name\": \"my-qwen-vl\",\n    \"model_type\": \"dashscope_multimodal\",\n    \"model_name\": \"qwen-vl-max\",\n}"
      ]
    },
    {
      "cell_type": "markdown",
      "metadata": {},
      "source": [
        "As usual, we initialize AgentScope with the above configuration, and create a new agent with the vision LLM.\n\n"
      ]
    },
    {
      "cell_type": "code",
      "execution_count": null,
      "metadata": {
        "collapsed": false
      },
      "outputs": [],
      "source": [
        "from agentscope.agents import DialogAgent\nimport agentscope\n\nagentscope.init(model_configs=model_config)\n\nagent = DialogAgent(\n    name=\"Monday\",\n    sys_prompt=\"You're a helpful assistant named Monday.\",\n    model_config_name=\"my-qwen-vl\",\n)"
      ]
    },
    {
      "cell_type": "markdown",
      "metadata": {},
      "source": [
        "To communicate with the vision agent with pictures, `Msg` class provides an `url` field.\nYou can put both local or online image URL(s) in the `url` field.\n\nLet's first create an image with matplotlib\n\n"
      ]
    },
    {
      "cell_type": "code",
      "execution_count": null,
      "metadata": {
        "collapsed": false
      },
      "outputs": [],
      "source": [
        "import matplotlib.pyplot as plt\n\nplt.figure(figsize=(6, 6))\nplt.bar(range(3), [2, 1, 4])\nplt.xticks(range(3), [\"Alice\", \"Bob\", \"Charlie\"])\nplt.title(\"The Apples Each Person Has in 2023\")\nplt.xlabel(\"Number of Apples\")\n\nplt.show()\nplt.savefig(\"./bar.png\")"
      ]
    },
    {
      "cell_type": "markdown",
      "metadata": {},
      "source": [
        "Then, we create a `Msg` object with the image URL\n\n"
      ]
    },
    {
      "cell_type": "code",
      "execution_count": null,
      "metadata": {
        "collapsed": false
      },
      "outputs": [],
      "source": [
        "from agentscope.message import Msg\n\nmsg = Msg(\n    name=\"User\",\n    content=\"Describe the attached image for me.\",\n    role=\"user\",\n    url=\"./bar.png\",\n)"
      ]
    },
    {
      "cell_type": "markdown",
      "metadata": {},
      "source": [
        "After that, we can send the message to the vision agent and get the response.\n\n"
      ]
    },
    {
      "cell_type": "code",
      "execution_count": null,
      "metadata": {
        "collapsed": false
      },
      "outputs": [],
      "source": [
        "response = agent(msg)"
      ]
    }
  ],
  "metadata": {
    "kernelspec": {
      "display_name": "Python 3",
      "language": "python",
      "name": "python3"
    },
    "language_info": {
      "codemirror_mode": {
        "name": "ipython",
        "version": 3
      },
      "file_extension": ".py",
      "mimetype": "text/x-python",
      "name": "python",
      "nbconvert_exporter": "python",
      "pygments_lexer": "ipython3",
      "version": "3.10.17"
    }
  },
  "nbformat": 4,
  "nbformat_minor": 0
}