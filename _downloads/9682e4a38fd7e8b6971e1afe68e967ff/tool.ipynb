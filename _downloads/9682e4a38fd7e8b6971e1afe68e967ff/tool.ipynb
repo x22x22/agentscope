{
  "cells": [
    {
      "cell_type": "markdown",
      "metadata": {},
      "source": [
        "\n\n# Tools\n\nIn this tutorial we show how to use the built-in tools in AgentScope and\nhow to create custom tools.\n"
      ]
    },
    {
      "cell_type": "code",
      "execution_count": null,
      "metadata": {
        "collapsed": false
      },
      "outputs": [],
      "source": [
        "import json\n\nimport agentscope\nfrom agentscope.message import Msg"
      ]
    },
    {
      "cell_type": "markdown",
      "metadata": {},
      "source": [
        "## Using Built-in Tools\nAgentScope provides a `ServiceToolkit` module that supports\n\n- tool introduction generation,\n- a default call format,\n- response parsing, tools calling and agent-oriented error handling.\n\nBefore using `ServiceToolkit`, we can take a look at the available tools in\nthe `agentscope.service` module.\n\n"
      ]
    },
    {
      "cell_type": "code",
      "execution_count": null,
      "metadata": {
        "collapsed": false
      },
      "outputs": [],
      "source": [
        "from agentscope.service import get_help, ServiceResponse, ServiceExecStatus\n\nget_help()"
      ]
    },
    {
      "cell_type": "markdown",
      "metadata": {},
      "source": [
        "All above functions are implemented as Python functions.\nThey can be registered to the `ServiceToolkit` by calling the `add` method.\n\n"
      ]
    },
    {
      "cell_type": "code",
      "execution_count": null,
      "metadata": {
        "collapsed": false
      },
      "outputs": [],
      "source": [
        "from agentscope.service import ServiceToolkit\nfrom agentscope.service import bing_search, execute_shell_command\n\ntoolkit = ServiceToolkit()\ntoolkit.add(execute_shell_command)\n\n# Note some parameters of the tool functions (e.g. api_key) should be handled\n# by developers.\n# You can directly pass these parameters as keyword arguments in the add\n# method as follows, the reserved parameters will be left to the agent to fill.\n\ntoolkit.add(bing_search, api_key=\"xxx\")\n\nprint(\"The tools instruction:\")\nprint(toolkit.tools_instruction)"
      ]
    },
    {
      "cell_type": "markdown",
      "metadata": {},
      "source": [
        "## Using MCP with ServiceToolkit\nAgentScope provides support for integrating MCP (Model Context Protocol)\nservers, enabling enhanced capabilities for models and tools. You can add\nMCP servers to the `ServiceToolkit` using the `add_mcp_servers` method,\nwhere you specify the configurations for each server.\nPlease note that MCP requires Python version >= 3.10.\n\n"
      ]
    },
    {
      "cell_type": "code",
      "execution_count": null,
      "metadata": {
        "collapsed": false
      },
      "outputs": [],
      "source": [
        "configs = {\n    \"mcpServers\": {\n        \"puppeteer\": {\n            \"command\": \"npx\",\n            \"args\": [\"-y\", \"@modelcontextprotocol/server-puppeteer\"],\n        },\n    },\n}\n\n# Add MCP server configurations to the ServiceToolkit\n# `toolkit.add_mcp_servers(server_configs=configs)`"
      ]
    },
    {
      "cell_type": "markdown",
      "metadata": {},
      "source": [
        "The built-in default calling format:\n\n"
      ]
    },
    {
      "cell_type": "code",
      "execution_count": null,
      "metadata": {
        "collapsed": false
      },
      "outputs": [],
      "source": [
        "print(toolkit.tools_calling_format)"
      ]
    },
    {
      "cell_type": "markdown",
      "metadata": {},
      "source": [
        "The JSON Schema description of the tool functions:\n\n"
      ]
    },
    {
      "cell_type": "code",
      "execution_count": null,
      "metadata": {
        "collapsed": false
      },
      "outputs": [],
      "source": [
        "print(json.dumps(toolkit.json_schemas, indent=2))"
      ]
    },
    {
      "cell_type": "markdown",
      "metadata": {},
      "source": [
        "After assembling the `ServiceToolkit`, you can integrate it into agent.\nIn AgentScope, we provide a `ReActAgent` to handle the tool usage, you can\ndirectly pass the `ServiceToolkit` object into this agent.\nRefer to [] for implementation details of this agent.\n\n"
      ]
    },
    {
      "cell_type": "code",
      "execution_count": null,
      "metadata": {
        "collapsed": false
      },
      "outputs": [],
      "source": [
        "from agentscope.agents import ReActAgent\n\nagentscope.init(\n    model_configs={\n        \"config_name\": \"my-qwen-max\",\n        \"model_type\": \"dashscope_chat\",\n        \"model_name\": \"qwen-max\",\n    },\n)\n\nagent = ReActAgent(\n    name=\"Friday\",\n    model_config_name=\"my-qwen-max\",\n    service_toolkit=toolkit,\n    sys_prompt=\"You're a helpful assistant named Friday.\",\n)\n\nmsg_task = Msg(\"user\", \"Help me to calculate 1615114134*4343434343\", \"user\")\n\nres = agent(msg_task)\n\n# Recycle the toolkit instance\ndel toolkit"
      ]
    },
    {
      "cell_type": "markdown",
      "metadata": {},
      "source": [
        "## Creating Custom Tools\nA custom tool function must follow these rules:\n\n- Typing for arguments\n- Well-written docstring in Google style\n- The return of the function must be wrapped by `ServiceResponse`\n\n"
      ]
    },
    {
      "cell_type": "code",
      "execution_count": null,
      "metadata": {
        "collapsed": false
      },
      "outputs": [],
      "source": [
        "def new_function(arg1: str, arg2: int) -> ServiceResponse:\n    \"\"\"A brief introduction of this function in one line.\n\n    Args:\n        arg1 (`str`):\n            Brief description of arg1\n        arg2 (`int`):\n            Brief description of arg2\n    \"\"\"\n    return ServiceResponse(\n        status=ServiceExecStatus.SUCCESS,\n        content=\"Done!\",\n    )"
      ]
    }
  ],
  "metadata": {
    "kernelspec": {
      "display_name": "Python 3",
      "language": "python",
      "name": "python3"
    },
    "language_info": {
      "codemirror_mode": {
        "name": "ipython",
        "version": 3
      },
      "file_extension": ".py",
      "mimetype": "text/x-python",
      "name": "python",
      "nbconvert_exporter": "python",
      "pygments_lexer": "ipython3",
      "version": "3.10.16"
    }
  },
  "nbformat": 4,
  "nbformat_minor": 0
}