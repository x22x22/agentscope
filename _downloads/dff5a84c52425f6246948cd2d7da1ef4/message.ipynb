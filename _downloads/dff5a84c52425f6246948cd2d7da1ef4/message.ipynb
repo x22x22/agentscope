{
  "cells": [
    {
      "cell_type": "markdown",
      "metadata": {},
      "source": [
        "\n\n# Message\n\nMessage is a specialized data structure for information exchange.\nIn AgentScope, we use message to communicate among agents.\n\nA message consists of four fields: `name`, `role`, `content`, and `metadata`.\nThe types and meanings of these fields are as follows:\n\n.. list-table::\n    :header-rows: 1\n\n    * - Field\n    - Type\n    - Description\n    * - name\n    - `str`\n    - The name of the message sender\n    * - role\n    - `Literal[\"system\", \"assistant\", \"user\"]`\n    - The role of the message sender, which must be one of \"system\", \"assistant\", or \"user\".\n        \"system\" is commonly used for system prompt or system messages (e.g., tool execution);\n        \"assistant\" is usually LLM-empowered agents; \"user\" is for users.\n    * - content\n    - `Union[str, list[ContentBlock]]`\n    - The specific content of the message, which can be a string or a list of `ContentBlock`.\n        `ContentBlock` is a dictionary.\n    * - metadata\n    - `JSONSerializable`\n    - Used to store structured data, which can be any serializable object, such as structured output of agents.\n\n.. tip:: In multi-agent systems, when the `role` field is \"user\" or\n \"assistant\", the `name` field can have different values to distinguish\n different identities. When the `role` field is \"system\", the `name` field is\n usually fixed, such as \"system\".\n\n.. tip:: When the data in the message is used for controlling the flow\n or structured output, it is recommended to use the `metadata` field.\n"
      ]
    },
    {
      "cell_type": "code",
      "execution_count": null,
      "metadata": {
        "collapsed": false
      },
      "outputs": [],
      "source": [
        "from agentscope.message import Msg\nimport json"
      ]
    },
    {
      "cell_type": "markdown",
      "metadata": {},
      "source": [
        "## Create a Message\nMessage can be created by specifying the `name`, `role`, and `content` fields.\n\n"
      ]
    },
    {
      "cell_type": "code",
      "execution_count": null,
      "metadata": {
        "collapsed": false
      },
      "outputs": [],
      "source": [
        "msg = Msg(\n    name=\"Jarvis\",\n    role=\"assistant\",\n    content=\"Hi! How can I help you?\",\n)\n\nprint(f'The sender of the message: \"{msg.name}\"')\nprint(f'The role of the sender: \"{msg.role}\"')\nprint(f'The content of the message: \"{msg.content}\"')"
      ]
    },
    {
      "cell_type": "markdown",
      "metadata": {},
      "source": [
        "## Multimodal Message\nThe `content` field also supports multimodal content, such as text, image,\naudio, and video.\nAgentScope uses the concept of block to represent the content of a message.\nA block is a dictionary containing the type and content of the message,\nand the specific supported types are as follows:\n\n.. list-table::\n    :header-rows: 1\n\n    * - Class\n      - Description\n      - Example\n    * - TextBlock\n      - Text block\n      - `TextBlock(type=\"text\", text=\"\u4f60\u597d\")`\n    * - ImageBlock\n      - Image block\n      - `ImageBlock(type=\"image\", url=\"https://example.com/image.jpg\")`\n    * - AudioBlock\n      - Audio block\n      - `AudioBlock(type=\"audio\", url=\"https://example.com/audio.mp3\")`\n    * - VideoBlock\n      - Video block\n      - `VideoBlock(type=\"video\", url=\"https://example.com/video.mp4\")`\n    * - FileBlock\n      - File block\n      - `FileBlock(type=\"file\", url=\"https://example.com/file.zip\")`\n\nThe usage is as follows:\n\n"
      ]
    },
    {
      "cell_type": "code",
      "execution_count": null,
      "metadata": {
        "collapsed": false
      },
      "outputs": [],
      "source": [
        "from agentscope.message import (\n    TextBlock,\n    ImageBlock,\n    AudioBlock,\n)\n\nmsg_image = Msg(\n    name=\"Stank\",\n    role=\"user\",\n    content=[\n        TextBlock(type=\"text\", text=\"Describe this image for me.\"),\n        ImageBlock(type=\"image\", url=\"https://example.com/image.jpg\"),\n    ],\n)\n\nmsg_audio = Msg(\n    name=\"Stank\",\n    role=\"user\",\n    content=[\n        TextBlock(type=\"text\", text=\"Listen to this audio.\"),\n        AudioBlock(type=\"audio\", url=\"https://example.com/audio.mp3\"),\n    ],\n)"
      ]
    },
    {
      "cell_type": "markdown",
      "metadata": {},
      "source": [
        ".. tip:: For tools API, there are two additional blocks: `ToolUseBlock` and\n `ToolResultBlock`. Further reading refer to `tools`.\n\n## Serialize\nMessage can be serialized to a string in JSON format.\n\n"
      ]
    },
    {
      "cell_type": "code",
      "execution_count": null,
      "metadata": {
        "collapsed": false
      },
      "outputs": [],
      "source": [
        "serialized_msg = msg.to_dict()\n\nprint(type(serialized_msg))\nprint(json.dumps(serialized_msg, indent=4))"
      ]
    },
    {
      "cell_type": "markdown",
      "metadata": {},
      "source": [
        "## Deserialize\nDeserialize a message from a string in JSON format.\n\n"
      ]
    },
    {
      "cell_type": "code",
      "execution_count": null,
      "metadata": {
        "collapsed": false
      },
      "outputs": [],
      "source": [
        "new_msg = Msg.from_dict(serialized_msg)\n\nprint(new_msg)\nprint(f'The sender of the message: \"{new_msg.name}\"')\nprint(f'The role of the sender: \"{new_msg.role}\"')\nprint(f'The content of the message: \"{new_msg.content}\"')"
      ]
    }
  ],
  "metadata": {
    "kernelspec": {
      "display_name": "Python 3",
      "language": "python",
      "name": "python3"
    },
    "language_info": {
      "codemirror_mode": {
        "name": "ipython",
        "version": 3
      },
      "file_extension": ".py",
      "mimetype": "text/x-python",
      "name": "python",
      "nbconvert_exporter": "python",
      "pygments_lexer": "ipython3",
      "version": "3.10.17"
    }
  },
  "nbformat": 4,
  "nbformat_minor": 0
}