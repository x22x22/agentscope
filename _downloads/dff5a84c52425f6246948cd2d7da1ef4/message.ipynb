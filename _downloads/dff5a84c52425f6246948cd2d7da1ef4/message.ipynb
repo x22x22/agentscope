{
  "cells": [
    {
      "cell_type": "markdown",
      "metadata": {},
      "source": [
        "\n\n# Message\n\nMessage is a specialized data structure for information exchange.\nIn AgentScope, we use message to communicate among agents.\n\nThe most important fields of a message are: `name`, `role`, and `content`.\nThe `name and `role` fields identify the sender of the message, and the\n`content` field contains the actual information.\n\n.. Note:: The `role` field must be chosen from `\"system\"`, `\"assistant\"` and `\"user\"`.\n"
      ]
    },
    {
      "cell_type": "code",
      "execution_count": null,
      "metadata": {
        "collapsed": false
      },
      "outputs": [],
      "source": [
        "from agentscope.message import Msg\nimport json"
      ]
    },
    {
      "cell_type": "markdown",
      "metadata": {},
      "source": [
        "## Create a Message\nMessage can be created by specifying the `name`, `role`, and `content` fields.\n\n"
      ]
    },
    {
      "cell_type": "code",
      "execution_count": null,
      "metadata": {
        "collapsed": false
      },
      "outputs": [],
      "source": [
        "msg = Msg(\n    name=\"Jarvis\",\n    role=\"assistant\",\n    content=\"Hi! How can I help you?\",\n)\n\nprint(f'The sender of the message: \"{msg.name}\"')\nprint(f'The role of the sender: \"{msg.role}\"')\nprint(f'The content of the message: \"{msg.content}\"')"
      ]
    },
    {
      "cell_type": "markdown",
      "metadata": {},
      "source": [
        "## Serialize\nMessage can be serialized to a string in JSON format.\n\n"
      ]
    },
    {
      "cell_type": "code",
      "execution_count": null,
      "metadata": {
        "collapsed": false
      },
      "outputs": [],
      "source": [
        "serialized_msg = msg.to_dict()\n\nprint(type(serialized_msg))\nprint(json.dumps(serialized_msg, indent=4))"
      ]
    },
    {
      "cell_type": "markdown",
      "metadata": {},
      "source": [
        "## Deserialize\nDeserialize a message from a string in JSON format.\n\n"
      ]
    },
    {
      "cell_type": "code",
      "execution_count": null,
      "metadata": {
        "collapsed": false
      },
      "outputs": [],
      "source": [
        "new_msg = Msg.from_dict(serialized_msg)\n\nprint(new_msg)\nprint(f'The sender of the message: \"{new_msg.name}\"')\nprint(f'The role of the sender: \"{new_msg.role}\"')\nprint(f'The content of the message: \"{new_msg.content}\"')"
      ]
    }
  ],
  "metadata": {
    "kernelspec": {
      "display_name": "Python 3",
      "language": "python",
      "name": "python3"
    },
    "language_info": {
      "codemirror_mode": {
        "name": "ipython",
        "version": 3
      },
      "file_extension": ".py",
      "mimetype": "text/x-python",
      "name": "python",
      "nbconvert_exporter": "python",
      "pygments_lexer": "ipython3",
      "version": "3.10.16"
    }
  },
  "nbformat": 4,
  "nbformat_minor": 0
}