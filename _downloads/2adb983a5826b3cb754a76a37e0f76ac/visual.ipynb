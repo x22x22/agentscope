{
  "cells": [
    {
      "cell_type": "markdown",
      "metadata": {},
      "source": [
        "\n\n# Visual Interface\n\nAgentScope supports AgentScope Studio and Gradio web visualization, and also\nsupports users to connect to custom or third-party visualization platforms.\n\n## AgentScope Studio\n\nAgentScope Studio is implemented using React (vite) and\nNodeJS, designed for application visualization and execution monitoring (including API invocation tracking and token usage monitoring).\n\n<div class=\"alert alert-info\"><h4>Note</h4><p>Currently, AgentScope Studio is under rapid development, with</p></div>\n continuous iterations in UI, functionality, and performance. We welcome\n any feedback, contributions, or suggestions!\n\n<img src=\"https://img.alicdn.com/imgextra/i1/O1CN01wrmPHM1GFBWSvufAt_!!6000000000592-0-tps-3104-1782.jpg\" class=\"bordered-image\">\n\n### Installation\n\nFirst, you need to install npm.\n\n```bash\n# MacOS\nbrew install node\n\n# Ubuntu\nsudo apt update\nsudo apt install nodejs npm\n\n# For Windows, please visit https://nodejs.org/ for installation\n```\nThen, install AgentScope Studio using the following command:\n\n```bash\nnpm install -g @agentscope/studio\n```\n### Start\n\nRun the following command in the terminal to start AgentScope Studio:\n\n```bash\nas_studio\n```\n### Usage\n\nWhen starting an AgentScope Python program, connect to AgentScope Studio\nby using the `agentscope.init` function with the `studio_url` field.\n\n```python\nimport agentscope\n\nagentscope.init(\n    # ...\n    studio_url=\"https://localhost:3000\"  # Replace with your local AgentScope Studio address\n)\n\n# ...\n```\n<div class=\"alert alert-info\"><h4>Note</h4><p>Once connected, the messages printed by the `speak` function of all</p></div>\n agent instances will be forwarded to AgentScope Studio. Meanwhile, the input\n operation of `UserAgent` in the program will be transferred from the terminal\n to the Dashboard panel of AgentScope Studio.\n\n<img src=\"https://img.alicdn.com/imgextra/i1/O1CN01bFa0I61VHfuckdckm_!!6000000002628-0-tps-3104-1782.jpg\" class=\"bordered-image\" alt=\"Dashboard panel\">\n\nThe Dashboard panel will organize the applications by the `project` field\npassed to the `agentscope.init` function.\n\nWhen user input is required, the input button on the dialog interface\nwill prompt for input. When no input is needed, the input button will be\ndisabled.\n\n<img src=\"https://img.alicdn.com/imgextra/i4/O1CN01eCEYvA1ueuOkien7T_!!6000000006063-1-tps-960-600.gif\" class=\"bordered-image\">\n\n## Gradio\n\nFirst ensure you have installed the full version of AgentScope, which\nincludes the Gradio package.\n\n```bash\n# From pypi\npip install agentscope[full]\n\n# From source code\ncd agentscope\npip install .[full]\n```\nAfter that, ensure your application is wrapped by a `main` function.\n\n```python\nfrom agentscope.agents import DialogAgent, UserAgent\nimport agentscope\n\n\ndef main():\n    # Your code here\n    agentscope.init(model_configs={\n        \"config_name\": \"my-qwen-max\",\n        \"model_type\": \"dashscope_chat\",\n        \"model_name\": \"qwen-max\"\n    })\n\n    agent = DialogAgent(\n        name=\"Alice,\n        model_config_name=\"my-qwen-max\",\n        sys_prompt=\"You're a helpful assistant named Alice.\"\n    )\n    user = UserAgent(agent)\n\n    msg = None\n    while True:\n        msg = agent(msg)\n        msg = user(msg)\n        if msg.content == \"exit\":\n            break\n```\nThen execute the following command in the terminal to start the Gradio UI:\n\n.. code-block :: bash\n\n    as_gradio {path_to_your_python_code}\n\nFinally, you can visit the Gradio UI as follows:\n\n<img src=\"https://img.alicdn.com/imgextra/i1/O1CN0181KSfH1oNbfzjUAVT_!!6000000005213-0-tps-3022-1530.jpg\" class=\"bordered-image\">\n\n## Custom Visualization\n\nCustom visualization is consisted of two parts:\n\n- Message display: Forward the output printed by the `speak` function of the agent to the place where it needs to be displayed.\n- User input: Transfer the **input operation** in `UserAgent` to the target platform, so that the user can input from the target platform.\n\nIn AgentScope, we implemented them by `pre_speak_hook` in the agent\nand `override_input_method` method in `UserAgent` (AgentScope Studio and\nGradio are implemented in the same way).\n\n#### Message Display\n\nFirst, we build a pre-speak hook function\n"
      ]
    },
    {
      "cell_type": "code",
      "execution_count": null,
      "metadata": {
        "collapsed": false
      },
      "outputs": [],
      "source": [
        "from pydantic import BaseModel\n\nfrom agentscope.agents import AgentBase\nfrom agentscope.message import Msg, TextBlock, ImageBlock\nfrom typing import Union, Any, Optional\n\n\ndef pre_speak_hook(\n    self: AgentBase,\n    msg: Msg,\n    stream: bool,\n    last: bool,\n) -> Union[Msg, None]:\n    \"\"\"The pre speak hook function to forward printing message\"\"\"\n    # Forward the input message to the place where it needs to be displayed,\n    # for example, using requests.post to push the message\n    # ...\n    return None"
      ]
    },
    {
      "cell_type": "markdown",
      "metadata": {},
      "source": [
        "Then register the hook function. Note that you can control the scope of\nthe hook function, which can be at the class level or at the instance level\n\n"
      ]
    },
    {
      "cell_type": "code",
      "execution_count": null,
      "metadata": {
        "collapsed": false
      },
      "outputs": [],
      "source": [
        "# Class-level registration, all instances of AgentBase and its subclasses will register this hook function\nAgentBase.register_class_hook(\n    \"pre_speak\",\n    \"customized_pre_speak_hook\",\n    pre_speak_hook,\n)"
      ]
    },
    {
      "cell_type": "markdown",
      "metadata": {},
      "source": [
        "Of course, you can also register it for a specific agent instance\n\n```python\nagent = DialogAgent(\n    # ...\n)\nagent.register_hook(\n    \"pre_speak\",\n    \"customized_pre_speak_hook\",\n    pre_speak_hook\n)\n```\n.. tip:: For more information about hook functions, please refer to the `hook` chapter\n\n#### User Input\nTo transfer user input, you need to implement a subclass of `UserInputBase`\nand implement the `__call__` function. This function will be triggered within the `reply` function of\n`UserAgent`, notifying the target visualization platform that user input is\nneeded, and get the actual input from the user.\n\n.. tip:: You can refer to the implementation of `agentscope.agents.TerminalUserInput` and `agentscope.agents.StudioUserInput` in AgentScope\n\n"
      ]
    },
    {
      "cell_type": "code",
      "execution_count": null,
      "metadata": {
        "collapsed": false
      },
      "outputs": [],
      "source": [
        "from agentscope.agents import UserInputBase, UserInputData\n\n\nclass CustomizedUserInput(UserInputBase):\n    def __call__(\n        self,\n        agent_id: str,\n        agent_name: str,\n        *args: Any,\n        structured_schema: Optional[BaseModel] = None,\n        **kwargs: dict,\n    ) -> UserInputData:\n        \"\"\"Inform the target platform that user input is needed and get the\n        user input.\n\n        Args:\n            agent_id (`str`):\n                The ID of the agent.\n            agent_name (`str`):\n                The name of the agent.\n            structured_schema (`Optional[BaseModel]`, defaults to `None`):\n                The json schema for required structured input.\n        \"\"\"\n        # ...\n        return UserInputData(\n            blocks_input=[\n                # Replace with actual input, which can be text or multimodal input\n                TextBlock(type=\"text\", text=\"Hi!\"),\n                ImageBlock(type=\"image\", url=\"http://xxx.png\"),\n            ],\n            structured_input=None,\n        )"
      ]
    },
    {
      "cell_type": "markdown",
      "metadata": {},
      "source": [
        "Then register the input method in `UserAgent`. Note that this registration\nwill override the default input method `TerminalUserInput`.\n\n```python\nUserAgent.override_class_input_method(\n    input_method=CustomizedUserInput()\n)\n```\n.. tip:: `UserAgent` also supports instance and class-level registration,\n corresponding to `override_input_method` and `override_class_input_method`.\n They will override the input method of the current instance or class\n respectively.\n\n"
      ]
    }
  ],
  "metadata": {
    "kernelspec": {
      "display_name": "Python 3",
      "language": "python",
      "name": "python3"
    },
    "language_info": {
      "codemirror_mode": {
        "name": "ipython",
        "version": 3
      },
      "file_extension": ".py",
      "mimetype": "text/x-python",
      "name": "python",
      "nbconvert_exporter": "python",
      "pygments_lexer": "ipython3",
      "version": "3.10.17"
    }
  },
  "nbformat": 4,
  "nbformat_minor": 0
}