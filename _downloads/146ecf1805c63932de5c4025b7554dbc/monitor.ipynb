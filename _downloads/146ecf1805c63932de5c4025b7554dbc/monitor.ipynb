{
  "cells": [
    {
      "cell_type": "markdown",
      "metadata": {},
      "source": [
        "\n\n# Configuring and Monitoring\n\nThe main entry of AgentScope is `agentscope.init`, where you can configure your application.\n"
      ]
    },
    {
      "cell_type": "code",
      "execution_count": null,
      "metadata": {
        "collapsed": false
      },
      "outputs": [],
      "source": [
        "import agentscope\n\n\nagentscope.init(\n    model_configs=[\n        {  # The model configurations\n            \"config_name\": \"my-qwen-max\",\n            \"model_type\": \"dashscope_chat\",\n            \"model_name\": \"qwen-max\",\n        },\n    ],\n    project=\"Project Alpha\",  # The project name\n    name=\"Test-1\",  # The runtime name\n    disable_saving=False,  # The main switch to disable saving\n    save_dir=\"./runs\",  # The saving directory\n    save_log=True,  # Save the logging or not\n    save_code=False,  # Save the code for this runtime\n    save_api_invoke=False,  # Save the API invocation\n    cache_dir=\"~/.cache\",  # The cache directory, used for caching embeddings and so on\n    use_monitor=True,  # Monitor the token usage or not\n    logger_level=\"INFO\",  # The logger level\n)"
      ]
    },
    {
      "cell_type": "markdown",
      "metadata": {},
      "source": [
        "## Exporting the configuration\nThe `state_dict` method can be used to export the configuration of the running application.\n\n"
      ]
    },
    {
      "cell_type": "code",
      "execution_count": null,
      "metadata": {
        "collapsed": false
      },
      "outputs": [],
      "source": [
        "import json\n\nprint(json.dumps(agentscope.state_dict(), indent=2, ensure_ascii=False))"
      ]
    },
    {
      "cell_type": "markdown",
      "metadata": {},
      "source": [
        "## Monitoring the Runtime\nAgentScope provides AgentScope Studio, a web visual interface to monitor and manage the running applications and histories.\nRefer to section `visual` for more details.\n\n"
      ]
    },
    {
      "cell_type": "markdown",
      "metadata": {},
      "source": [
        "\n## Monitoring Token Usage\n`print_llm_usage` will print and return the token usage of the current running application.\n\n"
      ]
    },
    {
      "cell_type": "code",
      "execution_count": null,
      "metadata": {
        "collapsed": false
      },
      "outputs": [],
      "source": [
        "from agentscope.models import DashScopeChatWrapper\n\nqwen_max = DashScopeChatWrapper(\n    config_name=\"-\",\n    model_name=\"qwen-max\",\n)\nqwen_plus = DashScopeChatWrapper(\n    config_name=\"-\",\n    model_name=\"qwen-plus\",\n)\n\n# Call qwen-max and qwen-plus to simulate the token usage\n_ = qwen_max([{\"role\": \"user\", \"content\": \"Hi!\"}])\n_ = qwen_plus([{\"role\": \"user\", \"content\": \"Who are you?\"}])\n\nusage = agentscope.print_llm_usage()\n\nprint(json.dumps(usage, indent=2, ensure_ascii=False))"
      ]
    }
  ],
  "metadata": {
    "kernelspec": {
      "display_name": "Python 3",
      "language": "python",
      "name": "python3"
    },
    "language_info": {
      "codemirror_mode": {
        "name": "ipython",
        "version": 3
      },
      "file_extension": ".py",
      "mimetype": "text/x-python",
      "name": "python",
      "nbconvert_exporter": "python",
      "pygments_lexer": "ipython3",
      "version": "3.10.17"
    }
  },
  "nbformat": 4,
  "nbformat_minor": 0
}