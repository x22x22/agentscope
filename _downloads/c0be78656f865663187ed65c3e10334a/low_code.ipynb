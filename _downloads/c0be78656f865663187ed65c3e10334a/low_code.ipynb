{
  "cells": [
    {
      "cell_type": "markdown",
      "metadata": {},
      "source": [
        "\n\n# Low-code Development\n\n.. important:: The new AgentScope low-code development platform is coming soon. Starting from version 0.1.5, the existing workstation code will be removed from the main repository, and the following features will be unavailable.\n\nThis tutorial introduces how to build multi-agent application with\ndrag-and-drop interface in AgentScope Workstation.\n\n## Workstation\n\nThe workstation is now integrated in `agentscope-studio`.\nIt provides zero-code users with a much easier way to build multi-agent\napplications.\n\n<div class=\"alert alert-info\"><h4>Note</h4><p>Workstation is under active development, and the interface may change in the future.</p></div>\n\n## Staring Workstation\n\nFirst ensure you have installed the latest version of AgentScope.\n\nLaunch AgentScope Studio to start the workstation by executing the following\npython code:\n\n```python\nimport agentscope\nagentscope.studio.init()\n```\nOr run the following bash command in the terminal:\n\n```bash\nas_studio\n```\nThen visit AgentScope Studio at `https://127.0.0.1:5000`, and enter\nWorkstation by clicking the workstation icon in the sidebar.\n\n\n* **Central workspace**: The main area where you can drag and drop components\nto build your application.\n\n* **Top toolbox**: To import, export, check, and run your application.\n\n<img src=\"https://img.alicdn.com/imgextra/i1/O1CN01RXAVVn1zUtjXVvuqS_!!6000000006718-1-tps-3116-1852.gif\">\n\n### Explore Built-in Examples\n\nFor beginners, we highly recommend starting with the pre-built examples to get\nstarted. You have the option to directly click on an example to import it\ninto your central workspace. Alternatively, for a more structured learning\nexperience, you can opt to follow along with the tutorials linked to each\nexample. These tutorials will walk you through how each multi-agent\napplication is built on AgentScope Workstation step-by-step.\n\n### Build Your Application\n\nTo build an application, following these steps:\n\n* Choose & drag component: Click and drag your chosen component from sidebar into the central workspace area.\n\n* Connect nodes: Most nodes come with input and output points. Click on an output point of one component and drag it to an input point of another to create a message flow pipeline. This process allows different nodes to pass messages.\n\n* Configure nodes: After dropping your nodes into the workspace, click on any of them to fill in their configuration settings. You can customize the prompts, parameters, and other properties.\n\n### Run Your Application\n\nOnce the application is built, click on the \u201cRun\u201d button. Before running, the\nworkstation will check your application for any errors. If there are any, you\nwill be prompted to correct them before proceeding. After that, your\napplication will be executed in the same Python environment as the AgentScope\nStudio, and you can find it in the Dashboard.\n\n### Import or Export Your Application\n\nWorkstation supports to import and export your application. Click the\n\u201cExport HTML\u201d or \u201cExport Python\u201d button to generate code that you can\ndistribute to the community or save locally. If you want to convert the\nexported code to Python, you can compile the JSON configuration to Python\ncode as follows:\n\n```bash\n# Compile\nas_workflow config.json --compile ${YOUR_PYTHON_SCRIPT_NAME}.py\n```\nIf you want to run your local config directly, you can use the following\ncommand:\n\n```bash\n# Run\nas_gradio config.json\n```\nWant to edit your application further? Simply click the \u201cImport HTML\u201d button\nto upload your previously exported HTML code back into the AgentScope\nWorkstation.\n\n### Check Your Application\n\nAfter building your application, you can click the \u201cCheck\u201d button to verify the correctness of your application structure. The following checking rules will be performed:\n\n* Presence of Model and Agent: Every application must include at least one model node and one agent node.\n\n* Single Connection Policy: A component should not have more than one connection for each input.\n\n* Mandatory Fields Validation: All required input fields must be populated to ensure that each node has the necessary args to operate correctly.\n\n* Consistent Configuration Naming: The \u2018Model config name\u2019 used by Agent nodes must correspond to a \u2018Config Name\u2019 defined in a Model node.\n\n* Proper Node Nesting: Nodes like ReActAgent should only contain the tool nodes. Similarly, Pipeline nodes like IfElsePipeline should contain the correct number of elements (no more than 2), and ForLoopPipeline, WhileLoopPipeline, and MsgHub should follow the one-element-only rule (must be a SequentialPipeline as a child node).\n"
      ]
    }
  ],
  "metadata": {
    "kernelspec": {
      "display_name": "Python 3",
      "language": "python",
      "name": "python3"
    },
    "language_info": {
      "codemirror_mode": {
        "name": "ipython",
        "version": 3
      },
      "file_extension": ".py",
      "mimetype": "text/x-python",
      "name": "python",
      "nbconvert_exporter": "python",
      "pygments_lexer": "ipython3",
      "version": "3.10.17"
    }
  },
  "nbformat": 4,
  "nbformat_minor": 0
}