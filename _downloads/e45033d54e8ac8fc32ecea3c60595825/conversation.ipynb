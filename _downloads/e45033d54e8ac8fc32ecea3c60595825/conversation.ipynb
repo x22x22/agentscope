{
  "cells": [
    {
      "cell_type": "markdown",
      "metadata": {},
      "source": [
        "\n\n# Build Conversation\n\nAgentScope supports developers to build conversation with explicit message exchange among different agents.\n"
      ]
    },
    {
      "cell_type": "code",
      "execution_count": null,
      "metadata": {
        "collapsed": false
      },
      "outputs": [],
      "source": [
        "from agentscope.agents import DialogAgent, UserAgent\nfrom agentscope.message import Msg\nfrom agentscope import msghub\nimport agentscope\n\n# Initialize via model configuration for simplicity\nagentscope.init(\n    model_configs={\n        \"config_name\": \"my-qwen-max\",\n        \"model_name\": \"qwen-max\",\n        \"model_type\": \"dashscope_chat\",\n    },\n)"
      ]
    },
    {
      "cell_type": "markdown",
      "metadata": {},
      "source": [
        "## Two Agents\nHere we build a simple conversation between agent `Jarvis` and user.\n\n"
      ]
    },
    {
      "cell_type": "code",
      "execution_count": null,
      "metadata": {
        "collapsed": false
      },
      "outputs": [],
      "source": [
        "angel = DialogAgent(\n    name=\"Angel\",\n    sys_prompt=\"You're a helpful assistant named Angel.\",\n    model_config_name=\"my-qwen-max\",\n)\n\nmonster = DialogAgent(\n    name=\"Monster\",\n    sys_prompt=\"You're a helpful assistant named Monster.\",\n    model_config_name=\"my-qwen-max\",\n)"
      ]
    },
    {
      "cell_type": "markdown",
      "metadata": {},
      "source": [
        "Now, we can start the conversation by exchanging messages between these two agents for three rounds.\n\n"
      ]
    },
    {
      "cell_type": "code",
      "execution_count": null,
      "metadata": {
        "collapsed": false
      },
      "outputs": [],
      "source": [
        "msg = None\nfor _ in range(3):\n    msg = angel(msg)\n    msg = monster(msg)"
      ]
    },
    {
      "cell_type": "markdown",
      "metadata": {},
      "source": [
        "If you want to participate in the conversation, just instantiate a built-in `UserAgent` to type messages to the agents.\n\n"
      ]
    },
    {
      "cell_type": "code",
      "execution_count": null,
      "metadata": {
        "collapsed": false
      },
      "outputs": [],
      "source": [
        "user = UserAgent(name=\"User\")"
      ]
    },
    {
      "cell_type": "markdown",
      "metadata": {},
      "source": [
        "## More than Two Agents\nWhen there are more than two agents in a conversation, the message from one agent should be broadcasted to all the others.\n\nTo simplify the operation of broadcasting messages, AgentScope provides a `msghub` module.\nSpecifically, the agents within the same `msghub` will receive messages from other participants in the same `msghub` automatically.\nBy this way, we just need to organize the order of speaking without explicitly sending messages to other agents.\n\nHere is a example for `msghub`, we first create three agents: `Alice`, `Bob`, and `Charlie` with `qwen-max` model.\n\n"
      ]
    },
    {
      "cell_type": "code",
      "execution_count": null,
      "metadata": {
        "collapsed": false
      },
      "outputs": [],
      "source": [
        "alice = DialogAgent(\n    name=\"Alice\",\n    sys_prompt=\"You're a helpful assistant named Alice.\",\n    model_config_name=\"my-qwen-max\",\n)\n\nbob = DialogAgent(\n    name=\"Bob\",\n    sys_prompt=\"You're a helpful assistant named Bob.\",\n    model_config_name=\"my-qwen-max\",\n)\n\ncharlie = DialogAgent(\n    name=\"Charlie\",\n    sys_prompt=\"You're a helpful assistant named Charlie.\",\n    model_config_name=\"my-qwen-max\",\n)"
      ]
    },
    {
      "cell_type": "markdown",
      "metadata": {},
      "source": [
        "The three agents will participate in a conversation to report numbers alternatively.\n\n"
      ]
    },
    {
      "cell_type": "code",
      "execution_count": null,
      "metadata": {
        "collapsed": false
      },
      "outputs": [],
      "source": [
        "# Introduce the rule of the conversation\ngreeting = Msg(\n    name=\"user\",\n    content=\"Now you three count off each other from 1, and just report the number without any other information.\",\n    role=\"user\",\n)\n\nwith msghub(\n    participants=[alice, bob, charlie],\n    announcement=greeting,  # The announcement message will be broadcasted to all participants at the beginning.\n) as hub:\n    # The first round of the conversation\n    alice()\n    bob()\n    charlie()\n\n    # We can manage the participants dynamically, e.g. delete an agent from the conversation.\n    hub.delete(charlie)\n\n    # Broadcast a message to all participants\n    hub.broadcast(\n        Msg(\n            \"user\",\n            \"Charlie has left the conversation.\",\n            \"user\",\n        ),\n    )\n\n    # The second round of the conversation\n    alice()\n    bob()\n    charlie()"
      ]
    },
    {
      "cell_type": "markdown",
      "metadata": {},
      "source": [
        "Now we print the memory of Alice and Bob to check if the operation is successful.\n\n"
      ]
    },
    {
      "cell_type": "code",
      "execution_count": null,
      "metadata": {
        "collapsed": false
      },
      "outputs": [],
      "source": [
        "print(\"Memory of Alice:\")\nfor msg in alice.memory.get_memory():\n    print(f\"{msg.name}: {msg.content}\")\n\nprint(\"\\nMemory of Charlie:\")\nfor msg in charlie.memory.get_memory():\n    print(f\"{msg.name}: {msg.content}\")"
      ]
    },
    {
      "cell_type": "markdown",
      "metadata": {},
      "source": [
        "In the above example, Charlie left the conversation after the first round without receiving \"4\" and \"5\" from Alice and Bob.\nTherefore, it reported \"4\" in the second round.\nOn the other hand, Alice and Bob continued the conversation without Charlie.\n\n"
      ]
    }
  ],
  "metadata": {
    "kernelspec": {
      "display_name": "Python 3",
      "language": "python",
      "name": "python3"
    },
    "language_info": {
      "codemirror_mode": {
        "name": "ipython",
        "version": 3
      },
      "file_extension": ".py",
      "mimetype": "text/x-python",
      "name": "python",
      "nbconvert_exporter": "python",
      "pygments_lexer": "ipython3",
      "version": "3.10.17"
    }
  },
  "nbformat": 4,
  "nbformat_minor": 0
}