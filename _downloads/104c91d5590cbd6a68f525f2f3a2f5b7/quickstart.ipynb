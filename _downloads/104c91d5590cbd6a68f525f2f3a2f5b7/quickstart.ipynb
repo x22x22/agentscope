{
  "cells": [
    {
      "cell_type": "markdown",
      "metadata": {},
      "source": [
        "\n\n# Quick Start\n\nAgentScope requires Python 3.9 or higher. You can install from source or pypi.\n\n## From PyPI\n```bash\npip install agentscope\n```\n## From Source\nTo install AgentScope from source, you need to clone the repository from\nGitHub and install by the following commands\n\n```bash\ngit clone https://github.com/modelscope/agentscope\ncd agentscope\npip install -e .\n```\nTo ensure AgentScope is installed normally. You can execute the following code:\n"
      ]
    },
    {
      "cell_type": "code",
      "execution_count": null,
      "metadata": {
        "collapsed": false
      },
      "outputs": [],
      "source": [
        "import agentscope\n\nprint(agentscope.__version__)"
      ]
    },
    {
      "cell_type": "markdown",
      "metadata": {},
      "source": [
        "## Extra Dependencies\n\nAgentScope provides extra dependencies for different demands. You can\ninstall them according to your demands.\n\n- ollama: Ollama API\n- litellm: Litellm API\n- zhipuai: Zhipuai API\n- gemini: Gemini API\n- anthropic: Anthropic API\n- service: The dependencies for different tool functions\n- distribute: The dependencies for distribution mode\n- full: All the dependencies\n\nTaking distribution mode as an example, the installation command differs\naccording to your operation OS.\n\nFor Windows users:\n\n```bash\npip install agentscope[gemini]\n# or\npip install agentscope[ollama,distribute]\n```\nFor Mac and Linux users:\n\n```bash\npip install agentscope\\[gemini\\]\n# or\npip install agentscope\\[ollama,distribute\\]\n```\n"
      ]
    }
  ],
  "metadata": {
    "kernelspec": {
      "display_name": "Python 3",
      "language": "python",
      "name": "python3"
    },
    "language_info": {
      "codemirror_mode": {
        "name": "ipython",
        "version": 3
      },
      "file_extension": ".py",
      "mimetype": "text/x-python",
      "name": "python",
      "nbconvert_exporter": "python",
      "pygments_lexer": "ipython3",
      "version": "3.10.17"
    }
  },
  "nbformat": 4,
  "nbformat_minor": 0
}