{
  "cells": [
    {
      "cell_type": "markdown",
      "metadata": {},
      "source": [
        "\n\n# \u53ef\u89c6\u5316\n\nAgentScope \u652f\u6301\u57fa\u4e8e AgentScope Studio \u548c Gradio \u7684\u7f51\u9875\u53ef\u89c6\u5316\uff0c\u540c\u65f6\u652f\u6301\u7528\u6237\u5bf9\u63a5\u81ea\u5b9a\u4e49\u6216\u7b2c\u4e09\u65b9\u7684\u53ef\u89c6\u5316\u5e73\u53f0\u3002\n\n\n## AgentScope Studio\n\nAgentScope Studio \u662f\u57fa\u4e8e React(vite) \u548c NodeJS \u5f00\u53d1\u7684 WebUI \u5de5\u5177\uff0c\u7528\u4e8e\u5e94\u7528\u7684\u53ef\u89c6\u5316\uff0c\u548c\u76d1\u63a7\u5e94\u7528\u8fd0\u884c\uff0c\u76d1\u63a7 API \u8c03\u7528\u4ee5\u53ca Token \u4f7f\u7528\u60c5\u51b5\u3002\n\n<img src=\"https://img.alicdn.com/imgextra/i1/O1CN01wrmPHM1GFBWSvufAt_!!6000000000592-0-tps-3104-1782.jpg\" class=\"bordered-image\">\n\n<div class=\"alert alert-info\"><h4>Note</h4><p>\u76ee\u524d AgentScope Studio \u5904\u4e8e\u5feb\u901f\u5f00\u53d1\u4e2d\uff0c\u5305\u62ec UI\uff0c\u529f\u80fd\u548c\u6027\u80fd\u7b49\u65b9\u9762\u90fd\u5728\u4e0d\u65ad\u8fed\u4ee3\u4e2d\uff0c\u6b22\u8fce\u4efb\u4f55\u53cd\u9988\u3001\u8d21\u732e\u6216\u5efa\u8bae!</p></div>\n\n### \u5b89\u88c5\n\n\u9996\u5148\u9700\u8981\u5b89\u88c5 npm\n\n```bash\n# MacOS\nbrew install node\n\n# Ubuntu\nsudo apt update\nsudo apt install nodejs npm\n\n# Windows \u8bf7\u8bbf\u95ee https://nodejs.org/ \u8fdb\u884c\u5b89\u88c5\n```\n\u901a\u8fc7\u4ee5\u4e0b\u547d\u4ee4\u8fdb\u884c\u5b89\u88c5\n\n```bash\nnpm install -g @agentscope/studio\n```\n### \u542f\u52a8\n\n\u5728\u547d\u4ee4\u53f0\u901a\u8fc7\u5982\u4e0b\u547d\u4ee4\u542f\u52a8\n\n```bash\nas_studio\n```\n### \u4f7f\u7528\n\n\u542f\u52a8 AgentScope \u7684 Python \u7a0b\u5e8f\u65f6\uff0c\u901a\u8fc7 `agentscope.init` \u51fd\u6570\u4e2d\u7684 `studio_url` \u5b57\u6bb5\u8fde\u63a5 AgentScope Studio\u3002\n\n```python\nimport agentscope\n\nagentscope.init(\n    # ...\n    studio_url=\"https://localhost:3000\"  # \u66ff\u6362\u6210\u4f60\u672c\u5730\u7684 AgentScope Studio \u5730\u5740\n)\n\n# ...\n```\n<div class=\"alert alert-info\"><h4>Note</h4><p>\u4e00\u65e6\u8fde\u63a5\uff0cPython \u7a0b\u5e8f\u4e2d\u6240\u6709\u667a\u80fd\u4f53\u5bf9\u8c61\u8c03\u7528 `speak` \u51fd\u6570\u6253\u5370\u51fa\u7684\u8f93\u51fa\u90fd\u5c06\u8f6c\u53d1</p></div>\n \u5230 AgentScope Studio\uff0c\u540c\u65f6\u7a0b\u5e8f\u4e2d\u7684 `UserAgent` \u7684\u8f93\u5165\u64cd\u4f5c\u4e5f\u5c06\u4ece\u7ec8\u7aef\u8f6c\u79fb\u5230 AgentScope\n Studio \u7684 Dashboard \u9762\u677f\u4e2d\u3002\n\n<img src=\"https://img.alicdn.com/imgextra/i1/O1CN01bFa0I61VHfuckdckm_!!6000000002628-0-tps-3104-1782.jpg\" class=\"bordered-image\" caption=\"Dashboard \u9875\u9762\">\n\nStudio \u4e2d\u7684 Dashboard \u9875\u9762\u5c06\u6309\u7167 `agentscope.init` \u51fd\u6570\u4e2d\u4f20\u5165\u7684 `project` \u53c2\u6570\u5bf9\u7a0b\u5e8f\n\u8fdb\u884c\u5206\u7ec4\uff0c\u70b9\u51fb\u540e\u5373\u53ef\u67e5\u770b\u8be5\u9879\u76ee\u5206\u7ec4\u5185\u6240\u6709\u5386\u53f2\u8fd0\u884c\u60c5\u51b5\u3002\n\n\u9700\u8981\u7528\u6237\u8fdb\u884c\u8f93\u5165\u65f6\uff0c\u5bf9\u8bdd\u754c\u9762\u7684\u8f93\u5165\u6309\u952e\u4f1a\u8fdb\u884c\u63d0\u793a\uff0c\u4e0d\u9700\u8981\u8f93\u5165\u65f6\uff0c\u8f93\u5165\u6309\u94ae\u4f1a\u5904\u4e8e\u7981\u7528\u72b6\u6001\u3002\n\n<img src=\"https://img.alicdn.com/imgextra/i4/O1CN01eCEYvA1ueuOkien7T_!!6000000006063-1-tps-960-600.gif\" class=\"bordered-image\">\n\n## Gradio\n\n\u9996\u5148\uff0c\u8bf7\u786e\u4fdd\u5df2\u5b89\u88c5\u5b8c\u6574\u7248\u672c\u7684 AgentScope, \u5176\u4e2d\u5305\u542b Gradio \u5305\u3002\n\n```bash\n# From pypi\npip install agentscope[full]\n\n# From source code\ncd agentscope\npip install .[full]\n```\n\u4e4b\u540e\uff0c\u8bf7\u786e\u4fdd\u60a8\u7684\u5e94\u7528\u7a0b\u5e8f\u88ab\u5c01\u88c5\u5728\u4e00\u4e2a `main` \u51fd\u6570\u4e2d\u3002\n\n```python\nfrom agentscope.agents import DialogAgent, UserAgent\nimport agentscope\n\n\ndef main():\n    # Your code here\n    agentscope.init(model_configs={\n        \"config_name\": \"my-qwen-max\",\n        \"model_type\": \"dashscope_chat\",\n        \"model_name\": \"qwen-max\"\n    })\n\n    agent = DialogAgent(\n        name=\"Alice,\n        model_config_name=\"my-qwen-max\",\n        sys_prompt=\"You're a helpful assistant named Alice.\"\n    )\n    user = UserAgent(agent)\n\n    msg = None\n    while True:\n        msg = agent(msg)\n        msg = user(msg)\n        if msg.content == \"exit\":\n            break\n```\n\u7136\u540e\u5728\u7ec8\u7aef\u6267\u884c\u4ee5\u4e0b\u547d\u4ee4\u542f\u52a8 Gradio UI:\n\n.. code-block :: bash\n\n    as_gradio {path_to_your_python_code}\n\n\u6700\u540e\uff0c\u60a8\u53ef\u4ee5\u8bbf\u95ee Gradio UI\uff0c\u5982\u4e0b\u6240\u793a:\n\n<img src=\"https://img.alicdn.com/imgextra/i1/O1CN0181KSfH1oNbfzjUAVT_!!6000000005213-0-tps-3022-1530.jpg\" class=\"bordered-image\">\n\n## \u81ea\u5b9a\u4e49\u53ef\u89c6\u5316\n\n\u81ea\u5b9a\u4e49\u53ef\u89c6\u5316\u4e3b\u8981\u5206\u4e3a\u4e24\u4e2a\u7ec4\u6210\u90e8\u5206\n\n1. \u6d88\u606f\u663e\u793a\uff1a\u5c06\u667a\u80fd\u4f53\u4e2d `speak` \u51fd\u6570\u6253\u5370\u7684\u8f93\u51fa\u8f6c\u53d1\u5230\u9700\u8981\u663e\u793a\u7684\u5730\u65b9\n2. \u7528\u6237\u8f93\u5165\uff1a\u5c06 `UserAgent` \u4e2d\u7684**\u8f93\u5165\u64cd\u4f5c**\u8f6c\u79fb\u5230\u76ee\u6807\u5e73\u53f0\uff0c\u8fd9\u6837\u7528\u6237\u53ef\u4ee5\u4ece\u76ee\u6807\u5e73\u53f0\u8fdb\u884c\u8f93\u5165\n\n\u4e0a\u8ff0\u4e24\u4e2a\u64cd\u4f5c\u5206\u522b\u662f\u901a\u8fc7 AgentScope \u4e2d\u7684\u94a9\u5b50\u51fd\u6570 `pre_speak_hook`\uff0c\u4ee5\u53ca `UserAgent` \u4e2d\n\u7684 `override_input_method` \u5b8c\u6210\uff08AgentScope \u4e2d\u7684 Studio \u548c Gradio \u4e5f\u662f\n\u901a\u8fc7\u540c\u6837\u7684\u65b9\u6cd5\u5b9e\u73b0\uff09\u3002\n\n#### \u6d88\u606f\u663e\u793a\n\n\u9996\u5148\u6784\u5efa\u94a9\u5b50\u51fd\u6570\n"
      ]
    },
    {
      "cell_type": "code",
      "execution_count": null,
      "metadata": {
        "collapsed": false
      },
      "outputs": [],
      "source": [
        "from pydantic import BaseModel\n\nfrom agentscope.agents import AgentBase\nfrom agentscope.message import Msg, TextBlock, ImageBlock\nfrom typing import Union, Any, Optional\n\n\ndef pre_speak_hook(\n    self: AgentBase,\n    msg: Msg,\n    stream: bool,\n    last: bool,\n) -> Union[Msg, None]:\n    \"\"\"\"\"\"\n    # \u5c06\u7ed9\u8f93\u5165\u6d88\u606f\u8f6c\u53d1\u5230\u9700\u8981\u663e\u793a\u7684\u5730\u65b9\uff0c\u4f8b\u5982\u901a\u8fc7 requests.post \u63a8\u9001\u6d88\u606f\n    # ...\n    return None"
      ]
    },
    {
      "cell_type": "markdown",
      "metadata": {},
      "source": [
        "\u7136\u540e\u6ce8\u518c\u8be5\u94a9\u5b50\u51fd\u6570\uff0c\u6ce8\u610f\u8fd9\u91cc\u4f60\u53ef\u4ee5\u63a7\u5236\u94a9\u5b50\u51fd\u6570\u7684\u4f5c\u7528\u8303\u56f4\uff0c\u53ef\u4ee5\u662f\u57fa\u7c7b\u7ea7\u522b\u7684\uff0c\u4e5f\u53ef\u4ee5\u662f\u5bf9\u8c61\u7ea7\u522b\u7684\u8f6c\u53d1\n\n"
      ]
    },
    {
      "cell_type": "code",
      "execution_count": null,
      "metadata": {
        "collapsed": false
      },
      "outputs": [],
      "source": [
        "# \u7c7b\u7ea7\u522b\u7684\u6ce8\u518c\uff0c\u6240\u6709 AgentBase \u53ca \u5b50\u7c7b\u7684\u5bf9\u8c61\u90fd\u4f1a\u6ce8\u518c\u8be5\u94a9\u5b50\u51fd\u6570\nAgentBase.register_class_hook(\n    \"pre_speak\",\n    \"customized_pre_speak_hook\",\n    pre_speak_hook,\n)"
      ]
    },
    {
      "cell_type": "markdown",
      "metadata": {},
      "source": [
        "\u5f53\u7136\u4e5f\u53ef\u4ee5\u9488\u5bf9\u67d0\u4e00\u4e2a\u667a\u80fd\u4f53\u5bf9\u8c61\u8fdb\u884c\u6ce8\u518c\n\n```python\nagent = DialogAgent(\n    # ...\n)\nagent.register_hook(\n    \"pre_speak\",\n    \"customized_pre_speak_hook\",\n    pre_speak_hook\n)\n```\n.. tip:: \u66f4\u591a\u5173\u4e8e\u94a9\u5b50\u51fd\u6570\u7684\u5185\u5bb9\uff0c\u8bf7\u9605\u8bfb`hook`\u7ae0\u8282\n\n#### \u7528\u6237\u8f93\u5165\n\u8f6c\u79fb\u7528\u6237\u8f93\u5165\uff0c\u9700\u8981\u5b9e\u73b0\u4e00\u4e2a `UserInputBase` \u7684\u5b50\u7c7b\uff0c\u5e76\u5b9e\u73b0\u5176\u4e2d\u7684 `__call__` \u51fd\u6570\uff0c\u8be5\u51fd\u6570\n\u4f1a\u5728\u8c03\u7528 `UserAgent` \u7684 `reply` \u51fd\u6570\u65f6\u88ab\u89e6\u53d1\uff0c\u7528\u4e8e\u901a\u77e5\u76ee\u6807\u53ef\u89c6\u5316\u5e73\u53f0\u73b0\u5728\u9700\u8981\u54ea\u4e2a\u7528\u6237\u8fdb\u884c\n\u8f93\u5165\uff0c\u5e76\u4e14\u5728\u62ff\u5230\u8f93\u5165\u540e\u8fd4\u56de\u4e00\u4e2a `UserInputData` \u5bf9\u8c61\n\n.. tip:: \u53ef\u4ee5\u53c2\u8003 `agentscope.agents.TerminalUserInput` \u548c\n `agentscope.agents.StudioUserInput` \u4e24\u4e2a\u5185\u7f6e\u6a21\u5757\u7684\u4ee3\u7801\u5b9e\u73b0\n\n"
      ]
    },
    {
      "cell_type": "code",
      "execution_count": null,
      "metadata": {
        "collapsed": false
      },
      "outputs": [],
      "source": [
        "from agentscope.agents import UserInputBase, UserInputData\n\n\nclass CustomizedUserInput(UserInputBase):\n    def __call__(\n        self,\n        agent_id: str,\n        agent_name: str,\n        *args: Any,\n        structured_schema: Optional[BaseModel] = None,\n        **kwargs: dict,\n    ) -> UserInputData:\n        \"\"\"\u901a\u77e5\u76ee\u6807\u5e73\u53f0\u9700\u8981\u8fdb\u884c\u7528\u6237\u8f93\u5165\uff0c\u5e76\u4e14\u83b7\u53d6\u7528\u6237\u8f93\u5165\"\"\"\n        # ...\n        return UserInputData(\n            blocks_input=[\n                # \u66ff\u6362\u4e3a\u5b9e\u9645\u8f93\u5165\uff0c\u53ef\u4ee5\u662f\u6587\u672c\u6216\u662f\u591a\u6a21\u6001\u7684\u8f93\u5165\n                TextBlock(type=\"text\", text=\"\u4f60\u597d\uff01\"),\n                ImageBlock(type=\"image\", url=\"http://xxx.png\"),\n            ],\n            structured_input=None,\n        )"
      ]
    },
    {
      "cell_type": "markdown",
      "metadata": {},
      "source": [
        "\u7136\u540e\u5728 `UserAgent` \u4e2d\u6ce8\u518c\u8be5\u8f93\u5165\u65b9\u6cd5\uff0c\u6ce8\u610f\uff0c\u8be5\u6ce8\u518c\u4f1a\u8986\u76d6\u6389\u539f\u6709\u9ed8\u8ba4\u7684\n`TerminalUserInput` \u7c7b\u7684\u5bf9\u8c61\n\n```python\nUserAgent.override_class_input_method(\n    input_method=CustomizedUserInput()\n)\n```\n.. tip:: `UserAgent` \u540c\u6837\u652f\u6301\u5bf9\u8c61\u548c\u7c7b\u7ea7\u522b\u7684\u6ce8\u518c\uff0c\u5206\u522b\u5bf9\u5e94 `override_input_method`\n \u548c `override_class_input_method` \u65b9\u6cd5\uff0c\u5b83\u4eec\u4f1a\u5728\u5bf9\u8c61\uff08self\uff09\u548c\u7c7b\uff08cls\uff09\u4e24\u4e2a\u4e0d\u540c\u7ea7\u522b\n \u8fdb\u884c\u6ce8\u518c\u3002\n\n"
      ]
    }
  ],
  "metadata": {
    "kernelspec": {
      "display_name": "Python 3",
      "language": "python",
      "name": "python3"
    },
    "language_info": {
      "codemirror_mode": {
        "name": "ipython",
        "version": 3
      },
      "file_extension": ".py",
      "mimetype": "text/x-python",
      "name": "python",
      "nbconvert_exporter": "python",
      "pygments_lexer": "ipython3",
      "version": "3.10.17"
    }
  },
  "nbformat": 4,
  "nbformat_minor": 0
}