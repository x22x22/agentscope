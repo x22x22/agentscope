{
  "cells": [
    {
      "cell_type": "markdown",
      "metadata": {},
      "source": [
        "\n\n# \u6d88\u606f\n\n\u6d88\u606f\u662f\u4e00\u79cd\u4e13\u7528\u7684\u6570\u636e\u7ed3\u6784\uff0c\u7528\u4e8e\u4fe1\u606f\u4ea4\u6362\u3002\n\u5728 AgentScope \u4e2d\uff0c\u6211\u4eec\u4f7f\u7528\u6d88\u606f\u5728\u667a\u80fd\u4f53\u4e4b\u95f4\u8fdb\u884c\u901a\u4fe1\u3002\n\n\u6d88\u606f\u7684\u6700\u91cd\u8981\u5b57\u6bb5\u662f\uff1aname\u3001role \u548c content\u3002\nname \u548c role \u5b57\u6bb5\u6807\u8bc6\u6d88\u606f\u7684\u53d1\u9001\u8005\uff0ccontent \u5b57\u6bb5\u5305\u542b\u5b9e\u9645\u4fe1\u606f\u3002\n\n.. Note:: role \u5b57\u6bb5\u5fc5\u987b\u9009\u62e9 `\"system\"`\u3001`\"assistant\"`\u3001 `\"user\"` \u5176\u4e2d\u4e4b\u4e00\u3002\n"
      ]
    },
    {
      "cell_type": "code",
      "execution_count": null,
      "metadata": {
        "collapsed": false
      },
      "outputs": [],
      "source": [
        "from agentscope.message import Msg\nimport json"
      ]
    },
    {
      "cell_type": "markdown",
      "metadata": {},
      "source": [
        "## \u521b\u5efa\u6d88\u606f\n\u53ef\u4ee5\u901a\u8fc7\u6307\u5b9a name\u3001role \u548c content \u5b57\u6bb5\u6765\u521b\u5efa\u6d88\u606f\u3002\n\n\n"
      ]
    },
    {
      "cell_type": "code",
      "execution_count": null,
      "metadata": {
        "collapsed": false
      },
      "outputs": [],
      "source": [
        "msg = Msg(\n    name=\"Jarvis\",\n    role=\"assistant\",\n    content=\"\u55e8\uff01\u6211\u80fd\u4e3a\u60a8\u6548\u52b3\u5417\uff1f\",\n)\n\nprint(f'\u6d88\u606f\u53d1\u9001\u8005\uff1a\"{msg.name}\"')\nprint(f'\u53d1\u9001\u8005\u89d2\u8272\uff1a\"{msg.role}\"')\nprint(f'\u6d88\u606f\u5185\u5bb9\uff1a\"{msg.content}\"')"
      ]
    },
    {
      "cell_type": "markdown",
      "metadata": {},
      "source": [
        "## \u5e8f\u5217\u5316\n\u6d88\u606f\u53ef\u4ee5\u5e8f\u5217\u5316\u4e3a JSON \u683c\u5f0f\u7684\u5b57\u7b26\u4e32\u3002\n\n\n"
      ]
    },
    {
      "cell_type": "code",
      "execution_count": null,
      "metadata": {
        "collapsed": false
      },
      "outputs": [],
      "source": [
        "serialized_msg = msg.to_dict()\n\nprint(type(serialized_msg))\nprint(json.dumps(serialized_msg, indent=4))"
      ]
    },
    {
      "cell_type": "markdown",
      "metadata": {},
      "source": [
        "## \u53cd\u5e8f\u5217\u5316\n\u4ece JSON \u683c\u5f0f\u7684\u5b57\u5178\u53cd\u5e8f\u5217\u5316\u6d88\u606f\u3002\n\n\n"
      ]
    },
    {
      "cell_type": "code",
      "execution_count": null,
      "metadata": {
        "collapsed": false
      },
      "outputs": [],
      "source": [
        "new_msg = Msg.from_dict(serialized_msg)\n\nprint(new_msg)\nprint(f'\u6d88\u606f\u53d1\u9001\u8005\uff1a\"{new_msg.name}\"')\nprint(f'\u53d1\u9001\u8005\u89d2\u8272\uff1a\"{new_msg.role}\"')\nprint(f'\u6d88\u606f\u5185\u5bb9\uff1a\"{new_msg.content}\"')"
      ]
    }
  ],
  "metadata": {
    "kernelspec": {
      "display_name": "Python 3",
      "language": "python",
      "name": "python3"
    },
    "language_info": {
      "codemirror_mode": {
        "name": "ipython",
        "version": 3
      },
      "file_extension": ".py",
      "mimetype": "text/x-python",
      "name": "python",
      "nbconvert_exporter": "python",
      "pygments_lexer": "ipython3",
      "version": "3.9.21"
    }
  },
  "nbformat": 4,
  "nbformat_minor": 0
}