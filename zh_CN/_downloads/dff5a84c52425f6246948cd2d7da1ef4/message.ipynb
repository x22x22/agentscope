{
  "cells": [
    {
      "cell_type": "markdown",
      "metadata": {},
      "source": [
        "\n\n# \u6d88\u606f\n\n\u6d88\u606f\u662f\u4e00\u79cd\u7528\u4e8e\u667a\u80fd\u4f53\u95f4\u4fe1\u606f\u4ea4\u6362\u7684\u6570\u636e\u7ed3\u6784\u3002\n\n\u4e00\u4e2a\u6d88\u606f\u7531 name, role, content \u548c metadata \u56db\u4e2a\u5b57\u6bb5\u7ec4\u6210\uff0c\u8fd9\u4e9b\u5b57\u6bb5\u7684\u7c7b\u578b\u542b\u4e49\u5982\u4e0b\n\n.. list-table::\n    :header-rows: 1\n\n    * - \u5b57\u6bb5\n      - \u7c7b\u578b\n      - \u63cf\u8ff0\n    * - name\n      - `str`\n      - \u6d88\u606f\u53d1\u9001\u8005\u7684\u540d\u5b57\n    * - role\n      - `Literal[\"system\", \"assistant\", \"user\"]`\n      - \u6d88\u606f\u53d1\u9001\u8005\u7684\u89d2\u8272\uff0c\u5fc5\u987b\u662f \"system\"\u3001\"assistant\" \u6216 \"user\" \u4e4b\u4e00\u3002\u5176\u4e2d \"system\"\n       \u5e38\u7528\u4e8e system prompt\uff0c\u6216\u662f\u4e00\u4e9b\u7cfb\u7edf\u6d88\u606f\uff08\u4f8b\u5982\u5de5\u5177\u7684\u6267\u884c\u7b49\uff09\uff1b\"assistant\" \u5219\u662f\u5927\u6a21\n       \u578b\u626e\u6f14\u7684\u667a\u80fd\u4f53\uff1b\"user\" \u5219\u662f\u7528\u6237\u3002\n    * - content\n      - `Union[str, list[ContentBlock]]`\n      - \u6d88\u606f\u7684\u5177\u4f53\u5185\u5bb9\uff0c\u53ef\u4ee5\u662f\u5b57\u7b26\u4e32\u6216\u8005 ContentBlock \u5217\u8868\uff0cContentBlock \u662f\u4e00\u4e2a\u5b57\u5178\n    * - metadata\n      - `JSONSerializable`\n      - \u7528\u4e8e\u5b58\u50a8\u7ed3\u6784\u5316\u6570\u636e\uff0c\u53ef\u4ee5\u662f\u4efb\u4f55\u53ef\u5e8f\u5217\u5316\u7684\u5bf9\u8c61\uff0c\u4f8b\u5982\u667a\u80fd\u4f53\u7684\u7ed3\u6784\u5316\u8f93\u51fa\n\n.. tip:: \u591a\u667a\u80fd\u4f53\u4e2d\uff0c`role` \u5b57\u6bb5\u4e3a \"user\" \u6216\u662f \"assistant\" \u65f6, `name` \u53ef\u4ee5\u662f\u4e0d\u540c\u7684\u503c\uff0c\n \u7528\u4e8e\u533a\u5206\u4e0d\u540c\u7684\u7528\u6237\u548c\u667a\u80fd\u4f53\uff0c\u800c `role` \u4e3a \"system\" \u65f6\uff0c`name` \u901a\u5e38\u662f\u56fa\u5b9a\u7684\uff0c\n \u4f8b\u5982 \"system\"\u3002\n\n.. tip:: \u5f53\u6d88\u606f\u4e2d\u7684\u6570\u636e\u9700\u8981\u7528\u4e8e\u63a7\u5236\u6d41\u7a0b\u6216\u7ed3\u6784\u5316\u8f93\u51fa\u65f6\uff0c\u5efa\u8bae\u4f7f\u7528 `metadata` \u5b57\u6bb5\u3002\n"
      ]
    },
    {
      "cell_type": "code",
      "execution_count": null,
      "metadata": {
        "collapsed": false
      },
      "outputs": [],
      "source": [
        "from agentscope.message import Msg\nimport json"
      ]
    },
    {
      "cell_type": "markdown",
      "metadata": {},
      "source": [
        "## \u521b\u5efa\u6d88\u606f\n\u53ef\u4ee5\u901a\u8fc7\u6307\u5b9a name\u3001role \u548c content \u5b57\u6bb5\u6765\u521b\u5efa\u6d88\u606f\u3002\n\n\n"
      ]
    },
    {
      "cell_type": "code",
      "execution_count": null,
      "metadata": {
        "collapsed": false
      },
      "outputs": [],
      "source": [
        "msg = Msg(\n    name=\"Jarvis\",\n    role=\"assistant\",\n    content=\"\u55e8\uff01\u6211\u80fd\u4e3a\u60a8\u6548\u52b3\u5417\uff1f\",\n)\n\nprint(f'\u6d88\u606f\u53d1\u9001\u8005\uff1a\"{msg.name}\"')\nprint(f'\u53d1\u9001\u8005\u89d2\u8272\uff1a\"{msg.role}\"')\nprint(f'\u6d88\u606f\u5185\u5bb9\uff1a\"{msg.content}\"')"
      ]
    },
    {
      "cell_type": "markdown",
      "metadata": {},
      "source": [
        "## \u591a\u6a21\u6001\u6d88\u606f\n\u6d88\u606f\u7684 `content` \u5b57\u6bb5\u53ef\u4ee5\u662f\u591a\u6a21\u6001\u7684\uff0c\u4f8b\u5982\u6587\u672c\u3001\u56fe\u7247\u3001\u97f3\u9891\u3001\u89c6\u9891\u7b49\u3002AgentScope\u4f7f\u7528\nblock \u8fd9\u4e00\u6982\u5ff5\u6765\u8868\u793a\u6d88\u606f\u7684\u5185\u5bb9\uff0cblock \u662f\u4e00\u4e2a\u5b57\u5178\uff0c\u5305\u542b\u4e86\u6d88\u606f\u7684\u7c7b\u578b\u548c\u5185\u5bb9\uff0c\u5177\u4f53\u652f\u6301\u7684\n\u7c7b\u578b\u5982\u4e0b\uff1a\n\n.. list-table::\n    :header-rows: 1\n\n    * - \u7c7b\u578b\n      - \u63cf\u8ff0\n      - \u521d\u59cb\u5316\n    * - TextBlock\n      - \u6587\u672c\u5757\n      - `TextBlock(type=\"text\", text=\"\u4f60\u597d\")`\n    * - ImageBlock\n      - \u56fe\u7247\u5757\n      - `ImageBlock(type=\"image\", url=\"https://example.com/image.jpg\")`\n    * - AudioBlock\n      - \u97f3\u9891\u5757\n      - `AudioBlock(type=\"audio\", url=\"https://example.com/audio.mp3\")`\n    * - VideoBlock\n      - \u89c6\u9891\u5757\n      - `VideoBlock(type=\"video\", url=\"https://example.com/video.mp4\")`\n    * - FileBlock\n      - \u6587\u4ef6\u5757\n      - `FileBlock(type=\"file\", url=\"https://example.com/file.zip\")`\n\n\u4f7f\u7528\u7684\u65b9\u5f0f\u5982\u4e0b\uff1a\n\n"
      ]
    },
    {
      "cell_type": "code",
      "execution_count": null,
      "metadata": {
        "collapsed": false
      },
      "outputs": [],
      "source": [
        "from agentscope.message import (\n    TextBlock,\n    ImageBlock,\n    AudioBlock,\n)\n\nmsg_image = Msg(\n    name=\"Stank\",\n    role=\"user\",\n    content=[\n        TextBlock(type=\"text\", text=\"\u5e2e\u6211\u770b\u770b\u8fd9\u5f20\u56fe\u7247\"),\n        ImageBlock(type=\"image\", url=\"https://example.com/image.jpg\"),\n    ],\n)\n\nmsg_audio = Msg(\n    name=\"Stank\",\n    role=\"user\",\n    content=[\n        TextBlock(type=\"text\", text=\"\u5e2e\u6211\u64ad\u653e\u8fd9\u9996\u6b4c\"),\n        AudioBlock(type=\"audio\", url=\"https://example.com/audio.mp3\"),\n    ],\n)"
      ]
    },
    {
      "cell_type": "markdown",
      "metadata": {},
      "source": [
        ".. tip:: \u4f7f\u7528 tools API \u65f6\uff0c`content` \u5b57\u6bb5\u652f\u6301\u989d\u5916\u7684\u4e24\u4e2a block \u7c7b\u578b\uff0c\u5206\u522b\u662f\n`ToolUseBlock` \u548c `ToolResultBlock`\u3002\u66f4\u591a\u5185\u5bb9\u8bf7\u53c2\u8003 `tools`\u3002\n\n## \u5e8f\u5217\u5316\n\u6d88\u606f\u53ef\u4ee5\u5e8f\u5217\u5316\u4e3a JSON \u683c\u5f0f\u7684\u5b57\u7b26\u4e32\u3002\n\n\n"
      ]
    },
    {
      "cell_type": "code",
      "execution_count": null,
      "metadata": {
        "collapsed": false
      },
      "outputs": [],
      "source": [
        "serialized_msg = msg.to_dict()\n\nprint(type(serialized_msg))\nprint(json.dumps(serialized_msg, indent=4))"
      ]
    },
    {
      "cell_type": "markdown",
      "metadata": {},
      "source": [
        "## \u53cd\u5e8f\u5217\u5316\n\u4ece JSON \u683c\u5f0f\u7684\u5b57\u5178\u53cd\u5e8f\u5217\u5316\u6d88\u606f\u3002\n\n\n"
      ]
    },
    {
      "cell_type": "code",
      "execution_count": null,
      "metadata": {
        "collapsed": false
      },
      "outputs": [],
      "source": [
        "new_msg = Msg.from_dict(serialized_msg)\n\nprint(new_msg)\nprint(f'\u6d88\u606f\u53d1\u9001\u8005\uff1a\"{new_msg.name}\"')\nprint(f'\u53d1\u9001\u8005\u89d2\u8272\uff1a\"{new_msg.role}\"')\nprint(f'\u6d88\u606f\u5185\u5bb9\uff1a\"{new_msg.content}\"')"
      ]
    }
  ],
  "metadata": {
    "kernelspec": {
      "display_name": "Python 3",
      "language": "python",
      "name": "python3"
    },
    "language_info": {
      "codemirror_mode": {
        "name": "ipython",
        "version": 3
      },
      "file_extension": ".py",
      "mimetype": "text/x-python",
      "name": "python",
      "nbconvert_exporter": "python",
      "pygments_lexer": "ipython3",
      "version": "3.10.17"
    }
  },
  "nbformat": 4,
  "nbformat_minor": 0
}