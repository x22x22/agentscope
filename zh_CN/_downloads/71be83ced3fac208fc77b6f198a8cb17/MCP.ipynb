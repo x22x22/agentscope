{
  "cells": [
    {
      "cell_type": "markdown",
      "metadata": {},
      "source": [
        "\n\n# MCP\n\n\u5728\u672c\u6559\u7a0b\u4e2d\uff0c\u6211\u4eec\u5c06\u7b80\u8981\u4ecb\u7ecd\u4ec0\u4e48\u662f MCP\uff0c\u5e76\u5c55\u793a\u5982\u4f55\u5728 AgentScope \u4e2d\u4f7f\u7528 MCP\u3002\u6b64\u5916\uff0c\u6211\u4eec\u5c06\u6f14\u793a\u5982\u4f55\u5c06\u73b0\u6709\u7684 AgentScope \u591a\u667a\u80fd\u4f53\u5e94\u7528\u914d\u7f6e\u4e3a MCP \u670d\u52a1\u5668\u3002\u6700\u540e\uff0c\u4e3a\u4e86\u5e2e\u52a9\u9ad8\u7ea7\u5f00\u53d1\u8005\u66f4\u6df1\u5165\u5730\u7406\u89e3\uff0c\u6211\u4eec\u5c06\u8ba8\u8bba MCP \u662f\u5982\u4f55\u4e0e AgentScope \u96c6\u6210\u7684\u3002\n\n<div class=\"alert alert-info\"><h4>Note</h4><p>1.\u9605\u8bfb\u672c\u7ae0\u8282\u4e4b\u524d\uff0c\u8bf7\u5148\u9605\u8bfb\u300a\u5de5\u5177\u300b\u7ae0\u8282\uff0c\u4ee5\u4e86\u89e3\u6700\u57fa\u672c\u7684`ServiceToolkit`\u6a21\u5757\u7684\u57fa\u672c\u4f7f\u7528\u65b9\u6cd5\u3002</p></div>\n\n 2. \u5728AgentScope\u4e2d\u4f7f\u7528MCP\uff0c\u8981\u6c42\u4f60\u7684 Python \u7248\u672c\u4e0d\u4f4e\u4e8e 3.10\uff0c\u5e76\u81f3\u5c11\u5b89\u88c5 `agentscope[service]` \u7248\u672c\u3002\n"
      ]
    },
    {
      "cell_type": "markdown",
      "metadata": {},
      "source": [
        "## \u4ec0\u4e48\u662fMCP\nMCP\uff08Model Context Protocol\uff0c\u6a21\u578b\u4e0a\u4e0b\u6587\u534f\u8bae\uff09\u662f\u7531 Anthropic \u63a8\u51fa\u7684\u4e00\u79cd\u5f00\u653e\u6807\u51c6\uff0c\u65e8\u5728\u89c4\u8303\u5927\u578b\u8bed\u8a00\u6a21\u578b\u4e0e\u5916\u90e8\u6570\u636e\u6e90\u548c\u5de5\u5177\u4e4b\u95f4\u7684\u901a\u4fe1\u65b9\u5f0f\uff0c\u4f7f AI \u6a21\u578b\u80fd\u591f\u5145\u5206\u53d1\u6325\u6f5c\u529b\u3002\n\u901a\u8fc7 MCP\uff0cAI \u5e94\u7528\u53ef\u4ee5\u5b89\u5168\u5730\u8bbf\u95ee\u548c\u64cd\u4f5c\u672c\u5730\u53ca\u8fdc\u7a0b\u6570\u636e\uff0c\u4e3a AI \u5e94\u7528\u63d0\u4f9b\u4e86\u4e00\u79cd\u7c7b\u4f3c\u4e8e\u201cUSB-C \u63a5\u53e3\u201d\u7684\u8fde\u63a5\u65b9\u5f0f\u3002\n\u8fd9\u4e00\u6807\u51c6\u4e0d\u4ec5\u4fc3\u8fdb\u4e86\u670d\u52a1\u5546\u5f00\u53d1 API \u7684\u4fbf\u5229\u6027\uff0c\u4e5f\u907f\u514d\u4e86\u5f00\u53d1\u8005\u91cd\u590d\u6784\u5efa\u57fa\u7840\u529f\u80fd\uff0c\u4f7f\u73b0\u6709\u7684 MCP \u670d\u52a1\u80fd\u591f\u589e\u5f3a\u667a\u80fd\u4ee3\u7406\u7684\u80fd\u529b\u3002\u4f8b\u5982\uff0cMCP \u670d\u52a1\u5668\u53ef\u4ee5\u63d0\u4f9b\u9884\u5b9a\u4e49\u7684\u63d0\u793a\u6a21\u677f\uff0c\u7528\u4e8e\u751f\u6210\u7535\u5b50\u90ae\u4ef6\u8349\u7a3f\u6216\u4f18\u5316\u4ee3\u7801\u6ce8\u91ca\uff0c\u4ece\u800c\u63d0\u5347\u5e94\u7528\u5f00\u53d1\u6548\u7387\u548c\u8d28\u91cf\u3002\n\n"
      ]
    },
    {
      "cell_type": "markdown",
      "metadata": {},
      "source": [
        "MCP\u652f\u6301\u4e24\u79cd\u901a\u4fe1\u534f\u8bae\uff1a\u6807\u51c6\u8f93\u5165\u8f93\u51fa\uff08STDIO\uff09\u548c HTTP\u7684Server-Sent Events\uff08SSE\uff09\u3002\n- STDIO \u534f\u8bae\u7528\u4e8e\u672c\u5730\u901a\u4fe1\uff0c\u6d89\u53ca\u901a\u8fc7\u6807\u51c6\u8f93\u5165\u548c\u8f93\u51fa\u8fdb\u884c\u6d88\u606f\u4f20\u8f93\uff08\u5373\uff0cMCP Server\u4e5f\u542f\u52a8\u5728\u672c\u5730\uff09\u3002\u8fd9\u79cd\u65b9\u5f0f\u7684\u5b9e\u73b0\u901a\u5e38\u6d89\u53ca\u9010\u884c\u89e3\u6790\u548c\u5904\u7406\u6d88\u606f\uff0c\u9002\u7528\u4e8e\u5728\u540c\u4e00\u8ba1\u7b97\u73af\u5883\u4e2d\u8fd0\u884c\u7684\u5ba2\u6237\u7aef\u548c\u670d\u52a1\u5668\u4e4b\u95f4\u7684\u901a\u4fe1\u3002\n- HTTP \u534f\u8bae\u5219\u7528\u4e8e\u8fdc\u7a0b\u901a\u4fe1\uff08\u5373\uff0cMCP Server\u542f\u52a8\u5728\u8fdc\u7aef\uff09\uff0c\u901a\u8fc7\u5c06 JSON-RPC \u6d88\u606f\u5c01\u88c5\u4e3a SSE \u4e8b\u4ef6\u6765\u5b9e\u73b0\u3002\u8fd9\u79cd\u673a\u5236\u5141\u8bb8\u670d\u52a1\u5668\u901a\u8fc7\u6301\u7eed\u5f00\u653e\u7684 HTTP \u8fde\u63a5\u5c06\u4e8b\u4ef6\u63a8\u9001\u5230\u5ba2\u6237\u7aef\u3002\n\n"
      ]
    },
    {
      "cell_type": "markdown",
      "metadata": {},
      "source": [
        "## \u628aMCP\u670d\u52a1\u5668\u6dfb\u52a0\u5230`ServiceToolkit`\nAgentScope\u4f5c\u4e3aMCP\u5ba2\u6237\u7aef\uff0c\u652f\u6301\u4e00\u952e\u542f\u52a8\u672c\u5730\u7684 MCP \u670d\u52a1\u5668\u5e76\u5efa\u7acb\u57fa\u4e8e STDIO \u534f\u8bae\u7684\u8fde\u63a5\uff0c\u4e5f\u652f\u6301\u4f7f\u7528 SSE \u534f\u8bae\u4e0e\u8fdc\u7a0b\u7684 MCP \u670d\u52a1\u5668\u5efa\u7acb\u4f1a\u8bdd\u3002\u8fd9\u4e9b\u4f7f\u7528\u65b9\u5f0f\u5747\u57fa\u4e8e`ServiceToolkit.add_mcp_servers`\u7684\u63a5\u53e3\u3002\u4ee5\u4e0b\u4ee3\u7801\u5c55\u793a\u4e86\u5982\u4f55\u901a\u8fc7 STDIO \u5728\u672c\u5730\u542f\u52a8\u5e76\u8fde\u63a5\u4e00\u4e2a\u63d0\u4f9b\u6d4f\u89c8\u5668\u81ea\u52a8\u5316\u529f\u80fd\u7684\u670d\u52a1\u5668\u3002\u8be5\u670d\u52a1\u5668\u4f7f\u7528 Puppeteer\uff0c\u4f7f\u5f97\u5927\u6a21\u578b\u80fd\u591f\u4e0e\u7f51\u9875\u4e92\u52a8\u3001\u622a\u53d6\u5c4f\u5e55\u622a\u56fe\u4ee5\u53ca\u5728\u771f\u5b9e\u7684\u6d4f\u89c8\u5668\u73af\u5883\u4e2d\u6267\u884c JavaScript\u3002\u8bf7\u6ce8\u610f\uff0c\u5728\u4f7f\u7528\u4ee5\u4e0b MCP \u670d\u52a1\u5668\u4e4b\u524d\uff0c\u8bf7\u786e\u4fdd\u5728\u60a8\u7684\u7cfb\u7edf\u4e2d\u5b89\u88c5\u4e86 `Node.js` \u4ee5\u786e\u4fdd `npx` \u547d\u4ee4\u53ef\u4ee5\u6b63\u5e38\u8fd0\u884c\u3002\n\n"
      ]
    },
    {
      "cell_type": "code",
      "execution_count": null,
      "metadata": {
        "collapsed": false
      },
      "outputs": [],
      "source": [
        "from agentscope.service import ServiceToolkit\n\nlocal_configs = {\n    \"mcpServers\": {\n        \"puppeteer\": {\n            \"command\": \"npx\",\n            \"args\": [\"-y\", \"@modelcontextprotocol/server-puppeteer\"],\n        },\n    },\n}"
      ]
    },
    {
      "cell_type": "markdown",
      "metadata": {},
      "source": [
        "\u521d\u59cb\u5316 ServiceToolkit \u5e76\u6dfb\u52a0 MCP \u670d\u52a1\u5668\u914d\u7f6e \uff08\u5728\u81ea\u5df1\u7684\u73af\u5883\u4e2d\u53d6\u6d88\u6ce8\u91ca\u4e0b\u9762\u7684\u4ee3\u7801\uff09\n\u6ce8\u610f\uff1a\u5982\u679c\u60a8\u9700\u8981\u4f7f\u7528 STDIO MCP Server\uff0c\u8bf7\u786e\u4fdd\u5bf9\u8c61\u4e0d\u4f1a\u8de8\u7ebf\u7a0b\u4f7f\u7528\u3002\n\u56e0\u4e3a\u5728\u4e00\u4e2a\u7ebf\u7a0b\u4e2d\uff0c\u6807\u51c6\u8f93\u5165/\u8f93\u51fa\u6d41\u53ef\u80fd\u4f1a\u88ab\u56de\u6536\uff0c\n\u5bfc\u81f4\u6f5c\u5728\u7684\u51b2\u7a81\u6216\u610f\u5916\u884c\u4e3a\u3002\n\n"
      ]
    },
    {
      "cell_type": "code",
      "execution_count": null,
      "metadata": {
        "collapsed": false
      },
      "outputs": [],
      "source": [
        "toolkit = ServiceToolkit()\n# toolkit.add_mcp_servers(server_configs=local_configs)"
      ]
    },
    {
      "cell_type": "markdown",
      "metadata": {},
      "source": [
        "\u8f93\u51fa\u5de5\u5177\u914d\u7f6e\u7684\u6307\u4ee4\u4ee5\u9a8c\u8bc1\u8bbe\u7f6e\n\n"
      ]
    },
    {
      "cell_type": "code",
      "execution_count": null,
      "metadata": {
        "collapsed": false
      },
      "outputs": [],
      "source": [
        "print(toolkit.tools_instruction)"
      ]
    },
    {
      "cell_type": "markdown",
      "metadata": {},
      "source": [
        "\u5982\u679c\u4f60\u9700\u8981\u4f7f\u7528HTTP\u534f\u8bae\u8fde\u63a5\u5728\u8fdc\u7a0b\u7684\u670d\u52a1\u5668\uff08\u6216\u8005\u662f\u5728\u672c\u5730\u5176\u4ed6\u8fdb\u7a0b\u542f\u52a8SSE\u534f\u8bae\u7684MCP\u670d\u52a1\u5668\uff09\uff0c\u4f60\u53ef\u4ee5\u53c2\u8003\u4ee5\u4e0b\u914d\u7f6e\u8fdb\u884c\u8fde\u63a5\u3002\n\n"
      ]
    },
    {
      "cell_type": "code",
      "execution_count": null,
      "metadata": {
        "collapsed": false
      },
      "outputs": [],
      "source": [
        "remote_configs = {\n    \"mcpServers\": {\n        \"puppeteer\": {\n            \"url\": \"http://127.0.0.1:8000/sse\",\n        },\n    },\n}"
      ]
    },
    {
      "cell_type": "markdown",
      "metadata": {},
      "source": [
        "## \u628a\u591a\u667a\u80fd\u4f53\u5e94\u7528\u6dfb\u52a0\u5230MCP\u670d\u52a1\u5668\n\u4f60\u53ef\u4ee5\u901a\u8fc7MCP\u5b98\u65b9\u63d0\u4f9b\u7684Python SDK\u8f7b\u677e\u5730\u5c06\u591a\u667a\u80fd\u4f53\u5e94\u7528\u6dfb\u52a0\u5230\u81ea\u5df1\u7684MCP\u670d\u52a1\u5668\u3002\u4ee5\u4e0b\u662f\u4e00\u4e2a\u793a\u4f8b\u4ee3\u7801\uff0c\u6f14\u793a\u5982\u4f55\u4f7f\u7528AgentScope\u548cMCP\u5e93\u6765\u5b9e\u73b0\u8fd9\u4e00\u76ee\u7684\u3002\n\n"
      ]
    },
    {
      "cell_type": "code",
      "execution_count": null,
      "metadata": {
        "collapsed": false
      },
      "outputs": [],
      "source": [
        "import agentscope\n\nfrom agentscope.agents import DialogAgent\nfrom agentscope.message import Msg\nfrom mcp.server import FastMCP\nfrom pydantic import Field\n\nagentscope.init(\n    model_configs={\n        \"config_name\": \"my-qwen-max\",\n        \"model_type\": \"dashscope_chat\",\n        \"model_name\": \"qwen-max\",\n    },\n)\n\nmcp = FastMCP(\"My MCP Server\")"
      ]
    },
    {
      "cell_type": "markdown",
      "metadata": {},
      "source": [
        "\u4f7f\u7528@mcp.tool()\u88c5\u9970\u5668\u5b9a\u4e49\u5de5\u5177\uff0c\u8fd9\u91cc\u6211\u4eec\u4f7f\u7528AgentScope\u7684 `DialogAgent` \u521b\u5efa\u4e00\u4e2a\u8bb2\u7b11\u8bdd\u7684\u5de5\u5177\u3002\n\n"
      ]
    },
    {
      "cell_type": "code",
      "execution_count": null,
      "metadata": {
        "collapsed": false
      },
      "outputs": [],
      "source": [
        "@mcp.tool()\ndef tell_a_joke(\n    topic: str = Field(\n        description=\"The topic of a joke\",\n    ),\n) -> str:\n    \"\"\"Generate a joke based on the given topic\"\"\"\n    agent = DialogAgent(\n        name=\"FunnyBot\",\n        model_config_name=\"my-qwen-max\",\n        sys_prompt=\"You are a witty comedian tasked with creating a joke about the given topic.\",\n    )\n    msg_task = Msg(\"user\", topic, \"user\")\n    res = agent(msg_task)\n\n    return res.content"
      ]
    },
    {
      "cell_type": "markdown",
      "metadata": {},
      "source": [
        "\u5c06\u4e0a\u9762\u7684\u4ee3\u7801\u4fdd\u5b58\u5230\u6587\u4ef6 `my_mcp_server.py` \u4e2d\u3002\n\u7136\u540e\uff0c\u5728\u7ec8\u7aef\u4e2d\u8fd0\u884c\u4ee5\u4e0b\u547d\u4ee4\u6765\u542f\u52a8\u670d\u52a1\u5668\uff1a\n`mcp run my_mcp_server.py -t sse`\n\u6b64\u547d\u4ee4\u4f1a\u542f\u52a8 MCP \u670d\u52a1\u5668\uff0c\u5e76\u5c06\u5de5\u5177\u8c03\u7528\u7ed3\u679c\u4ee5\u670d\u52a1\u5668\u63a8\u9001\u4e8b\u4ef6\uff08SSE\uff09\u7684\u65b9\u5f0f\u8fdb\u884c\u4f20\u8f93\u3002\n\u8fd9\u6837\uff0c\u5c31\u53ef\u4ee5\u901a\u8fc7\u914d\u7f6e\u7684 MCP \u670d\u52a1\u5668\u6765\u8bbf\u95ee\u548c\u4f7f\u7528\u8fd9\u4e00\u591a\u667a\u80fd\u4f53\u5e94\u7528\u3002\n\n"
      ]
    },
    {
      "cell_type": "code",
      "execution_count": null,
      "metadata": {
        "collapsed": false
      },
      "outputs": [],
      "source": [
        "# \u5982\u679c\u60a8\u5728\u5b50\u8fdb\u7a0b\u4e2d\u8fd0\u884c\u4e0a\u8ff0\u4ee3\u7801\uff08\u4f8b\u5982\uff0c\u4f5c\u4e3a STDIO \u670d\u52a1\u5668\u542f\u52a8\uff09\uff0c\n# \u8bf7\u5728\u9876\u90e8\u6dfb\u52a0\u4ee5\u4e0b\u8bed\u53e5\uff0c\u4ee5\u786e\u4fdd\u670d\u52a1\u5668\u5728\u5b50\u8fdb\u7a0b\u7ed3\u675f\u540e\u53ef\u4ee5\u88ab\u56de\u6536\u3002\n\nimport nest_asyncio\n\nnest_asyncio.apply()"
      ]
    }
  ],
  "metadata": {
    "kernelspec": {
      "display_name": "Python 3",
      "language": "python",
      "name": "python3"
    },
    "language_info": {
      "codemirror_mode": {
        "name": "ipython",
        "version": 3
      },
      "file_extension": ".py",
      "mimetype": "text/x-python",
      "name": "python",
      "nbconvert_exporter": "python",
      "pygments_lexer": "ipython3",
      "version": "3.10.17"
    }
  },
  "nbformat": 4,
  "nbformat_minor": 0
}