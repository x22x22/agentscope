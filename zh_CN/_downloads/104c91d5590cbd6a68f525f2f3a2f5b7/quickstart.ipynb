{
  "cells": [
    {
      "cell_type": "markdown",
      "metadata": {},
      "source": [
        "\n\n# \u5feb\u901f\u5165\u95e8\n\nAgentScope \u9700\u8981 Python 3.9 \u6216\u66f4\u9ad8\u7248\u672c\u3002\u4f60\u53ef\u4ee5\u4ece\u6e90\u7801\u6216 pypi \u5b89\u88c5\u3002\n\n## \u4ece PyPI \u5b89\u88c5\n```bash\npip install agentscope\n```\n## \u4ece\u6e90\u7801\u5b89\u88c5\n\u8981\u4ece\u6e90\u7801\u5b89\u88c5 AgentScope\uff0c\u4f60\u9700\u8981\u4ece GitHub \u514b\u9686\u4ed3\u5e93\uff0c\u7136\u540e\u901a\u8fc7\u4ee5\u4e0b\u547d\u4ee4\u5b89\u88c5\n\n```bash\ngit clone https://github.com/modelscope/agentscope\ncd agentscope\npip install -e .\n```\n\u8981\u786e\u4fdd AgentScope \u5b89\u88c5\u6b63\u5e38\u3002\u53ef\u4ee5\u6267\u884c\u4ee5\u4e0b\u4ee3\u7801:\n"
      ]
    },
    {
      "cell_type": "code",
      "execution_count": null,
      "metadata": {
        "collapsed": false
      },
      "outputs": [],
      "source": [
        "import agentscope\n\nprint(agentscope.__version__)"
      ]
    },
    {
      "cell_type": "markdown",
      "metadata": {},
      "source": [
        "## \u989d\u5916\u4f9d\u8d56\n\nAgentScope \u63d0\u4f9b\u4e86\u9488\u5bf9\u4e0d\u540c\u9700\u6c42\u7684\u989d\u5916\u4f9d\u8d56\u3002\u4f60\u53ef\u4ee5\u6839\u636e\u9700\u6c42\u5b89\u88c5\u5b83\u4eec\u3002\n\n- ollama: Ollama API\n- litellm: Litellm API\n- zhipuai: Zhipuai API\n- gemini: Gemini API\n- anthropic: Anthropic API\n- service: \u7528\u4e8e\u4e0d\u540c\u5de5\u5177\u51fd\u6570\u7684\u4f9d\u8d56\n- distribute: \u7528\u4e8e\u5206\u5e03\u5f0f\u6a21\u5f0f\u7684\u4f9d\u8d56\n- full: \u4e00\u6b21\u6027\u5b89\u88c5\u6240\u6709\u4f9d\u8d56\n\n\u4ee5\u5206\u5e03\u5f0f\u6a21\u5f0f\u4e3a\u4f8b\uff0c\u5b89\u88c5\u547d\u4ee4\u56e0\u64cd\u4f5c\u7cfb\u7edf\u800c\u5f02\u3002\n\n\u5bf9\u4e8e Windows \u7528\u6237:\n\n```bash\npip install agentscope[gemini]\n# \u6216\npip install agentscope[ollama,distribute]\n```\n\u5bf9\u4e8e Mac \u548c Linux \u7528\u6237:\n\n```bash\npip install agentscope\\[gemini\\]\n# \u6216\npip install agentscope\\[ollama,distribute\\]\n```\n"
      ]
    }
  ],
  "metadata": {
    "kernelspec": {
      "display_name": "Python 3",
      "language": "python",
      "name": "python3"
    },
    "language_info": {
      "codemirror_mode": {
        "name": "ipython",
        "version": 3
      },
      "file_extension": ".py",
      "mimetype": "text/x-python",
      "name": "python",
      "nbconvert_exporter": "python",
      "pygments_lexer": "ipython3",
      "version": "3.9.21"
    }
  },
  "nbformat": 4,
  "nbformat_minor": 0
}