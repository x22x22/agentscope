{
  "cells": [
    {
      "cell_type": "markdown",
      "metadata": {},
      "source": [
        "\n\n# \u7ed3\u6784\u5316\u8f93\u51fa\n\n\u5982\u4e0b\u56fe\u6240\u793a\uff0cAgentScope \u652f\u6301\u4ee5\u4e0b\u4e24\u79cd\u7ed3\u6784\u5316\u8f93\u51fa\u65b9\u5f0f\uff1a\n\n- \u5de5\u5177 API\uff1a\u6784\u9020\u4e00\u4e2a\u51fd\u6570\uff0c\u5176\u8f93\u5165\u53c2\u6570\u662f\u6240\u9700\u8981\u7684\u7ed3\u6784\u5316\u6570\u636e\u7684\u5b57\u6bb5\uff0c\u7136\u540e\u8981\u6c42\u5927\u6a21\u578b\u8c03\u7528\u8be5\u51fd\u6570\uff0c\u4ece\u800c\u83b7\u5f97\u7ed3\u6784\u5316\u6570\u636e\n- \u6587\u672c\u89e3\u6790\uff1a\u8c03\u7528\u5927\u6a21\u578b API \u83b7\u5f97\u7eaf\u6587\u672c\u6570\u636e\uff0c\u7136\u540e\u672c\u5730\u4ece\u7eaf\u6587\u672c\u4e2d\u89e3\u6790\u51fa\u7ed3\u6784\u5316\u6570\u636e\n\n<img src=\"https://img.alicdn.com/imgextra/i4/O1CN01TLx5qg1tcmx3cKCNN_!!6000000005923-55-tps-661-391.svg\" width=\"100%\" alt=\"\u4e24\u79cd\u4e0d\u540c\u7ed3\u6784\u5316\u8f93\u51fa\u65b9\u5f0f\">\n\n\u4e24\u79cd\u65b9\u5f0f\u7684\u4f18\u7f3a\u70b9\u5982\u4e0b\uff1a\n\n.. list-table::\n    :header-rows: 1\n\n    * - \u65b9\u5f0f\n      - \u4f18\u70b9\n      - \u7f3a\u70b9\n    * - \u5de5\u5177 API\n      - 1. \u6a21\u578b **\u81ea\u4e3b** \u51b3\u5b9a\u4f55\u65f6\u8c03\u7528\u8be5\u51fd\u6570/\u4ea7\u751f\u7ed3\u6784\u5316\u8f93\u51fa\uff0c\u80fd\u591f\u5f88\u597d\u4e0e ReAct \u7b97\u6cd5\u7ed3\u5408\n        2. \u6570\u636e\u89e3\u6790\u53d1\u751f\u5728\u5927\u6a21\u578b API \u63d0\u4f9b\u65b9\uff0c\u672c\u5730\u5f00\u53d1\u96be\u5ea6\u4f4e\n        3. \u652f\u6301\u57fa\u4e8e JSON Schema \u7684\u590d\u6742\u7ea6\u675f\u6761\u4ef6\n      - \u9700\u8981\u652f\u6301\u5de5\u5177\u8c03\u7528\u7684\u5927\u6a21\u578b API\n    * - \u6587\u672c\u89e3\u6790\n      - 1. \u7b80\u5355\u6613\u7528\n        2. \u53ef\u4ee5\u6839\u636e\u6a21\u578b\u80fd\u529b\u3001\u6240\u9700\u7ed3\u6784\u5316\u6570\u636e\u7684\u4e0d\u540c\uff0c\u8c03\u6574\u683c\u5f0f\u548c\u89e3\u6790\u65b9\u6cd5\n      - 1. \u4f9d\u8d56\u6a21\u578b\u80fd\u529b\uff0c\u53ef\u80fd\u4e00\u76f4\u65e0\u6cd5\u4ea7\u751f\u7b26\u5408\u8981\u6c42\u7684\u7ed3\u6784\u5316\u6570\u636e\n        2. \u6a21\u578b **\u88ab\u52a8** \u4ea7\u751f\u7ed3\u6784\u5316\u6570\u636e\uff0c\u7531\u5f00\u53d1\u8005\u51b3\u5b9a\u4f55\u65f6\u63d0\u793a\u5927\u6a21\u578b\u4ea7\u751f\u7ed3\u6784\u5316\u6570\u636e\n\n\n\u4e0b\u9762\u6211\u4eec\u8be6\u7ec6\u4ecb\u7ecd AgentScope \u5982\u4f55\u652f\u6301\u4e24\u79cd\u4e0d\u540c\u7684\u89e3\u6790\u65b9\u5f0f\u3002\n\n## \u5de5\u5177 API\n\n\u5de5\u5177 API \u65b9\u5f0f\u5c06\u5de5\u5177\u8c03\u7528\u548c\u7ed3\u6784\u5316\u8f93\u51fa\u7ed3\u5408\u5728\u4e00\u8d77\uff0c\u4f8b\u5982\u6211\u4eec\u9700\u8981 `\"thought\"`\uff0c`\"choice\"`\uff0c`\"number\"`\n\u4e09\u4e2a\u5b57\u6bb5\uff0c\u90a3\u4e48\u6211\u4eec\u53ef\u4ee5\u6784\u5efa\u5982\u4e0b\u7684\u51fd\u6570\n"
      ]
    },
    {
      "cell_type": "code",
      "execution_count": null,
      "metadata": {
        "collapsed": false
      },
      "outputs": [],
      "source": [
        "from typing import Literal\nfrom pydantic import BaseModel, Field\nimport json\n\n\ndef generate_response(\n    thought: str,\n    choice: Literal[\"apple\", \"banana\"],\n    number: int,\n) -> None:\n    pass"
      ]
    },
    {
      "cell_type": "markdown",
      "metadata": {},
      "source": [
        "\u8fd9\u91cc\u51fd\u6570\u7b7e\u540d\u8d77\u5230\u4e86\u63d0\u4f9b\u7ea6\u675f\u6761\u4ef6\u7684\u4f5c\u7528\uff0c\u6a21\u578b\u5728\u6b63\u786e\u8c03\u7528\u8be5\u51fd\u6570\u65f6\uff0c\u6211\u4eec\u5c31\u53ef\u4ee5\u83b7\u5f97\u5bf9\u5e94\u7684\u7ed3\u6784\u5316\u6570\u636e\u3002\n\n\u5728\u4e86\u89e3\u57fa\u672c\u601d\u8def\u540e\uff0c\u8fdb\u4e00\u6b65\u8003\u8651\u5230\u4e00\u4e9b\u590d\u6742\u7684\u7ea6\u675f\u6761\u4ef6\u65e0\u6cd5\u4f7f\u7528 Python \u7684\u7c7b\u578b\u6ce8\u89e3\u6765\u8868\u8fbe\uff0c\n\u5728 AgentScope \u4e2d\uff0c\u6211\u4eec\u652f\u6301\u901a\u8fc7 Pydantic \u7684 `BaseModel` \u7684\u5b50\u7c7b\u6765\u5b9a\u4e49\u590d\u6742\u7684\u7ea6\u675f\u6761\u4ef6\u3002\n\u4f8b\u5982\u4e0b\u9762\u7684\u4e24\u4e2a\u7c7b\n\n"
      ]
    },
    {
      "cell_type": "code",
      "execution_count": null,
      "metadata": {
        "collapsed": false
      },
      "outputs": [],
      "source": [
        "class Model1(BaseModel):\n    name: str = Field(\n        min_length=0,\n        max_length=20,\n        description=\"\u59d3\u540d\",\n    )\n    description: str = Field(\n        min_length=0,\n        max_length=200,\n        description=\"\u7b80\u77ed\u7684\u4ecb\u7ecd\",\n    )\n    age: int = Field(\n        ge=0,\n        le=100,\n        description=\"\u5e74\u9f84\",\n    )\n\n\nclass Model2(BaseModel):\n    choice: Literal[\"apple\", \"banana\"] = Field(description=\"\u4f60\u7684\u9009\u62e9\")"
      ]
    },
    {
      "cell_type": "markdown",
      "metadata": {},
      "source": [
        "AgentScope \u4e2d\u7684 `ReActAgentV2` \u4f1a\u5c06 `BaseModel` \u5b50\u7c7b\u7684 JSON Schema \u548c\u4e00\u4e2a\u540d\n\u4e3a `generate_response` \u51fd\u6570\u7684 schema \u7ed3\u5408\u5728\u4e00\u8d77\uff0c\u751f\u6210\u4e00\u4e2a\u65b0\u7684 schema\uff0c\u5728\u6a21\u578b\u8c03\u7528\n\u8be5\u51fd\u6570\u7684\u65f6\u5019\uff0c\u53ef\u4ee5\u5229\u7528\u8be5\u51fd\u6570\u7684 Schema \u6765\u7ea6\u675f\u6a21\u578b\u7684\u8f93\u51fa\u3002\n\n\u4f8b\u5982\u4e0b\u9762\u6211\u4eec\u5c55\u793a\u5982\u4f55\u4f7f\u7528 `ReActAgentV2` \u5b9e\u73b0 ReAct \u7b97\u6cd5\u548c\u7ed3\u6784\u5316\u8f93\u51fa\u7684\u7ed3\u5408\n\n"
      ]
    },
    {
      "cell_type": "code",
      "execution_count": null,
      "metadata": {
        "collapsed": false
      },
      "outputs": [],
      "source": [
        "from agentscope.agents import ReActAgentV2\nfrom agentscope.service import ServiceToolkit\nfrom agentscope.message import Msg\nimport agentscope\n\nagentscope.init(\n    model_configs={\n        \"config_name\": \"my_config\",\n        \"model_type\": \"dashscope_chat\",\n        \"model_name\": \"qwen-max\",\n    },\n)\n\ntoolkit = ServiceToolkit()\n\nagent = ReActAgentV2(\n    name=\"Friday\",\n    model_config_name=\"my_config\",\n    service_toolkit=toolkit,\n)\n\nmsg1 = Msg(\"user\", \"\u4ecb\u7ecd\u4e0b\u7231\u56e0\u65af\u5766\", \"user\")\nres_msg = agent(msg1, structured_model=Model1)\n\nprint(\"\u7ed3\u6784\u5316\u8f93\u51fa\u7684\u5185\u5bb9: \", res_msg.metadata)"
      ]
    },
    {
      "cell_type": "markdown",
      "metadata": {},
      "source": [
        "\u53ef\u4ee5\u901a\u8fc7\u5207\u6362\u4e0d\u540c\u7684 `structured_model` \u6765\u5b9e\u73b0\u4e0d\u540c\u7684\u7ed3\u6784\u5316\u8f93\u51fa\n\n"
      ]
    },
    {
      "cell_type": "code",
      "execution_count": null,
      "metadata": {
        "collapsed": false
      },
      "outputs": [],
      "source": [
        "msg2 = Msg(\"user\", \"\u9009\u62e9\u4e00\u79cd\u6c34\u679c\", \"user\")\nres_msg = agent(msg2, structured_model=Model2)\n\nprint(\"\u7ed3\u6784\u5316\u8f93\u51fa\u7684\u5185\u5bb9: \", res_msg.metadata)"
      ]
    },
    {
      "cell_type": "markdown",
      "metadata": {},
      "source": [
        "\u4e3a\u4e86\u89c2\u5bdf `ReActAgentV2` \u4e2d\u5982\u4f55\u52a8\u6001\u7684\u6784\u9020\u51fd\u6570\u7684 schema\uff0c\u8fd9\u91cc\u6211\u4eec\u53bb\u6389\u4e00\u4e2a\u6e05\u7406\u7ed3\u6784\u5316\u8f93\u51fa\u8bbe\u7f6e\u7684\nhook \u51fd\u6570\uff0c\u4ece\u800c\u80fd\u591f\u6253\u5370\u51fa\u5bf9\u5e94\u7684\u52a0\u5de5\u540e\u7684\u51fd\u6570 schema\n\n"
      ]
    },
    {
      "cell_type": "code",
      "execution_count": null,
      "metadata": {
        "collapsed": false
      },
      "outputs": [],
      "source": [
        "# \u6e05\u7a7a\u8bb0\u5fc6\nagent.memory.clear()\n# \u53bb\u6389\u6e05\u7406\u7ed3\u6784\u5316\u8f93\u51fa\u7684 hook \u51fd\u6570\nagent.remove_hook(\"post_reply\", \"as_clear_structured_output\")\n\n# \u89c2\u5bdf\u5f53\u524d\u76ee\u6807\u51fd\u6570\u7684 schema\nprint(\n    json.dumps(\n        toolkit.json_schemas[agent._finish_function],\n        indent=4,\n        ensure_ascii=False,\n    ),\n)"
      ]
    },
    {
      "cell_type": "markdown",
      "metadata": {},
      "source": [
        "\u73b0\u5728\u6211\u4eec\u8c03\u7528\u4e00\u6b21\u667a\u80fd\u4f53\uff0c\u7136\u540e\u89c2\u5bdf\u76ee\u6807\u51fd\u6570\u7684 schema \u53d8\u5316\u60c5\u51b5\n\n"
      ]
    },
    {
      "cell_type": "code",
      "execution_count": null,
      "metadata": {
        "collapsed": false
      },
      "outputs": [],
      "source": [
        "res_msg = agent(msg1, structured_model=Model1)\n\nprint(\n    json.dumps(\n        toolkit.json_schemas[agent._finish_function],\n        indent=4,\n        ensure_ascii=False,\n    ),\n)"
      ]
    },
    {
      "cell_type": "markdown",
      "metadata": {},
      "source": [
        "\u8fd9\u91cc\u6211\u4eec\u53ef\u4ee5\u770b\u51fa\uff0c`generate_response` \u51fd\u6570\u7684 schema \u5df2\u7ecf\u4e0e `Model1` \u7c7b\u7684 schema \u7ed3\u5408\u5728\u4e86\u4e00\u8d77\uff0c\n\u56e0\u6b64\uff0c\u5f53\u5927\u6a21\u578b\u8c03\u7528\u8be5\u5de5\u5177\u7684\u65f6\u5019\uff0c\u4e5f\u5c31\u4ea7\u751f\u4e86\u5bf9\u5e94\u7684\u7ed3\u6784\u5316\u6570\u636e\u3002\n\n.. tip:: \u66f4\u591a\u5b9e\u73b0\u7ec6\u8282\u53ef\u4ee5\u53c2\u8003 `ReActAgentV2` \u7684 `\u6e90\u7801`_\n\n\n## \u6587\u672c\u89e3\u6790\n\nAgentScope \u4e2d\u7684 `parsers` \u6a21\u5757\u63d0\u4f9b\u4e86\u591a\u79cd\u4e0d\u540c\u7684\u89e3\u6790\u5668\u7c7b\uff0c\u5f00\u53d1\u8005\u53ef\u4ee5\u6839\u636e\u6240\u9700\u7ed3\u6784\u5316\u6570\u636e\u7684\u4e0d\u540c\u9009\u7528\u5408\u9002\u7684\u89e3\u6790\u5668\u3002\n\n\u4ee5 Markdown \u683c\u5f0f\u4e3a\u4f8b\uff0c\u6211\u4eec\u5c55\u793a\u5982\u4f55\u6784\u5efa\u4e00\u4e2a\u7b80\u5355\u7684\u667a\u80fd\u4f53\uff0c\u5e76\u4f7f\u7528 `MarkdownJsonDictParser` \u7c7b\u4ece\u6587\u672c\u4e2d\u89e3\u6790\u51fa\u5b57\u5178\u7c7b\u578b\u7684\u7ed3\u6784\u5316\u6570\u636e\u3002\n\n### \u6784\u5efa\u89e3\u6790\u5668\n\n`MarkdownJsonDictParser` \u8981\u6c42\u8f93\u5165\u7684\u6587\u672c\u5c06\u7ed3\u6784\u5316\u6570\u636e\u5305\u88f9\u5728 Markdown \u7684\u4ee3\u7801\u5feb\u4e2d\uff0c\u4ee5`\\`\\`\\``\u4f5c\u4e3a\u5f00\u5934\u548c\u7ed3\u5c3e\uff0c\u5e76\u4ece\u4e2d\u89e3\u6790\u51fa\u5bf9\u5e94\u7684\u5b57\u5178\u6570\u636e\u3002\n\n"
      ]
    },
    {
      "cell_type": "code",
      "execution_count": null,
      "metadata": {
        "collapsed": false
      },
      "outputs": [],
      "source": [
        "from agentscope.models import ModelResponse\nfrom agentscope.parsers import MarkdownJsonDictParser\n\n\nparser = MarkdownJsonDictParser(\n    content_hint='{\"thought\": \"\u4f60\u7684\u60f3\u6cd5\", \"speak\": \"\u4f60\u5bf9\u7528\u6237\u8bf4\u7684\u8bdd\"}',\n    required_keys=[\"thought\", \"speak\"],\n)"
      ]
    },
    {
      "cell_type": "markdown",
      "metadata": {},
      "source": [
        "\u89e3\u6790\u5668\u5c06\u6839\u636e\u4f60\u7684\u8f93\u5165\u751f\u6210\u4e00\u4e2a\u683c\u5f0f\u8bf4\u660e\u3002\u4f60\u53ef\u4ee5\u5728\u63d0\u793a\u4e2d\u4f7f\u7528 `format_instruction` \u5c5e\u6027\u6765\u6307\u5bfc LLM \u751f\u6210\u6240\u9700\u7684\u8f93\u51fa\u3002\n\n"
      ]
    },
    {
      "cell_type": "code",
      "execution_count": null,
      "metadata": {
        "collapsed": false
      },
      "outputs": [],
      "source": [
        "print(parser.format_instruction)"
      ]
    },
    {
      "cell_type": "markdown",
      "metadata": {},
      "source": [
        "### \u89e3\u6790\u8f93\u51fa\n\u5f53\u4ece LLM \u63a5\u6536\u5230\u8f93\u51fa\u65f6\uff0c\u4f7f\u7528 `parse` \u65b9\u6cd5\u6765\u63d0\u53d6\u7ed3\u6784\u5316\u6570\u636e\u3002\n\u5b83\u63a5\u6536\u4e00\u4e2a `agentscope.models.ModelResponse` \u5bf9\u8c61\u4f5c\u4e3a\u8f93\u5165\uff0c\u89e3\u6790 `text` \u5b57\u6bb5\u7684\u503c\uff0c\u5e76\u5728 `parsed` \u5b57\u6bb5\u4e2d\u8fd4\u56de\u89e3\u6790\u540e\u7684\u5b57\u5178\u3002\n\n"
      ]
    },
    {
      "cell_type": "code",
      "execution_count": null,
      "metadata": {
        "collapsed": false
      },
      "outputs": [],
      "source": [
        "dummy_response = ModelResponse(\n    text=\"\"\"```json\n{\n    \"thought\": \"\u6211\u5e94\u8be5\u5411\u7528\u6237\u6253\u62db\u547c\",\n    \"speak\": \"\u55e8!\u6211\u80fd\u4e3a\u60a8\u505a\u4e9b\u4ec0\u4e48?\"\n}\n```\"\"\",\n)\n\nprint(f\"\u89e3\u6790\u524dparsed\u5b57\u6bb5: {dummy_response.parsed}\")\n\nparsed_response = parser.parse(dummy_response)\n\nprint(f\"\u89e3\u6790\u540eparsed\u5b57\u6bb5: {parsed_response.parsed}\")\nprint(f\"parsed\u5b57\u6bb5\u7c7b\u578b: {type(parsed_response.parsed)}\")"
      ]
    },
    {
      "cell_type": "markdown",
      "metadata": {},
      "source": [
        "### \u9519\u8bef\u5904\u7406\n\u5982\u679cLLM\u7684\u8f93\u51fa\u4e0e\u9884\u671f\u683c\u5f0f\u4e0d\u5339\u914d\uff0c\u89e3\u6790\u5668\u5c06\u629b\u51fa\u4e00\u4e2a\u5305\u542b\u8be6\u7ec6\u4fe1\u606f\u7684\u9519\u8bef\u3002\n\u5f00\u53d1\u8005\u53ef\u4ee5\u5c06\u9519\u8bef\u4fe1\u606f\u53cd\u9988\u7ed9 LLM\uff0c\u5f15\u5bfc\u5176\u751f\u6210\u6b63\u786e\u683c\u5f0f\u7684\u8f93\u51fa\u3002\n\n\n"
      ]
    },
    {
      "cell_type": "code",
      "execution_count": null,
      "metadata": {
        "collapsed": false
      },
      "outputs": [],
      "source": [
        "error_response = ModelResponse(\n    text=\"\"\"```json\n{\n    \"thought\": \"\u6211\u5e94\u8be5\u5411\u7528\u6237\u6253\u62db\u547c\"\n}\n```\"\"\",\n)\n\ntry:\n    parsed_response = parser.parse(error_response)\nexcept Exception as e:\n    print(e)"
      ]
    },
    {
      "cell_type": "markdown",
      "metadata": {},
      "source": [
        "### \u8fdb\u9636\u7528\u6cd5\n\u590d\u6742\u7ed3\u6784\u5316\u8f93\u51fa\n^^^^^^^^^^^^^^^^^^^^^^^^^^^^^^\n\u8981\u6c42 LLM \u76f4\u63a5\u751f\u6210 JSON \u5b57\u5178\u53ef\u80fd\u5177\u6709\u6311\u6218\u6027\uff0c\u7279\u522b\u662f\u5f53 JSON \u5185\u5bb9\u5f88\u590d\u6742\u65f6\uff08\u4f8b\u5982\u4ee3\u7801\u7247\u6bb5\u3001\u5d4c\u5957\u7ed3\u6784\uff09\u3002\n\u5728\u8fd9\u79cd\u60c5\u51b5\u4e0b\uff0c\u4f60\u53ef\u4ee5\u4f7f\u7528\u66f4\u9ad8\u7ea7\u7684\u89e3\u6790\u5668\u6765\u6307\u5bfc LLM \u751f\u6210\u6240\u9700\u7684\u8f93\u51fa\u3002\n\u8fd9\u91cc\u662f\u4e00\u4e2a\u66f4\u590d\u6742\u7684\u89e3\u6790\u5668\u793a\u4f8b\uff0c\u53ef\u4ee5\u5904\u7406\u4ee3\u7801\u7247\u6bb5\u3002\n\n\n"
      ]
    },
    {
      "cell_type": "code",
      "execution_count": null,
      "metadata": {
        "collapsed": false
      },
      "outputs": [],
      "source": [
        "from agentscope.parsers import RegexTaggedContentParser\n\nparser = RegexTaggedContentParser(\n    format_instruction=\"\"\"\u6309\u4ee5\u4e0b\u683c\u5f0f\u4f5c\u7b54:\n<thought>\u4f60\u7684\u60f3\u6cd5</thought>\n<number>\u8fd9\u91cc\u653e\u4e00\u4e2a\u968f\u673a\u6570\u5b57</number>\n<code>\u4f60\u7684python\u4ee3\u7801</code>\n\"\"\",\n    try_parse_json=True,  # \u4f1a\u5c1d\u8bd5\u5c06\u6bcf\u4e2a\u952e\u503c\u89e3\u6790\u4e3aJSON\u5bf9\u8c61\uff0c\u5982\u679c\u5931\u8d25\u5219\u4fdd\u7559\u4e3a\u5b57\u7b26\u4e32\n    required_keys=[  # \u89e3\u6790\u5b57\u5178\u4e2d\u7684\u5fc5\u9700\u952e\n        \"thought\",\n        \"number\",\n        \"code\",\n    ],\n)\n\nprint(parser.format_instruction)"
      ]
    },
    {
      "cell_type": "markdown",
      "metadata": {},
      "source": [
        "`RegexTaggedContentParser` \u652f\u6301\u4f7f\u7528\u6b63\u5219\u8868\u8fbe\u5f0f\u5339\u914d\u6587\u672c\u4e2d\u7684\u6807\u8bb0\u5185\u5bb9\u5e76\u8fd4\u56de\u89e3\u6790\u540e\u7684\u5b57\u5178\u3002\n\n<div class=\"alert alert-info\"><h4>Note</h4><p>`RegexTaggedContentParser` \u7684\u89e3\u6790\u8f93\u51fa\u662f\u4e00\u4e2a\u5b57\u5178\uff0c\u56e0\u6b64 key \u5fc5\u987b\u552f\u4e00\u3002</p></div>\n \u53ef\u4ee5\u901a\u8fc7\u8bbe\u7f6e `tagged_content_pattern` \u53c2\u6570\u6765\u66f4\u6539\u6b63\u5219\u8868\u8fbe\u5f0f\u6a21\u5f0f\u3002\n\n"
      ]
    },
    {
      "cell_type": "code",
      "execution_count": null,
      "metadata": {
        "collapsed": false
      },
      "outputs": [],
      "source": [
        "import json\n\ndummy_response = ModelResponse(\n    text=\"\"\"<thought>\u6253\u5370\u5f53\u524d\u65e5\u671f</thought>\n<number>42</number>\n<code>import datetime\nprint(datetime.datetime.now())\n</code>\n\"\"\",\n)\n\nparsed_response = parser.parse(dummy_response)\n\nprint(\"\u89e3\u6790\u54cd\u5e94\u7684\u7c7b\u578b: \", type(parsed_response.parsed))\nprint(\"number\u7684\u7c7b\u578b: \", type(parsed_response.parsed[\"number\"]))\nprint(json.dumps(parsed_response.parsed, indent=4, ensure_ascii=False))"
      ]
    },
    {
      "cell_type": "markdown",
      "metadata": {},
      "source": [
        "#### \u81ea\u52a8\u540e\u5904\u7406\n\n\u5728\u89e3\u6790\u540e\u7684\u5b57\u5178\u4e2d\uff0c\u4e0d\u540c\u7684\u952e\u53ef\u80fd\u9700\u8981\u4e0d\u540c\u7684\u540e\u5904\u7406\u6b65\u9aa4\u3002\n\u4f8b\u5982\uff0c\u5728\u72fc\u4eba\u6740\u6e38\u620f\u4e2d\uff0cLLM \u626e\u6f14\u9884\u8a00\u5bb6\u7684\u89d2\u8272\uff0c\u8f93\u51fa\u5e94\u8be5\u5305\u542b\u4ee5\u4e0b\u952e\u503c:\n\n- `thought`: \u9884\u8a00\u5bb6\u7684\u60f3\u6cd5\n- `speak`: \u9884\u8a00\u5bb6\u7684\u53d1\u8a00\n- `use_ability`: \u4e00\u4e2a\u5e03\u5c14\u503c\uff0c\u8868\u793a\u9884\u8a00\u5bb6\u662f\u5426\u5e94\u8be5\u4f7f\u7528\u5176\u80fd\u529b\n\n\u5728\u8fd9\u79cd\u60c5\u51b5\u4e0b\uff0c`thought` \u548c `speak` \u5185\u5bb9\u5e94\u8be5\u5b58\u50a8\u5728\u667a\u80fd\u4f53\u7684\u8bb0\u5fc6\u4e2d\uff0c\u4ee5\u786e\u4fdd\u667a\u80fd\u4f53\u884c\u4e3a/\u7b56\u7565\u7684\u4e00\u81f4\u6027\u3002\n`speak` \u5185\u5bb9\u5e94\u8be5\u66b4\u9732\u7ed9\u5176\u5b83\u667a\u80fd\u4f53\u6216\u73a9\u5bb6\u3002\n`use_ability` \u952e\u5e94\u8be5\u80fd\u5728\u4e3b\u6d41\u7a0b\u4e2d\u8bbf\u95ee\u5230\uff0c\u4ece\u800c\u786e\u5b9a\u6e38\u620f\u4e0b\u4e00\u6b65\u7684\u64cd\u4f5c\uff08\u4f8b\u5982\u662f\u5426\u4f7f\u7528\u80fd\u529b\uff09\u3002\n\nAgentScope \u901a\u8fc7\u4ee5\u4e0b\u53c2\u6570\u6765\u81ea\u52a8\u5bf9\u89e3\u6790\u540e\u7684\u5b57\u5178\u8fdb\u884c\u540e\u5904\u7406\u3002\n\n- `keys_to_memory`: \u5e94\u5b58\u50a8\u5728\u667a\u80fd\u4f53\u8bb0\u5fc6\u4e2d\u7684\u952e\n- `keys_to_content`: \u5e94\u5b58\u50a8\u5728\u8fd4\u56de\u6d88\u606f\u7684 content \u5b57\u6bb5\u4e2d\u7684\u952e\uff0c\u4f1a\u66b4\u9732\u7ed9\u5176\u5b83\u667a\u80fd\u4f53\n- `keys_to_metadata`: \u5e94\u5b58\u50a8\u5728\u8fd4\u56de\u6d88\u606f\u7684\u5143\u6570\u636e\uff08metadata\uff09\u5b57\u6bb5\u4e2d\u7684\u952e\n\n<div class=\"alert alert-info\"><h4>Note</h4><p>\u5982\u679c\u63d0\u4f9b\u4e86\u4e00\u4e2a\u5b57\u7b26\u4e32\uff0c\u89e3\u6790\u5668\u5c06\u4ece\u89e3\u6790\u540e\u7684\u5b57\u5178\u4e2d\u63d0\u53d6\u7ed9\u5b9a\u952e\u7684\u503c\u3002\u5982\u679c\u63d0\u4f9b\u4e86\u4e00\u4e2a\u5b57\u7b26\u4e32\u5217\u8868\uff0c\u5c06\u521b\u5efa\u4e00\u4e2a\u5305\u542b\u7ed9\u5b9a\u952e\u7684\u5b50\u5b57\u5178\u3002</p></div>\n\n\u4e0b\u9762\u662f\u4f7f\u7528 `MarkdownJsonDictParser` \u81ea\u52a8\u540e\u5904\u7406\u89e3\u6790\u540e\u5b57\u5178\u7684\u793a\u4f8b\u3002\n\n\n"
      ]
    },
    {
      "cell_type": "code",
      "execution_count": null,
      "metadata": {
        "collapsed": false
      },
      "outputs": [],
      "source": [
        "parser = MarkdownJsonDictParser(\n    content_hint='{\"thought\": \"\u4f60\u7684\u60f3\u6cd5\", \"speak\": \"\u4f60\u5bf9\u7528\u6237\u8bf4\u7684\u8bdd\", \"use_ability\": \"\u662f\u5426\u4f7f\u7528\u80fd\u529b\"}',\n    keys_to_memory=[\"thought\", \"speak\"],\n    keys_to_content=\"speak\",\n    keys_to_metadata=\"use_ability\",\n)\n\ndummy_response = ModelResponse(\n    text=\"\"\"```json\n{\n    \"thought\": \"\u6211\u5e94\u8be5...\",\n    \"speak\": \"\u6211\u4e0d\u4f1a\u4f7f\u7528\u6211\u7684\u80fd\u529b\",\n    \"use_ability\": false\n}```\n\"\"\",\n)\n\nparsed_response = parser.parse(dummy_response)\n\nprint(\"\u89e3\u6790\u540e\u7684\u54cd\u5e94: \", parsed_response.parsed)\nprint(\"\u5b58\u50a8\u5230\u8bb0\u5fc6\", parser.to_memory(parsed_response.parsed))\nprint(\"\u5b58\u50a8\u5230\u6d88\u606f content \u5b57\u6bb5: \", parser.to_content(parsed_response.parsed))\nprint(\"\u5b58\u50a8\u5230\u6d88\u606f metadata \u5b57\u6bb5: \", parser.to_metadata(parsed_response.parsed))"
      ]
    },
    {
      "cell_type": "markdown",
      "metadata": {},
      "source": [
        "\u8fd9\u91cc\u6211\u4eec\u5c55\u793a\u5982\u4f55\u521b\u5efa\u4e00\u4e2a\u667a\u80fd\u4f53\uff0c\u5b83\u5728 `reply` \u65b9\u6cd5\u4e2d\u901a\u8fc7\u4ee5\u4e0b\u6b65\u9aa4\u5b9e\u73b0\u81ea\u52a8\u5316\u7684\u540e\u5904\u7406\u3002\n\n1. \u5728\u63d0\u793a\u4e2d\u653e\u5165\u683c\u5f0f\u8bf4\u660e\uff0c\u4ee5\u6307\u5bfc LLM \u751f\u6210\u6240\u9700\u7684\u8f93\u51fa\n2. \u89e3\u6790 LLM \u7684\u8fd4\u56de\u503c\n3. \u4f7f\u7528 `to_memory`\u3001`to_content` \u548c `to_metadata` \u65b9\u6cd5\u540e\u5904\u7406\u89e3\u6790\u540e\u7684\u5b57\u5178\n\n.. tip:: \u901a\u8fc7\u66f4\u6539\u4e0d\u540c\u7684\u89e3\u6790\u5668\uff0c\u667a\u80fd\u4f53\u53ef\u4ee5\u9002\u5e94\u4e0d\u540c\u7684\u573a\u666f\uff0c\u5e76\u4ee5\u5404\u79cd\u683c\u5f0f\u751f\u6210\u7ed3\u6784\u5316\u8f93\u51fa\u3002\n\n\n"
      ]
    },
    {
      "cell_type": "code",
      "execution_count": null,
      "metadata": {
        "collapsed": false
      },
      "outputs": [],
      "source": [
        "from agentscope.models import DashScopeChatWrapper\nfrom agentscope.agents import AgentBase\n\n\nclass Agent(AgentBase):\n    def __init__(self):\n        self.name = \"Alice\"\n        super().__init__(name=self.name)\n\n        self.sys_prompt = f\"\u4f60\u662f\u4e00\u4e2a\u540d\u4e3a{self.name}\u7684\u6709\u7528\u52a9\u624b\u3002\"\n\n        self.model = DashScopeChatWrapper(\n            config_name=\"_\",\n            model_name=\"qwen-max\",\n        )\n\n        self.parser = MarkdownJsonDictParser(\n            content_hint='{\"thought\": \"\u4f60\u7684\u60f3\u6cd5\", \"speak\": \"\u4f60\u5bf9\u7528\u6237\u8bf4\u7684\u8bdd\", \"use_ability\": \"\u662f\u5426\u4f7f\u7528\u80fd\u529b\"}',\n            keys_to_memory=[\"thought\", \"speak\"],\n            keys_to_content=\"speak\",\n            keys_to_metadata=\"use_ability\",\n        )\n\n        self.memory.add(Msg(\"system\", self.sys_prompt, \"system\"))\n\n    def reply(self, msg):\n        self.memory.add(msg)\n\n        prompt = self.model.format(\n            self.memory.get_memory(),\n            # \u6307\u793a\u6a21\u578b\u6309\u8981\u6c42\u7684\u683c\u5f0f\u4f5c\u7b54\n            Msg(\"system\", self.parser.format_instruction, \"system\"),\n        )\n\n        response = self.model(prompt)\n\n        parsed_response = self.parser.parse(response)\n\n        self.memory.add(\n            Msg(\n                name=self.name,\n                content=self.parser.to_memory(parsed_response.parsed),\n                role=\"assistant\",\n            ),\n        )\n\n        return Msg(\n            name=self.name,\n            content=self.parser.to_content(parsed_response.parsed),\n            role=\"assistant\",\n            metadata=self.parser.to_metadata(parsed_response.parsed),\n        )"
      ]
    }
  ],
  "metadata": {
    "kernelspec": {
      "display_name": "Python 3",
      "language": "python",
      "name": "python3"
    },
    "language_info": {
      "codemirror_mode": {
        "name": "ipython",
        "version": 3
      },
      "file_extension": ".py",
      "mimetype": "text/x-python",
      "name": "python",
      "nbconvert_exporter": "python",
      "pygments_lexer": "ipython3",
      "version": "3.10.17"
    }
  },
  "nbformat": 4,
  "nbformat_minor": 0
}