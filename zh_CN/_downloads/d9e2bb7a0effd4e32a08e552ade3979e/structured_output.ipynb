{
  "cells": [
    {
      "cell_type": "markdown",
      "metadata": {},
      "source": [
        "\n\n# \u7ed3\u6784\u5316\u8f93\u51fa\n\n\u5728\u672c\u6559\u7a0b\u4e2d\uff0c\u6211\u4eec\u5c06\u6784\u5efa\u4e00\u4e2a\u7b80\u5355\u7684\u667a\u80fd\u4f53\uff0c\u4f7f\u7528 `agentscope.parsers` \u6a21\u5757\u4ee5 JSON \u5b57\u5178\u683c\u5f0f\u8f93\u51fa\u7ed3\u6784\u5316\u6570\u636e\u3002\n"
      ]
    },
    {
      "cell_type": "code",
      "execution_count": null,
      "metadata": {
        "collapsed": false
      },
      "outputs": [],
      "source": [
        "from agentscope.models import ModelResponse"
      ]
    },
    {
      "cell_type": "markdown",
      "metadata": {},
      "source": [
        "## \u5b9a\u4e49\u89e3\u6790\u5668\n\n"
      ]
    },
    {
      "cell_type": "code",
      "execution_count": null,
      "metadata": {
        "collapsed": false
      },
      "outputs": [],
      "source": [
        "from agentscope.parsers import MarkdownJsonDictParser\n\n\nparser = MarkdownJsonDictParser(\n    content_hint='{\"thought\": \"\u4f60\u7684\u60f3\u6cd5\", \"speak\": \"\u4f60\u5bf9\u7528\u6237\u8bf4\u7684\u8bdd\"}',\n    required_keys=[\"thought\", \"speak\"],\n)"
      ]
    },
    {
      "cell_type": "markdown",
      "metadata": {},
      "source": [
        "\u89e3\u6790\u5668\u5c06\u6839\u636e\u4f60\u7684\u8f93\u5165\u751f\u6210\u4e00\u4e2a\u683c\u5f0f\u8bf4\u660e\u3002\u4f60\u53ef\u4ee5\u5728\u63d0\u793a\u4e2d\u4f7f\u7528 `format_instruction` \u5c5e\u6027\u6765\u6307\u5bfc LLM \u751f\u6210\u6240\u9700\u7684\u8f93\u51fa\u3002\n\n"
      ]
    },
    {
      "cell_type": "code",
      "execution_count": null,
      "metadata": {
        "collapsed": false
      },
      "outputs": [],
      "source": [
        "print(parser.format_instruction)"
      ]
    },
    {
      "cell_type": "markdown",
      "metadata": {},
      "source": [
        "## \u89e3\u6790\u8f93\u51fa\n\u5f53\u4ece LLM \u63a5\u6536\u5230\u8f93\u51fa\u65f6\uff0c\u4f7f\u7528 `parse` \u65b9\u6cd5\u6765\u63d0\u53d6\u7ed3\u6784\u5316\u6570\u636e\u3002\n\u5b83\u63a5\u53d7\u4e00\u4e2a `agentscope.models.ModelResponse` \u5bf9\u8c61\u4f5c\u4e3a\u8f93\u5165\uff0c\u89e3\u6790 `text` \u5b57\u6bb5\u7684\u503c\uff0c\u5e76\u5728 `parsed` \u5b57\u6bb5\u4e2d\u8fd4\u56de\u89e3\u6790\u540e\u7684\u5b57\u5178\u3002\n\n"
      ]
    },
    {
      "cell_type": "code",
      "execution_count": null,
      "metadata": {
        "collapsed": false
      },
      "outputs": [],
      "source": [
        "dummy_response = ModelResponse(\n    text=\"\"\"```json\n{\n    \"thought\": \"\u6211\u5e94\u8be5\u5411\u7528\u6237\u6253\u62db\u547c\",\n    \"speak\": \"\u55e8!\u6211\u80fd\u4e3a\u60a8\u505a\u4e9b\u4ec0\u4e48?\"\n}\n```\"\"\",\n)\n\nprint(f\"\u89e3\u6790\u524dparsed\u5b57\u6bb5: {dummy_response.parsed}\")\n\nparsed_response = parser.parse(dummy_response)\n\nprint(f\"\u89e3\u6790\u540eparsed\u5b57\u6bb5: {parsed_response.parsed}\")\nprint(type(parsed_response.parsed))"
      ]
    },
    {
      "cell_type": "markdown",
      "metadata": {},
      "source": [
        "## \u9519\u8bef\u5904\u7406\n\u5982\u679cLLM\u7684\u8f93\u51fa\u4e0e\u9884\u671f\u683c\u5f0f\u4e0d\u5339\u914d\uff0c\u89e3\u6790\u5668\u5c06\u629b\u51fa\u4e00\u4e2a\u5305\u542b\u8be6\u7ec6\u4fe1\u606f\u7684\u9519\u8bef\u3002\n\u56e0\u6b64\u5f00\u53d1\u4eba\u5458\u53ef\u4ee5\u5c06\u9519\u8bef\u6d88\u606f\u5448\u73b0\u7ed9 LLM\uff0c\u4ee5\u6307\u5bfc\u5b83\u7ea0\u6b63\u8f93\u51fa\u3002\n\n\n"
      ]
    },
    {
      "cell_type": "code",
      "execution_count": null,
      "metadata": {
        "collapsed": false
      },
      "outputs": [],
      "source": [
        "error_response = ModelResponse(\n    text=\"\"\"```json\n{\n    \"thought\": \"\u6211\u5e94\u8be5\u5411\u7528\u6237\u6253\u62db\u547c\"\n}\n```\"\"\",\n)\n\ntry:\n    parsed_response = parser.parse(error_response)\nexcept Exception as e:\n    print(e)"
      ]
    },
    {
      "cell_type": "markdown",
      "metadata": {},
      "source": [
        "## \u8fdb\u9636\u7528\u6cd5\n\u590d\u6742\u7ed3\u6784\u5316\u8f93\u51fa\n^^^^^^^^^^^^^^^^^^^^^^^^^^^^^^\n\u8981\u6c42 LLM \u76f4\u63a5\u751f\u6210 JSON \u5b57\u5178\u53ef\u80fd\u5177\u6709\u6311\u6218\u6027\uff0c\u7279\u522b\u662f\u5f53 JSON \u5185\u5bb9\u5f88\u590d\u6742\u65f6\uff08\u4f8b\u5982\u4ee3\u7801\u7247\u6bb5\u3001\u5d4c\u5957\u7ed3\u6784\uff09\u3002\n\u5728\u8fd9\u79cd\u60c5\u51b5\u4e0b\uff0c\u4f60\u53ef\u4ee5\u4f7f\u7528\u66f4\u9ad8\u7ea7\u7684\u89e3\u6790\u5668\u6765\u6307\u5bfc LLM \u751f\u6210\u6240\u9700\u7684\u8f93\u51fa\u3002\n\u8fd9\u91cc\u662f\u4e00\u4e2a\u66f4\u590d\u6742\u7684\u89e3\u6790\u5668\u793a\u4f8b\uff0c\u53ef\u4ee5\u5904\u7406\u4ee3\u7801\u7247\u6bb5\u3002\n\n\n"
      ]
    },
    {
      "cell_type": "code",
      "execution_count": null,
      "metadata": {
        "collapsed": false
      },
      "outputs": [],
      "source": [
        "from agentscope.parsers import RegexTaggedContentParser\n\nparser = RegexTaggedContentParser(\n    format_instruction=\"\"\"\u6309\u4ee5\u4e0b\u683c\u5f0f\u4f5c\u7b54:\n<thought>\u4f60\u7684\u60f3\u6cd5</thought>\n<number>\u8fd9\u91cc\u653e\u4e00\u4e2a\u968f\u673a\u6570\u5b57</number>\n<code>\u4f60\u7684python\u4ee3\u7801</code>\n\"\"\",\n    try_parse_json=True,  # \u4f1a\u5c1d\u8bd5\u5c06\u6bcf\u4e2a\u952e\u503c\u89e3\u6790\u4e3aJSON\u5bf9\u8c61\uff0c\u5982\u679c\u5931\u8d25\u5219\u4fdd\u7559\u4e3a\u5b57\u7b26\u4e32\n    required_keys=[  # \u89e3\u6790\u5b57\u5178\u4e2d\u7684\u5fc5\u9700\u952e\n        \"thought\",\n        \"number\",\n        \"code\",\n    ],\n)\n\nprint(parser.format_instruction)"
      ]
    },
    {
      "cell_type": "markdown",
      "metadata": {},
      "source": [
        "`RegexTaggedContentParser` \u652f\u6301\u4f7f\u7528\u6b63\u5219\u8868\u8fbe\u5f0f\u5339\u914d\u6587\u672c\u4e2d\u7684\u6807\u8bb0\u5185\u5bb9\u5e76\u8fd4\u56de\u89e3\u6790\u540e\u7684\u5b57\u5178\u3002\n\n<div class=\"alert alert-info\"><h4>Note</h4><p>`RegexTaggedContentParser`\u7684\u89e3\u6790\u8f93\u51fa\u662f\u4e00\u4e2a\u5b57\u5178\uff0c\u8fd9\u610f\u5473\u7740\u5fc5\u9700\u952e\u5e94\u8be5\u662f\u552f\u4e00\u7684\u3002</p></div>\n \u4f60\u4e5f\u53ef\u4ee5\u5728\u521d\u59cb\u5316\u89e3\u6790\u5668\u65f6\u901a\u8fc7\u8bbe\u7f6e `tagged_content_pattern` \u53c2\u6570\u6765\u66f4\u6539\u6b63\u5219\u8868\u8fbe\u5f0f\u6a21\u5f0f\u3002\n\n"
      ]
    },
    {
      "cell_type": "code",
      "execution_count": null,
      "metadata": {
        "collapsed": false
      },
      "outputs": [],
      "source": [
        "import json\n\ndummy_response = ModelResponse(\n    text=\"\"\"<thought>\u6253\u5370\u5f53\u524d\u65e5\u671f</thought>\n<number>42</number>\n<code>import datetime\nprint(datetime.datetime.now())\n</code>\n\"\"\",\n)\n\nparsed_response = parser.parse(dummy_response)\n\nprint(\"\u89e3\u6790\u54cd\u5e94\u7684\u7c7b\u578b: \", type(parsed_response.parsed))\nprint(\"number\u7684\u7c7b\u578b: \", type(parsed_response.parsed[\"number\"]))\nprint(json.dumps(parsed_response.parsed, indent=4, ensure_ascii=False))"
      ]
    },
    {
      "cell_type": "markdown",
      "metadata": {},
      "source": [
        "### \u81ea\u52a8\u540e\u5904\u7406\n\n\u5728\u89e3\u6790\u540e\u7684\u5b57\u5178\u4e2d\uff0c\u4e0d\u540c\u7684\u952e\u53ef\u80fd\u9700\u8981\u4e0d\u540c\u7684\u540e\u5904\u7406\u6b65\u9aa4\u3002\n\u4f8b\u5982\uff0c\u5728\u72fc\u4eba\u6740\u6e38\u620f\u4e2d\uff0cLLM \u626e\u6f14\u9884\u8a00\u5bb6\u7684\u89d2\u8272\uff0c\u8f93\u51fa\u5e94\u8be5\u5305\u542b\u4ee5\u4e0b\u952e\u503c:\n\n- `thought`: \u9884\u8a00\u5bb6\u7684\u60f3\u6cd5\n- `speak`: \u9884\u8a00\u5bb6\u7684\u53d1\u8a00\n- `use_ability`: \u4e00\u4e2a\u5e03\u5c14\u503c\uff0c\u8868\u793a\u9884\u8a00\u5bb6\u662f\u5426\u5e94\u8be5\u4f7f\u7528\u5176\u80fd\u529b\n\n\u5728\u8fd9\u79cd\u60c5\u51b5\u4e0b\uff0c`thought` \u548c `speak` \u5185\u5bb9\u5e94\u8be5\u5b58\u50a8\u5728\u667a\u80fd\u4f53\u7684\u8bb0\u5fc6\u4e2d\uff0c\u4ee5\u786e\u4fdd\u667a\u80fd\u4f53\u884c\u4e3a/\u7b56\u7565\u7684\u4e00\u81f4\u6027\u3002\n`speak` \u5185\u5bb9\u5e94\u8be5\u66b4\u9732\u7ed9\u5176\u5b83\u667a\u80fd\u4f53\u6216\u73a9\u5bb6\u3002\n`use_ability` \u952e\u5e94\u8be5\u80fd\u5728\u4e3b\u6d41\u7a0b\u4e2d\u8bbf\u95ee\u5230\uff0c\u4ece\u800c\u786e\u5b9a\u6e38\u620f\u4e0b\u4e00\u6b65\u7684\u64cd\u4f5c\uff08\u4f8b\u5982\u662f\u5426\u4f7f\u7528\u80fd\u529b\uff09\u3002\n\nAgentScope \u901a\u8fc7\u4ee5\u4e0b\u53c2\u6570\u6765\u81ea\u52a8\u5bf9\u89e3\u6790\u540e\u7684\u5b57\u5178\u8fdb\u884c\u540e\u5904\u7406\u3002\n\n- `keys_to_memory`: \u5e94\u5b58\u50a8\u5728\u667a\u80fd\u4f53\u8bb0\u5fc6\u4e2d\u7684\u952e\n- `keys_to_content`: \u5e94\u5b58\u50a8\u5728\u8fd4\u56de\u6d88\u606f\u7684 content \u5b57\u6bb5\u4e2d\u7684\u952e\uff0c\u4f1a\u66b4\u9732\u7ed9\u5176\u5b83\u667a\u80fd\u4f53\n- `keys_to_metadata`: \u5e94\u5b58\u50a8\u5728\u8fd4\u56de\u6d88\u606f\u7684\u5143\u6570\u636e\uff08metadata\uff09\u5b57\u6bb5\u4e2d\u7684\u952e\n\n<div class=\"alert alert-info\"><h4>Note</h4><p>\u5982\u679c\u63d0\u4f9b\u4e86\u4e00\u4e2a\u5b57\u7b26\u4e32\uff0c\u89e3\u6790\u5668\u5c06\u4ece\u89e3\u6790\u540e\u7684\u5b57\u5178\u4e2d\u63d0\u53d6\u7ed9\u5b9a\u952e\u7684\u503c\u3002\u5982\u679c\u63d0\u4f9b\u4e86\u4e00\u4e2a\u5b57\u7b26\u4e32\u5217\u8868\uff0c\u5c06\u521b\u5efa\u4e00\u4e2a\u5305\u542b\u7ed9\u5b9a\u952e\u7684\u5b50\u5b57\u5178\u3002</p></div>\n\n\u4e0b\u9762\u662f\u4f7f\u7528 `MarkdownJsonDictParser` \u81ea\u52a8\u540e\u5904\u7406\u89e3\u6790\u540e\u5b57\u5178\u7684\u793a\u4f8b\u3002\n\n\n"
      ]
    },
    {
      "cell_type": "code",
      "execution_count": null,
      "metadata": {
        "collapsed": false
      },
      "outputs": [],
      "source": [
        "parser = MarkdownJsonDictParser(\n    content_hint='{\"thought\": \"\u4f60\u7684\u60f3\u6cd5\", \"speak\": \"\u4f60\u5bf9\u7528\u6237\u8bf4\u7684\u8bdd\", \"use_ability\": \"\u662f\u5426\u4f7f\u7528\u80fd\u529b\"}',\n    keys_to_memory=[\"thought\", \"speak\"],\n    keys_to_content=\"speak\",\n    keys_to_metadata=\"use_ability\",\n)\n\ndummy_response = ModelResponse(\n    text=\"\"\"```json\n{\n    \"thought\": \"\u6211\u5e94\u8be5...\",\n    \"speak\": \"\u6211\u4e0d\u4f1a\u4f7f\u7528\u6211\u7684\u80fd\u529b\",\n    \"use_ability\": false\n}```\n\"\"\",\n)\n\nparsed_response = parser.parse(dummy_response)\n\nprint(\"\u89e3\u6790\u540e\u7684\u54cd\u5e94: \", parsed_response.parsed)\nprint(\"\u5b58\u50a8\u5230\u8bb0\u5fc6\", parser.to_memory(parsed_response.parsed))\nprint(\"\u5b58\u50a8\u5230\u6d88\u606f content \u5b57\u6bb5: \", parser.to_content(parsed_response.parsed))\nprint(\"\u5b58\u50a8\u5230\u6d88\u606f metadata \u5b57\u6bb5: \", parser.to_metadata(parsed_response.parsed))"
      ]
    },
    {
      "cell_type": "markdown",
      "metadata": {},
      "source": [
        "\u8fd9\u91cc\u6211\u4eec\u5c55\u793a\u5982\u4f55\u521b\u5efa\u4e00\u4e2a\u667a\u80fd\u4f53\uff0c\u5b83\u5728 `reply` \u65b9\u6cd5\u4e2d\u901a\u8fc7\u4ee5\u4e0b\u6b65\u9aa4\u5b9e\u73b0\u81ea\u52a8\u5316\u7684\u540e\u5904\u7406\u3002\n\n1. \u5728\u63d0\u793a\u4e2d\u653e\u5165\u683c\u5f0f\u8bf4\u660e\uff0c\u4ee5\u6307\u5bfc LLM \u751f\u6210\u6240\u9700\u7684\u8f93\u51fa\n2. \u89e3\u6790 LLM \u7684\u8fd4\u56de\u503c\n3. \u4f7f\u7528 `to_memory`\u3001`to_content` \u548c `to_metadata` \u65b9\u6cd5\u540e\u5904\u7406\u89e3\u6790\u540e\u7684\u5b57\u5178\n\n.. tip:: \u901a\u8fc7\u66f4\u6539\u4e0d\u540c\u7684\u89e3\u6790\u5668\uff0c\u667a\u80fd\u4f53\u53ef\u4ee5\u9002\u5e94\u4e0d\u540c\u7684\u573a\u666f\uff0c\u5e76\u4ee5\u5404\u79cd\u683c\u5f0f\u751f\u6210\u7ed3\u6784\u5316\u8f93\u51fa\u3002\n\n\n"
      ]
    },
    {
      "cell_type": "code",
      "execution_count": null,
      "metadata": {
        "collapsed": false
      },
      "outputs": [],
      "source": [
        "from agentscope.models import DashScopeChatWrapper\nfrom agentscope.agents import AgentBase\nfrom agentscope.message import Msg\n\n\nclass Agent(AgentBase):\n    def __init__(self):\n        self.name = \"Alice\"\n        super().__init__(name=self.name)\n\n        self.sys_prompt = f\"\u4f60\u662f\u4e00\u4e2a\u540d\u4e3a{self.name}\u7684\u6709\u7528\u52a9\u624b\u3002\"\n\n        self.model = DashScopeChatWrapper(\n            config_name=\"_\",\n            model_name=\"qwen-max\",\n        )\n\n        self.parser = MarkdownJsonDictParser(\n            content_hint='{\"thought\": \"\u4f60\u7684\u60f3\u6cd5\", \"speak\": \"\u4f60\u5bf9\u7528\u6237\u8bf4\u7684\u8bdd\", \"use_ability\": \"\u662f\u5426\u4f7f\u7528\u80fd\u529b\"}',\n            keys_to_memory=[\"thought\", \"speak\"],\n            keys_to_content=\"speak\",\n            keys_to_metadata=\"use_ability\",\n        )\n\n        self.memory.add(Msg(\"system\", self.sys_prompt, \"system\"))\n\n    def reply(self, msg):\n        self.memory.add(msg)\n\n        prompt = self.model.format(\n            self.memory.get_memory(),\n            # \u6307\u793a\u6a21\u578b\u6309\u8981\u6c42\u7684\u683c\u5f0f\u4f5c\u7b54\n            Msg(\"system\", self.parser.format_instruction, \"system\"),\n        )\n\n        response = self.model(prompt)\n\n        parsed_response = self.parser.parse(response)\n\n        self.memory.add(\n            Msg(\n                name=self.name,\n                content=self.parser.to_memory(parsed_response.parsed),\n                role=\"assistant\",\n            ),\n        )\n\n        return Msg(\n            name=self.name,\n            content=self.parser.to_content(parsed_response.parsed),\n            role=\"assistant\",\n            metadata=self.parser.to_metadata(parsed_response.parsed),\n        )"
      ]
    }
  ],
  "metadata": {
    "kernelspec": {
      "display_name": "Python 3",
      "language": "python",
      "name": "python3"
    },
    "language_info": {
      "codemirror_mode": {
        "name": "ipython",
        "version": 3
      },
      "file_extension": ".py",
      "mimetype": "text/x-python",
      "name": "python",
      "nbconvert_exporter": "python",
      "pygments_lexer": "ipython3",
      "version": "3.9.21"
    }
  },
  "nbformat": 4,
  "nbformat_minor": 0
}