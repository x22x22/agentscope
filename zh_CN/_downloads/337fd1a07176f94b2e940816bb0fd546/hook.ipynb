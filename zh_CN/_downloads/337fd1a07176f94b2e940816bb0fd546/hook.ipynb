{
  "cells": [
    {
      "cell_type": "markdown",
      "metadata": {},
      "source": [
        "\n\u94a9\u5b50\u51fd\u6570\n===========================\n\n\u94a9\u5b50\u51fd\u6570\uff08Hooks\uff09\u5141\u8bb8\u5f00\u53d1\u4eba\u5458\u5728\u7279\u5b9a\u6267\u884c\u70b9\u81ea\u5b9a\u4e49\u667a\u80fd\u4f53\u884c\u4e3a\u3002\u5b83\u4eec\u63d0\u4f9b\u4e86\u4e00\u79cd\u7075\u6d3b\u7684\u65b9\u5f0f\u6765\u4fee\u6539\u6216\u6269\u5c55\u667a\u80fd\u4f53\u7684\u529f\u80fd\uff0c\u800c\u65e0\u9700\u66f4\u6539\u5176\u6838\u5fc3\u5b9e\u73b0\u3002\n\nAgentScope \u56f4\u7ed5\u4e09\u4e2a\u6838\u5fc3\u667a\u80fd\u4f53\u51fd\u6570\u5b9e\u73b0\u4e86\u94a9\u5b50\u51fd\u6570\uff1a\n\n- `reply`\uff1a\u6839\u636e\u667a\u80fd\u4f53\u7684\u5f53\u524d\u72b6\u6001\u751f\u6210\u54cd\u5e94\u6d88\u606f\n- `speak`\uff1a\u5728\u7ec8\u7aef\u663e\u793a\u548c\u8bb0\u5f55\u6d88\u606f\n- `observe`\uff1a\u8bb0\u5f55\u4f20\u5165\u7684\u6d88\u606f\n\n# \u7c7b\u522b\n\u6bcf\u4e2a\u6838\u5fc3\u51fd\u6570\u90fd\u6709\u5bf9\u5e94\u7684\u524d\u540e\u6267\u884c\u94a9\u5b50\uff1a\n\n- `pre_reply_hook` / `post_reply_hook`\n- `pre_speak_hook` / `post_speak_hook`\n- `pre_observe_hook` / `post_observe_hook`\n\n\u4f8b\u5982\uff0c\u60a8\u53ef\u4ee5\u4f7f\u7528 `pre_speak_hook` \u5c06\u6d88\u606f\u91cd\u5b9a\u5411\u5230\u4e0d\u540c\u7684\u8f93\u51fa\uff0c\u5982 Web \u754c\u9762\u6216\u5916\u90e8\u5e94\u7528\u7a0b\u5e8f\u3002\n\n.. important:: \u5f53\u4f7f\u7528\u94a9\u5b50\u51fd\u6570\u65f6\uff0c\u8bf7\u8bb0\u4f4f\u4ee5\u4e0b\u91cd\u8981\u89c4\u5219\uff1a\n\n 1. **\u94a9\u5b50\u51fd\u6570\u7b7e\u540d**\n  - \u7b2c\u4e00\u4e2a\u53c2\u6570\u5fc5\u987b\u662f `AgentBase` \u5bf9\u8c61\uff0c\u5373 `self`\n  - \u540e\u7eed\u53c2\u6570\u662f\u539f\u59cb\u51fd\u6570\u53c2\u6570\u7684\u526f\u672c\n 2. **\u6267\u884c\u987a\u5e8f**\n  - \u94a9\u5b50\u6309\u6ce8\u518c\u987a\u5e8f\u6267\u884c\n  - \u591a\u4e2a\u94a9\u5b50\u51fd\u6570\u53ef\u4ee5\u94fe\u63a5\u5728\u4e00\u8d77\n 3. **\u8fd4\u56de\u503c\u5904\u7406**\n  - \u5bf9\u4e8e\u524d\u7f6e\u94a9\u5b50\uff1a\u975e None \u8fd4\u56de\u503c\u4f1a\u4f20\u9012\u7ed9\u4e0b\u4e00\u4e2a\u94a9\u5b50\u6216\u76ee\u6807\u51fd\u6570\n   - \u5f53\u94a9\u5b50\u8fd4\u56de None \u65f6\uff0c\u4e0b\u4e00\u4e2a\u94a9\u5b50\u5c06\u4f7f\u7528\u524d\u9762\u94a9\u5b50\u7684\u6700\u8fd1\u975e None \u8fd4\u56de\u503c\n   - \u5982\u679c\u6240\u6709\u524d\u9762\u7684\u94a9\u5b50\u8fd4\u56de None\uff0c\u5219\u4e0b\u4e00\u4e2a\u94a9\u5b50\u5c06\u63a5\u6536\u539f\u59cb\u53c2\u6570\u7684\u526f\u672c\n   - \u6700\u7ec8\u7684\u975e None \u8fd4\u56de\u503c\uff08\u6216\u8005\u5982\u679c\u6240\u6709\u94a9\u5b50\u8fd4\u56de None\uff0c\u5219\u539f\u59cb\u53c2\u6570\uff09\u5c06\u4f20\u9012\u7ed9\u76ee\u6807\u51fd\u6570\n  - \u5bf9\u4e8e\u540e\u7f6e\u94a9\u5b50\uff1a \u53ea\u6709 `post-reply` \u94a9\u5b50\u53ef\u4ee5\u62e5\u6709\u8fd4\u56de\u503c\uff0c\u5de5\u4f5c\u65b9\u5f0f\u4e0e\u524d\u7f6e\u94a9\u5b50\u76f8\u540c\n 4. **\u91cd\u8981\u63d0\u793a**\uff1a\u907f\u514d\u5728\u94a9\u5b50\u51fd\u6570\u4e2d\u8c03\u7528\u76ee\u6807\u51fd\u6570\uff08reply/speak/observe\uff09\uff0c\u4ee5\u907f\u514d\u5faa\u73af\u8c03\u7528\n\n# \u51fd\u6570\u7b7e\u540d\n\n\u6211\u4eec\u5728\u4e0b\u9762\u4e3a\u6bcf\u4e2a\u94a9\u5b50\u51fd\u6570\u63d0\u4f9b\u4e86\u6a21\u677f\uff0c\u4ee5\u663e\u793a\u5176\u53c2\u6570\u7b7e\u540d\u3002\u5f00\u53d1\u8005\u53ef\u4ee5\u5c06\u8fd9\u4e9b\u6a21\u677f\u590d\u5236\u7c98\u8d34\u5230\u60a8\u7684\u4ee3\u7801\u4e2d\uff0c\n\u5e76\u6839\u636e\u9700\u8981\u8fdb\u884c\u81ea\u5b9a\u4e49\u3002\n"
      ]
    },
    {
      "cell_type": "code",
      "execution_count": null,
      "metadata": {
        "collapsed": false
      },
      "outputs": [],
      "source": [
        "from typing import Union, Tuple, Dict, Any\n\nfrom agentscope.agents import AgentBase\nfrom agentscope.message import Msg\n\n\ndef pre_reply_hook_template(\n    self: AgentBase,\n    args: Tuple[Any, ...],  # \u4f4d\u7f6e\u53c2\u6570 (positional arguments)\n    kwargs: Dict[str, Any],  # \u5173\u952e\u8bcd\u53c2\u6570 (keyword arguments)\n) -> Union[None, Tuple[Tuple[Any, ...], Dict[str, Any]]]:  # \u4fee\u6539\u540e\u7684\u4f4d\u7f6e\u548c\u5173\u952e\u8bcd\u53c2\u6570\n    \"\"\"Pre-reply hook template.\"\"\"\n    pass\n\n\ndef post_reply_hook_template(\n    self: AgentBase,\n    args: Tuple[Any, ...],  # \u4f4d\u7f6e\u53c2\u6570 (positional arguments)\n    kwargs: Dict[str, Any],  # \u5173\u952e\u8bcd\u53c2\u6570 (keyword arguments)\n    output: Msg,  # \u8f93\u51fa\u6d88\u606f\n) -> Union[None, Msg]:  # \u4fee\u6539\u540e\u7684\u8f93\u51fa\u6d88\u606f\n    \"\"\"Post-reply hook template.\"\"\"\n    pass\n\n\ndef pre_speak_hook_template(\n    self: AgentBase,\n    x: Msg,  # \u9700\u8981\u663e\u793a\u7684\u6d88\u606f\n    stream: bool,  # \u662f\u5426\u5904\u4e8e\u6d41\u5f0f\u8f93\u51fa\u72b6\u6001\n    last: bool,  # \u5f53\u524d\u6d88\u606f\u662f\u5426\u662f\u6d41\u4e2d\u7684\u6700\u540e\u4e00\u4e2a Chunk\n) -> Union[Msg, None]:  # \u4fee\u6539\u540e\u7684\u6d88\u606f\n    \"\"\"speak \u51fd\u6570\u524d\u7f6e\u94a9\u5b50\u51fd\u6570\u6a21\u7248\"\"\"\n    pass\n\n\ndef post_speak_hook_template(self: AgentBase) -> None:\n    \"\"\"speak \u51fd\u6570\u540e\u7f6e\u94a9\u5b50\u51fd\u6570\u6a21\u7248\"\"\"\n    pass\n\n\ndef pre_observe_hook_template(\n    self: AgentBase,\n    x: Union[Msg, list[Msg]],\n) -> Union[None, Union[Msg, list[Msg]]]:  # \u4fee\u6539\u540e\u7684\u8f93\u5165\u6d88\u606f\n    \"\"\"observe \u51fd\u6570\u524d\u7f6e\u94a9\u5b50\u51fd\u6570\u6a21\u7248\"\"\"\n    pass\n\n\ndef post_observe_hook_template(self: AgentBase) -> None:\n    \"\"\"observe \u51fd\u6570\u540e\u7f6e\u94a9\u5b50\u51fd\u6570\u6a21\u7248\"\"\"\n    pass"
      ]
    },
    {
      "cell_type": "markdown",
      "metadata": {},
      "source": [
        "# \u6837\u4f8b\nAgentScope \u5141\u8bb8\u901a\u8fc7\u8c03\u7528\u76f8\u5e94\u7684\u65b9\u6cd5\u6ce8\u518c\u3001\u79fb\u9664\u548c\u6e05\u9664\u94a9\u5b50\u51fd\u6570\u3002\n\n\u7528\u6237\u53ef\u4ee5\u5c06\u94a9\u5b50\u51fd\u6570\u6ce8\u518c\u5230 **\u5bf9\u8c61** \u548c **\u7c7b** \u4e24\u4e2a\u4e0d\u540c\u7684\u7ea7\u522b\uff0c\u5176\u4e2d **\u5bf9\u8c61** \u7ea7\u522b\u7684\u94a9\u5b50\u51fd\u6570\u53ea\u5bf9\u5f53\u524d\u7684\u5bf9\u8c61\u6709\u6548\uff0c**\u7c7b** \u7ea7\u522b\u7684\u94a9\u5b50\u51fd\u6570\u4f1a\u5bf9\u6539\u7c7b\u7684\u6240\u6709\u5bf9\u8c61\u751f\u6548\u3002\n\u4e0b\u9762\u6211\u4eec\u5c55\u793a\u4e24\u4e2a\u4e0d\u540c\u7ea7\u522b\u94a9\u5b50\u51fd\u6570\u7684\u4f7f\u7528\u65b9\u5f0f\u3002\n\n<div class=\"alert alert-info\"><h4>Note</h4><p>\u5bf9\u8c61\u7ea7\u522b\u7684\u94a9\u5b50\u51fd\u6570\u5b58\u50a8\u5728\u5bf9\u8c61\u7684 `_hooks_{hook_type}` \u5c5e\u6027\u4e0a\uff0c\u7c7b\u7ea7\u522b\u7684\u94a9\u5b50\u51fd\u6570\u5b58\u50a8\u5728\u7c7b\u7684 `_class_hooks_{hook_type}` \u5c5e\u6027\u4e0a\u3002</p></div>\n\n<div class=\"alert alert-info\"><h4>Note</h4><p>\u5bf9\u6240\u6709\u4f4d\u7f6e\u7684\u94a9\u5b50\u51fd\u6570\u6765\u8bf4\uff0c\u5bf9\u8c61\u7ea7\u522b\u548c\u7c7b\u7ea7\u522b\u94a9\u5b50\u51fd\u6570\u7684\u6267\u884c\u987a\u5e8f\u4e3a\uff1a\u5bf9\u8c61\u7ea7\u522b\u7684\u94a9\u5b50\u51fd\u6570 --> \u7c7b\u7ea7\u522b\u7684\u94a9\u5b50\u51fd\u6570</p></div>\n\n## \u5bf9\u8c61\u7ea7\u522b\n\n\u6211\u4eec\u9996\u5148\u521b\u5efa\u4e00\u4e2a\u7b80\u5355\u7684\u667a\u80fd\u4f53\uff0c\u7528\u4e8e\u56de\u663e\u4f20\u5165\u7684\u6d88\u606f\uff1a\n\n"
      ]
    },
    {
      "cell_type": "code",
      "execution_count": null,
      "metadata": {
        "collapsed": false
      },
      "outputs": [],
      "source": [
        "from typing import Optional, Union\n\nfrom agentscope.agents import AgentBase\nfrom agentscope.message import Msg\n\n\nclass TestAgent(AgentBase):\n    def __init__(self):\n        super().__init__(name=\"TestAgent\")\n\n    def reply(self, x: Optional[Union[Msg, list[Msg]]] = None) -> Msg:\n        return x"
      ]
    },
    {
      "cell_type": "markdown",
      "metadata": {},
      "source": [
        "### Reply \u94a9\u5b50\u51fd\u6570\n\u63a5\u4e0b\u6765\uff0c\u6211\u4eec\u5b9a\u4e49\u4e24\u4e2a\u524d\u7f6e\u94a9\u5b50\u51fd\u6570\uff0c\u5b83\u4eec\u90fd\u4fee\u6539\u8f93\u5165\u7684\u6d88\u606f\uff0c\u4f46\u4e00\u4e2a\u8fd4\u56de\u4fee\u6539\u540e\u7684\u6d88\u606f\uff0c\u53e6\u4e00\u4e2a\u4e0d\u8fd4\u56de\uff1a\n\n"
      ]
    },
    {
      "cell_type": "code",
      "execution_count": null,
      "metadata": {
        "collapsed": false
      },
      "outputs": [],
      "source": [
        "def pre_reply_hook_1(\n    self,\n    args: Tuple[Any, ...],\n    kwargs: Dict[str, Any],\n) -> Union[None, Tuple[Tuple[Any, ...], Dict[str, Any]]]:\n    \"\"\"\u7b2c\u4e00\u4e2a\u524d\u7f6e\u56de\u590d\u94a9\u5b50\uff0c\u4fee\u6539\u6d88\u606f\u5185\u5bb9\uff0c\u4f46\u662f\u4e0d\u8fdb\u884c\u8fd4\u56de\u3002\"\"\"\n    if isinstance(args[0], Msg):\n        args[0].content = \"[Pre-hook-1] \" + args[0].content\n    elif isinstance(args[0], list):\n        for msg in args[0]:\n            msg.content = \"[Pre-hook-1] \" + msg.content\n    return None\n\n\ndef pre_reply_hook_2(\n    self,\n    args: Tuple[Any, ...],\n    kwargs: Dict[str, Any],\n) -> Union[None, Tuple[Tuple[Any, ...], Dict[str, Any]]]:\n    \"\"\"\u7b2c\u4e8c\u4e2a\u524d\u7f6e\u56de\u590d\u94a9\u5b50\uff0c\u7528\u4e8e\u66f4\u6539\u6d88\u606f\u5185\u5bb9\u3002\"\"\"\n    if isinstance(args[0], Msg):\n        args[0].content = \"[Pre-hook-2] \" + args[0].content\n    elif isinstance(args[0], list):\n        for msg in args[0]:\n            msg.content = \"[Pre-hook-2] \" + msg.content\n    return args, kwargs  # \u8fd4\u56de\u4fee\u6539\u540e\u7684\u53c2\u6570"
      ]
    },
    {
      "cell_type": "markdown",
      "metadata": {},
      "source": [
        "\u7136\u540e\uff0c\u6211\u4eec\u521b\u5efa\u4e00\u4e2a\u540e\u7f6e\u94a9\u5b50\uff0c\u7528\u4e8e\u5c06\u540e\u7f00\u9644\u52a0\u5230\u6d88\u606f\u5185\u5bb9\uff1a\n\n"
      ]
    },
    {
      "cell_type": "code",
      "execution_count": null,
      "metadata": {
        "collapsed": false
      },
      "outputs": [],
      "source": [
        "def post_reply_hook(self, args, kwargs, output) -> Msg:\n    \"\"\"\u540e\u7f6e\u56de\u590d\u94a9\u5b50\uff0c\u7528\u4e8e\u5c06\u540e\u7f00\u9644\u52a0\u5230\u6d88\u606f\u5185\u5bb9\u3002\"\"\"\n    output.content += \" [Post-hook]\"\n    return output"
      ]
    },
    {
      "cell_type": "markdown",
      "metadata": {},
      "source": [
        "\u6700\u540e\uff0c\u6211\u4eec\u6ce8\u518c\u94a9\u5b50\u5e76\u6d4b\u8bd5\u667a\u80fd\u4f53\uff1a\n\n"
      ]
    },
    {
      "cell_type": "code",
      "execution_count": null,
      "metadata": {
        "collapsed": false
      },
      "outputs": [],
      "source": [
        "agent = TestAgent()\n\nagent.register_hook(\"pre_reply\", \"pre_hook_1\", pre_reply_hook_1)\nagent.register_hook(\"pre_reply\", \"pre_hook_2\", pre_reply_hook_2)\nagent.register_hook(\"post_reply\", \"post_hook\", post_reply_hook)\n\nmsg = Msg(\"user\", \"[\u539f\u59cb\u6d88\u606f]\", \"user\")\n\nmsg_response = agent(msg)\n\nprint(\"\u56de\u590d\u6d88\u606f\u7684 content \u57df:\\n\", msg_response.content)"
      ]
    },
    {
      "cell_type": "markdown",
      "metadata": {},
      "source": [
        "\u53ef\u4ee5\u770b\u5230\uff0c\u54cd\u5e94\u6d88\u606f\u6709\u4e00\u4e2a \"[Pre-hook-2]\" \u524d\u7f00\u548c\u4e00\u4e2a \"[Post-hook]\" \u540e\u7f00\u3002\n\u6dfb\u52a0 \"[Pre-hook-1]\" \u524d\u7f00\u5931\u8d25\uff0c\u56e0\u4e3a\u7b2c\u4e00\u4e2a\u524d\u7f6e\u94a9\u5b50\u6ca1\u6709\u8fd4\u56de\u503c\n\n### Speak \u94a9\u5b50\u51fd\u6570\n\u4e3a\u4e86\u517c\u5bb9\u6d41\u5f0f\u8f93\u51fa\uff0cpre-speak \u94a9\u5b50\u51fd\u6570\u63a5\u53d7\u4e24\u4e2a\u989d\u5916\u7684\u53c2\u6570\uff1a\n\n- `stream`: \u4e00\u4e2a\u5e03\u5c14\u6807\u5fd7\uff0c\u6307\u793a\u662f\u5426\u5904\u4e8e\u6d41\u5f0f\u8f93\u51fa\n- `last`: \u4e00\u4e2a\u5e03\u5c14\u6807\u5fd7\uff0c\u6307\u793a\u5f53\u524d\u8f93\u5165\u6d88\u606f\u662f\u5426\u662f\u6d41\u4e2d\u7684\u6700\u540e\u4e00\u4e2a Chunk\n\n.. tip:: \u5f53\u5904\u7406\u6d41\u5f0f\u8f93\u51fa\u65f6\uff0c\u53ef\u4ee5\u4f7f\u7528\u6d88\u606f id \u6765\u786e\u5b9a\u4e24\u4e2a\u6d88\u606f\u662f\u5426\u6765\u81ea\u540c\u4e00\u4e2a\u6d41\u5f0f\u8f93\u51fa\u3002\n\n\u6211\u4eec\u5728\u4e0b\u9762\u5c55\u793a\u5982\u4f55\u4f7f\u7528 pre/post-speak \u94a9\u5b50\uff1a\n\n"
      ]
    },
    {
      "cell_type": "code",
      "execution_count": null,
      "metadata": {
        "collapsed": false
      },
      "outputs": [],
      "source": [
        "from agentscope.agents import DialogAgent\nimport agentscope\n\nagentscope.init(\n    model_configs=[\n        {\n            \"config_name\": \"streaming_config\",\n            \"model_type\": \"dashscope_chat\",\n            \"model_name\": \"qwen-max\",\n            \"stream\": True,\n        },\n    ],\n)\n\nstreaming_agent = DialogAgent(\n    name=\"TestAgent\",\n    model_config_name=\"streaming_config\",\n    sys_prompt=\"You're a helpful assistant.\",\n)\n\n\n# \u521b\u5efa\u4e00\u4e2a pre-speak \u94a9\u5b50\uff0c\u7528\u4e8e\u663e\u793a\u6d88\u606f\u5185\u5bb9\ndef pre_speak_hook(self, x: Msg, stream: bool, last: bool) -> Msg:\n    \"\"\"speak \u51fd\u6570\u524d\u7f6e\u94a9\u5b50\u51fd\u6570\"\"\"\n    # \u4f60\u53ef\u4ee5\u5728\u8fd9\u91cc\u66f4\u6539\u6216\u91cd\u5b9a\u5411\u6d88\u606f\n    print(\n        \"id: \",\n        x.id,\n        \"stream: \",\n        stream,\n        \"last: \",\n        last,\n        \"content: \",\n        x.content,\n    )\n    # \u9632\u6b62\u6253\u5370\u6d88\u606f\u9519\u4e71\n    x.content = \"\"\n    return x\n\n\ndef post_speak_hook(self) -> None:\n    \"\"\"speak \u51fd\u6570\u540e\u7f6e\u94a9\u5b50\u51fd\u6570\"\"\"\n    # \u5728\u8fd9\u91cc\u8ba1\u7b97\u8c03\u7528 speak \u51fd\u6570\u7684\u6b21\u6570\n    if not hasattr(self, \"cnt\"):\n        self.cnt = 0\n    self.cnt += 1\n\n\n# Register the hooks\nstreaming_agent.register_hook(\"pre_speak\", \"pre_speak_hook\", pre_speak_hook)\nstreaming_agent.register_hook(\"post_speak\", \"post_speak_hook\", post_speak_hook)"
      ]
    },
    {
      "cell_type": "markdown",
      "metadata": {},
      "source": [
        "\u73b0\u5728\u6211\u4eec\u6765\u6d4b\u8bd5\u4e00\u4e0b `speak` \u7684\u94a9\u5b50\u51fd\u6570\n\n"
      ]
    },
    {
      "cell_type": "code",
      "execution_count": null,
      "metadata": {
        "collapsed": false
      },
      "outputs": [],
      "source": [
        "msg = Msg(\n    \"user\",\n    \"\u73b0\u5728\uff0c\u4ece 1 \u5230 15\uff0c\u6b65\u957f\u4e3a 1\uff0c\u7528\u9017\u53f7\u5206\u9694\u6bcf\u4e2a\u6570\u5b57\u3002\",\n    \"user\",\n)\n\nmsg_response = streaming_agent(msg)\n\nprint(\"Speak \u51fd\u6570\u7684\u8c03\u7528\u6b21\u6570\uff1a\", streaming_agent.cnt)"
      ]
    },
    {
      "cell_type": "markdown",
      "metadata": {},
      "source": [
        "### Observe \u94a9\u5b50\u51fd\u6570\n\u4e0e speak \u94a9\u5b50\u51fd\u6570\u7c7b\u4f3c\uff0c\u6211\u4eec\u5728\u4e0b\u9762\u5c55\u793a\u5982\u4f55\u4f7f\u7528 pre/post-observe \u94a9\u5b50\uff1a\n\n"
      ]
    },
    {
      "cell_type": "code",
      "execution_count": null,
      "metadata": {
        "collapsed": false
      },
      "outputs": [],
      "source": [
        "import json\n\n\ndef pre_observe_hook(self, x: Union[Msg, list[Msg]]) -> Union[Msg, list[Msg]]:\n    \"\"\"\u663e\u793a\u6d88\u606f\u5185\u5bb9\u7684\u524d\u7f6e\u89c2\u5bdf\u94a9\u5b50\u3002\"\"\"\n    if isinstance(x, Msg):\n        x.content = \"\u89c2\u5bdf: \" + x.content\n    elif isinstance(x, list):\n        for msg in x:\n            msg.content = \"\u89c2\u5bdf: \" + msg.content\n    return x\n\n\ndef post_observe_hook(self) -> None:\n    \"\"\"\u663e\u793a\u6d88\u606f\u5185\u5bb9\u7684\u540e\u7f6e\u89c2\u5bdf\u94a9\u5b50\u3002\"\"\"\n    if not hasattr(self, \"cnt\"):\n        setattr(self, \"cnt\", 0)\n    self.cnt += 1\n\n\n# \u9996\u5148\u6e05\u9664\u667a\u80fd\u4f53\u8bb0\u5fc6\nagent.memory.clear()\n\nagent.register_hook(\"pre_observe\", \"pre_observe_hook\", pre_observe_hook)\nagent.register_hook(\"post_observe\", \"post_observe_hook\", post_observe_hook)\n\nagent.observe(\n    Msg(\n        \"user\",\n        \"\u592a\u9633\u5347\u8d77\u6765\u4e86\u3002\",\n        \"user\",\n    ),\n)\n\nprint(\n    \"\u667a\u80fd\u4f53\u7684\u8bb0\u5fc6\uff1a\\n\",\n    json.dumps(\n        [_.to_dict() for _ in agent.memory.get_memory()],\n        indent=4,\n        ensure_ascii=False,\n    ),\n)\nprint(\"\u8c03\u7528 Observe \u51fd\u6570\u7684\u6b21\u6570\uff1a\", agent.cnt)"
      ]
    },
    {
      "cell_type": "markdown",
      "metadata": {},
      "source": [
        "## \u7c7b\u7ea7\u522b\n\n\u7c7b\u7ea7\u522b\u7684\u94a9\u5b50\u51fd\u6570\u548c\u5bf9\u8c61\u7ea7\u522b\u4f7f\u7528\u903b\u8f91\u4e00\u81f4\uff0c\u53ea\u4e0d\u8fc7\u5bf9\u5e94\u7684\u751f\u6548\u8303\u56f4\u4e3a\u7c7b\u7684\u6240\u6709\u5bf9\u8c61\uff0c\u4ee5\u53ca\u6ce8\u518c\u3001\u5220\u9664\u3001\u6e05\u7a7a\u51fd\u6570\u5e26\u6709 \"class\" \u7684\u524d\u7f00\u3002\n\n\u4e0b\u9762\u4ee5 pre_reply \u51fd\u6570\u4e3a\u4f8b\uff0c\u5c55\u793a\u7c7b\u7ea7\u522b\u7684\u94a9\u5b50\u51fd\u6570\u7684\u4f7f\u7528\n\n\n"
      ]
    },
    {
      "cell_type": "code",
      "execution_count": null,
      "metadata": {
        "collapsed": false
      },
      "outputs": [],
      "source": [
        "# \u65b0\u5efa\u4e00\u4e2a\u65b0\u7684agent\u5bf9\u8c61\nagent2 = TestAgent()\n\nAgentBase.clear_all_class_hooks()\n\nprint(\"\u6b64\u65f6agent\u7684\u94a9\u5b50\u51fd\u6570\uff1a\", list(agent._class_hooks_pre_reply.keys()))\nprint(\"\u6b64\u65f6agent2\u7684\u94a9\u5b50\u51fd\u6570\uff1a\", list(agent2._class_hooks_pre_reply.keys()))"
      ]
    },
    {
      "cell_type": "markdown",
      "metadata": {},
      "source": [
        "\u63a5\u7740\u6211\u4eec\u5728 `AgentBase` \u7684\u57fa\u7c7b\u4e0a\u6ce8\u518c\u7c7b\u7ea7\u522b\u7684\u94a9\u5b50\u51fd\u6570\n\n"
      ]
    },
    {
      "cell_type": "code",
      "execution_count": null,
      "metadata": {
        "collapsed": false
      },
      "outputs": [],
      "source": [
        "# \u6ce8\u518c\u7c7b\u7ea7\u522b\u7684\u94a9\u5b50\u51fd\u6570\nAgentBase.register_class_hook(\"pre_reply\", \"class_hook_1\", pre_reply_hook_1)\n\nprint(\"\u6ce8\u518c\u540eagent\u7684\u94a9\u5b50\u51fd\u6570\uff1a\", list(agent._class_hooks_pre_reply.keys()))\nprint(\"\u6ce8\u518c\u540eagent2\u7684\u94a9\u5b50\u51fd\u6570\uff1a\", list(agent2._class_hooks_pre_reply.keys()))"
      ]
    },
    {
      "cell_type": "markdown",
      "metadata": {},
      "source": [
        "\u80fd\u591f\u770b\u5230\uff0c\u7c7b\u7ea7\u522b\u7684\u94a9\u5b50\u51fd\u6570\u4f1a\u5bf9\u8be5\u7c7b\u7684\u6240\u6709\u5bf9\u8c61\u751f\u6548\u3002\n\n"
      ]
    }
  ],
  "metadata": {
    "kernelspec": {
      "display_name": "Python 3",
      "language": "python",
      "name": "python3"
    },
    "language_info": {
      "codemirror_mode": {
        "name": "ipython",
        "version": 3
      },
      "file_extension": ".py",
      "mimetype": "text/x-python",
      "name": "python",
      "nbconvert_exporter": "python",
      "pygments_lexer": "ipython3",
      "version": "3.10.17"
    }
  },
  "nbformat": 4,
  "nbformat_minor": 0
}