{
  "cells": [
    {
      "cell_type": "markdown",
      "metadata": {},
      "source": [
        "\n\n# \u6d41\u5f0f\u8f93\u51fa\n\nAgentScope \u652f\u6301\u5728\u7ec8\u7aef\u548c AgentScope Studio \u4e2d\u4ee5\u6253\u5b57\u673a\u6548\u679c\u663e\u793a\u6d41\u5f0f\u8f93\u51fa\u3002\n\n.. list-table::\n    :header-rows: 1\n\n    * - API\n      - \u7c7b\n      - \u662f\u5426\u652f\u6301\u6d41\u5f0f\u8f93\u51fa\n    * - OpenAI Chat API\n      - `OpenAIChatWrapper`\n      - \u2713\n    * - DashScope Chat API\n      - `DashScopeChatWrapper`\n      - \u2713\n    * - Gemini Chat API\n      - `GeminiChatWrapper`\n      - \u2713\n    * - ZhipuAI Chat API\n      - `ZhipuAIChatWrapper`\n      - \u2713\n    * - Ollama Chat API\n      - `OllamaChatWrapper`\n      - \u2713\n    * - LiteLLM Chat API\n      - `LiteLLMChatWrapper`\n      - \u2713\n    * - Anthropic Chat API\n      - `AnthropicChatWrapper`\n      - \u2713\n\n\u672c\u8282\u5c06\u5c55\u793a\u5982\u4f55\u5728 AgentScope \u4e2d\u542f\u7528\u6d41\u5f0f\u8f93\u51fa\uff0c\u4ee5\u53ca\u5982\u4f55\u5728\u667a\u80fd\u4f53\u4e2d\u5904\u7406\u6d41\u5f0f\u8fd4\u56de\u3002\n"
      ]
    },
    {
      "cell_type": "markdown",
      "metadata": {},
      "source": [
        "## \u542f\u7528\u6d41\u5f0f\u8f93\u51fa\n\n\u901a\u8fc7\u8bbe\u7f6e\u6a21\u578b\u7c7b\u7684 `stream` \u53c2\u6570\uff0c\u542f\u7528\u6d41\u5f0f\u8f93\u51fa\u3002\n\u4f60\u53ef\u4ee5\u5728\u521d\u59cb\u5316\u6216\u914d\u7f6e\u4e2d\u76f4\u63a5\u6307\u5b9a`stream`\u53c2\u6570\u3002\n\n- \u5728\u521d\u59cb\u5316\u4e2d\u6307\u5b9a\n\n\n"
      ]
    },
    {
      "cell_type": "code",
      "execution_count": null,
      "metadata": {
        "collapsed": false
      },
      "outputs": [],
      "source": [
        "from agentscope.models import DashScopeChatWrapper\nimport os\n\nmodel = DashScopeChatWrapper(\n    config_name=\"_\",\n    model_name=\"qwen-max\",\n    api_key=os.environ[\"DASHSCOPE_API_KEY\"],\n    stream=True,  # \u542f\u7528\u6d41\u5f0f\u8f93\u51fa\n)"
      ]
    },
    {
      "cell_type": "markdown",
      "metadata": {},
      "source": [
        "- \u5728\u6a21\u578b\u914d\u7f6e\u4e2d\u6307\u5b9a\n\n"
      ]
    },
    {
      "cell_type": "code",
      "execution_count": null,
      "metadata": {
        "collapsed": false
      },
      "outputs": [],
      "source": [
        "model_config = {\n    \"model_type\": \"dashscope_chat\",\n    \"config_name\": \"qwen_config\",\n    \"model_name\": \"qwen-max\",\n    \"stream\": True,\n}"
      ]
    },
    {
      "cell_type": "markdown",
      "metadata": {},
      "source": [
        "\u4f7f\u7528\u4e0a\u8ff0\u6a21\u578b\u914d\u7f6e\uff0c\u6211\u4eec\u53ef\u4ee5\u5728 AgentScope \u4e2d\u4f7f\u7528\u5185\u7f6e\u667a\u80fd\u4f53\u83b7\u53d6\u6d41\u5f0f\u8f93\u51fa\u3002\n\n\u63a5\u4e0b\u6765\uff0c\u6211\u4eec\u5c55\u793a\u5982\u4f55\u5728\u667a\u80fd\u4f53\u4e2d\u5904\u7406\u6d41\u5f0f\u8f93\u51fa\u3002\n\n"
      ]
    },
    {
      "cell_type": "markdown",
      "metadata": {},
      "source": [
        "## \u5904\u7406\u6d41\u5f0f\u54cd\u5e94\n\n\u4e00\u65e6\u6211\u4eec\u542f\u7528\u4e86\u6d41\u5f0f\u8f93\u51fa\uff0c\u6a21\u578b\u8fd4\u56de\u5bf9\u8c61\u4e2d\u7684 `stream` \u5b57\u6bb5\u5c06\u5305\u542b\u4e00\u4e2a\u751f\u6210\u5668\u3002\n\n\n"
      ]
    },
    {
      "cell_type": "code",
      "execution_count": null,
      "metadata": {
        "collapsed": false
      },
      "outputs": [],
      "source": [
        "prompt = [{\"role\": \"user\", \"content\": \"Hi!\"}]\n\nresponse = model(prompt)\nprint(\"response.stream\u7684\u7c7b\u578b:\", type(response.stream))"
      ]
    },
    {
      "cell_type": "markdown",
      "metadata": {},
      "source": [
        "\u6211\u4eec\u53ef\u4ee5\u904d\u5386\u751f\u6210\u5668\u4ee5\u83b7\u53d6\u6d41\u5f0f\u6587\u672c\u3002\n\u8be5\u751f\u6210\u5668\u540c\u65f6\u4e5f\u4f1a\u751f\u6210\u4e00\u4e2a\u5e03\u5c14\u503c\uff0c\u6807\u8bc6\u5f53\u524d\u662f\u5426\u4e3a\u6700\u540e\u4e00\u4e2a\u6587\u672c\u5757\u3002\n\n"
      ]
    },
    {
      "cell_type": "code",
      "execution_count": null,
      "metadata": {
        "collapsed": false
      },
      "outputs": [],
      "source": [
        "for index, chunk in enumerate(response.stream):\n    print(f\"{index}.\", chunk)\n    print(f\"\u5f53\u524dtext\u5b57\u6bb5:\", response.text, \"\\n\")"
      ]
    },
    {
      "cell_type": "markdown",
      "metadata": {},
      "source": [
        "<div class=\"alert alert-info\"><h4>Note</h4><p>\u6ce8\u610f `response.stream` \u6302\u8f7d\u7684\u751f\u6210\u5668\u662f\u589e\u91cf\u7684\uff0c\u5e76\u4e14\u53ea\u80fd\u4f7f\u7528\u4e00\u6b21\u3002</p></div>\n \u5728\u904d\u5386\u8fc7\u7a0b\u4e2d\uff0c`response` \u7684 `text` \u5b57\u6bb5\u4f1a\u81ea\u52a8\u62fc\u63a5\u5b57\u7b26\u4e32\u3002\n \u4e3a\u4e86\u4e0e\u975e\u6d41\u5f0f\u6a21\u5f0f\u517c\u5bb9\uff0c\u4f60\u4e5f\u53ef\u4ee5\u76f4\u63a5\u4f7f\u7528`response.text`\u4e00\u6b21\u83b7\u53d6\u6240\u6709\u6587\u672c\u3002\n\n"
      ]
    },
    {
      "cell_type": "code",
      "execution_count": null,
      "metadata": {
        "collapsed": false
      },
      "outputs": [],
      "source": [
        "prompt = [{\"role\": \"user\", \"content\": \"Hi!\"}]\nresponse = model(prompt)\n# \u4e00\u6b21\u6027\u83b7\u53d6\u6240\u6709\u6587\u672c\nprint(response.text)"
      ]
    },
    {
      "cell_type": "markdown",
      "metadata": {},
      "source": [
        "## \u6253\u5b57\u673a\u6548\u679c\n\u4e3a\u4e86\u5b9e\u73b0\u6253\u5b57\u673a\u7684\u663e\u793a\u6548\u679c\uff0cAgentScope \u5728 `AgentBase` \u7c7b\u4e2d\u63d0\u4f9b\u4e86\u4e00\u4e2a `speak` \u51fd\u6570\u3002\n\u5982\u679c\u7ed9\u5b9a\u4e86\u4e00\u4e2a\u751f\u6210\u5668\uff0c`speak` \u51fd\u6570\u4f1a\u904d\u5386\u751f\u6210\u5668\u5e76\u5728\u7ec8\u7aef\u6216 AgentScope Studio \u4e2d\u4ee5\u6253\u5b57\u673a\u6548\u679c\u6253\u5370\u6587\u672c\u3002\n\n```python\ndef reply(*args, **kwargs):\n    # ...\n    self.speak(response.stream)\n    # ...\n```\n\u4e3a\u4e86\u4f7f\u4e00\u5957\u4ee3\u7801\u540c\u65f6\u517c\u5bb9\u6d41\u5f0f\u548c\u975e\u6d41\u5f0f\u6a21\u5f0f\uff0cAgentScope \u7684\u6240\u6709\u5185\u7f6e\u667a\u80fd\u4f53\u4e2d\u4f7f\u7528\u4ee5\u4e0b\u4ee3\u7801\u7247\u6bb5\u3002\n\n```python\ndef reply(*args, **kwargs):\n    # ...\n    self.speak(response.stream or response.text)\n    # ...\n```\n"
      ]
    }
  ],
  "metadata": {
    "kernelspec": {
      "display_name": "Python 3",
      "language": "python",
      "name": "python3"
    },
    "language_info": {
      "codemirror_mode": {
        "name": "ipython",
        "version": 3
      },
      "file_extension": ".py",
      "mimetype": "text/x-python",
      "name": "python",
      "nbconvert_exporter": "python",
      "pygments_lexer": "ipython3",
      "version": "3.9.21"
    }
  },
  "nbformat": 4,
  "nbformat_minor": 0
}