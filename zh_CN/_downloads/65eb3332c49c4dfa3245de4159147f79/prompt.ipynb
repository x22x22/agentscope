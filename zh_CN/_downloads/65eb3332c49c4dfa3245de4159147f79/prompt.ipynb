{
  "cells": [
    {
      "cell_type": "markdown",
      "metadata": {},
      "source": [
        "\n\n# \u63d0\u793a\u5de5\u7a0b\n\n\u63d0\u793a\u5de5\u7a0b\u662f\u6784\u5efa\u5927\u8bed\u8a00\u6a21\u578b\u5e94\u7528\u7684\u5173\u952e\u6b65\u9aa4\uff0c\u5c24\u5176\u662f\u9488\u5bf9\u591a\u667a\u80fd\u4f53\u7684\u5e94\u7528\u3002\n\u7136\u800c\uff0c\u76ee\u524d\u5e02\u9762\u4e0a\u5927\u591a\u6570 API \u670d\u52a1\u53ea\u4e13\u6ce8\u4e8e Chat \u573a\u666f\uff0c\u5373\u5bf9\u8bdd\u53ea\u6709\u4e24\u4e2a\u53c2\u4e0e\u8005\uff1a\u7528\u6237\uff08user\uff09\u548c\n\u52a9\u624b\uff08assistant\uff09\uff0c\u5e76\u4e14\u4e24\u8005\u5fc5\u987b\u4ea4\u66ff\u53d1\u9001\u6d88\u606f\u3002\n\n\u4e3a\u4e86\u652f\u6301\u591a\u667a\u80fd\u4f53\u5e94\u7528\uff0cAgentScope \u6784\u5efa\u4e86\u4e0d\u540c\u7684\u63d0\u793a\u7b56\u7565\uff0c\u4ece\u800c\u5c06\u4e00\u7ec4 `Msg` \u5bf9\u8c61\u8f6c\u6362\u4e3a\u6a21\u578b\nAPI \u9700\u8981\u7684\u683c\u5f0f\u3002\n\n<div class=\"alert alert-info\"><h4>Note</h4><p>\u76ee\u524d\u8fd8\u6ca1\u6709\u4e00\u79cd\u63d0\u793a\u5de5\u7a0b\u53ef\u4ee5\u505a\u5230\u4e00\u52b3\u6c38\u9038\u3002AgentScope \u5185\u7f6e\u63d0\u793a\u6784\u5efa\u7b56\u7565\u7684\u76ee\u6807</p></div>\n \u662f\u8ba9\u521d\u5b66\u8005\u53ef\u4ee5\u987a\u5229\u8c03\u7528\u6a21\u578b API,\u800c\u4e0d\u662f\u8fbe\u5230\u6700\u4f73\u6027\u80fd\u3002\n \u5bf9\u4e8e\u9ad8\u7ea7\u7528\u6237\uff0c\u6211\u4eec\u5efa\u8bae\u5f00\u53d1\u4eba\u5458\u6839\u636e\u9700\u6c42\u548c\u6a21\u578b API \u8981\u6c42\u6765\u81ea\u5b9a\u4e49\u63d0\u793a\u6784\u5efa\u7b56\u7565\u3002\n\n## \u63d0\u793a\u6784\u5efa\u7b56\u7565\n\n\u5185\u7f6e\u63d0\u793a\u7b56\u7565\u5728\u6a21\u578b\u7c7b\u7684 `format` \u65b9\u6cd5\u4e2d\u5b9e\u73b0\u3002\u4ee5 DashScope Chat API \u4e3a\u4f8b:\n"
      ]
    },
    {
      "cell_type": "code",
      "execution_count": null,
      "metadata": {
        "collapsed": false
      },
      "outputs": [],
      "source": [
        "from agentscope.models import DashScopeChatWrapper\nfrom agentscope.message import Msg\nimport json\n\n\nmodel = DashScopeChatWrapper(\n    config_name=\"_\",\n    model_name=\"qwen-max\",\n)\n\n# \u53ef\u4ee5\u5c06 `Msg` \u5bf9\u8c61\u6216 `Msg` \u5bf9\u8c61\u5217\u8868\u4f20\u9012\u7ed9 `format` \u65b9\u6cd5\nprompt = model.format(\n    Msg(\"system\", \"You're a helpful assistant.\", \"system\"),\n    [\n        Msg(\"assistant\", \"Hi!\", \"assistant\"),\n        Msg(\"user\", \"Nice to meet you!\", \"user\"),\n    ],\n)\n\nprint(json.dumps(prompt, indent=4, ensure_ascii=False))"
      ]
    },
    {
      "cell_type": "markdown",
      "metadata": {},
      "source": [
        "\u683c\u5f0f\u5316\u8f93\u5165\u6d88\u606f\u540e\uff0c\u6211\u4eec\u53ef\u4ee5\u5c06\u5176\u4f20\u7ed9 `model` \u5bf9\u8c61\uff0c\u8fdb\u884c\u5b9e\u9645\u7684 API \u8c03\u7528\u3002\n\n\n"
      ]
    },
    {
      "cell_type": "code",
      "execution_count": null,
      "metadata": {
        "collapsed": false
      },
      "outputs": [],
      "source": [
        "response = model(prompt)\n\nprint(response.text)"
      ]
    },
    {
      "cell_type": "markdown",
      "metadata": {},
      "source": [
        "## \u975e\u89c6\u89c9\u6a21\u578b\n\n\u5728\u4e0b\u8868\u4e2d\uff0c\u6211\u4eec\u5217\u51fa\u4e86\u5185\u7f6e\u7684\u63d0\u793a\u7b56\u7565\uff0c\u4ee5\u53ca\u652f\u6301\u7684\u5927\u8bed\u8a00\u6a21\u578b\u7684\u524d\u7f00\u3002\n\n\u4ee5\u4e0b\u9762\u7684\u6d88\u606f\u4e3a\u4f8b:\n\n```python\nMsg(\"system\", \"You're a helpful assistant named Alice.\", \"system\"),\nMsg(\"Alice\", \"Hi!\", \"assistant\"),\nMsg(\"Bob\", \"Nice to meet you!\", \"user\")\n```\n.. list-table::\n    :header-rows: 1\n\n    * - LLMs\n      - `model_name`\n      - Constructed Prompt\n    * - OpenAI LLMs\n      - `gpt-`\n      -```python\n[\n    {\n        \"role\": \"system\",\n        \"name\": \"system\",\n        \"content\": \"You're a helpful assistant named Alice.\"\n    },\n    {\n        \"role\": \"user\",\n        \"name\": \"Alice\",\n        \"content\": \"Hi!\"\n    },\n    {\n        \"role\": \"user\",\n        \"name\": \"Bob\",\n        \"content\": \"Nice to meet you!\"\n    }\n]\n```\n    * - Gemini LLMs\n      - `gemini-`\n      -```python\n[\n    {\n        \"role\": \"user\",\n        \"parts\": [\n            \"You're a helpful assistant named Alice.\\\\n## Conversation History\\\\nAlice: Hi!\\\\nBob: Nice to meet you!\"\n        ]\n    }\n]\n```\n    * - All other LLMs\n\n        (e.g. DashScope, ZhipuAI ...)\n      -\n      -```python\n[\n    {\n        \"role\": \"system\",\n        \"content\": \"You're a helpful assistant named Alice.\"\n    },\n    {\n        \"role\": \"user\",\n        \"content\": \"## Conversation History\\\\nAlice: Hi!\\\\nBob: Nice to meet you!\"\n    }\n]\n```\n.. tip:: \u8003\u8651\u5230\u4e00\u4e9b API \u517c\u5bb9\u4e0d\u540c\u7684\u5927\u8bed\u8a00\u6a21\u578b\uff08\u4f8b\u5982 OpenAI Python \u5e93\uff09\uff0cAgentScope \u4f7f\u7528 `model_name` \u5b57\u6bb5\u6765\u533a\u5206\u4e0d\u540c\u7684\u6a21\u578b\u5e76\u51b3\u5b9a\u6700\u7ec8\u4f7f\u7528\u7684\u7b56\u7565\u3002\n\n## \u89c6\u89c9\u6a21\u578b\n\n\u5bf9\u4e8e\u89c6\u89c9\u6a21\u578b\uff0cAgentScope \u76ee\u524d\u652f\u6301 OpenAI \u89c6\u89c9\u6a21\u578b\u548c Dashscope \u591a\u6a21\u6001 API\u3002\n\u672a\u6765\u5c06\u5047\u5982\u66f4\u591a\u7684\u89c6\u89c9\u6a21\u578b\u7684\u652f\u6301\u3002\n\n\n"
      ]
    }
  ],
  "metadata": {
    "kernelspec": {
      "display_name": "Python 3",
      "language": "python",
      "name": "python3"
    },
    "language_info": {
      "codemirror_mode": {
        "name": "ipython",
        "version": 3
      },
      "file_extension": ".py",
      "mimetype": "text/x-python",
      "name": "python",
      "nbconvert_exporter": "python",
      "pygments_lexer": "ipython3",
      "version": "3.9.21"
    }
  },
  "nbformat": 4,
  "nbformat_minor": 0
}