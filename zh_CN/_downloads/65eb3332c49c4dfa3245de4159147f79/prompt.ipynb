{
  "cells": [
    {
      "cell_type": "markdown",
      "metadata": {},
      "source": [
        "\n\n# Prompt \u683c\u5f0f\u5316\n\n\u667a\u80fd\u4f53\u5e94\u7528\u4e2d\uff0c\u91cd\u8981\u7684\u4e00\u70b9\u662f\u6784\u5efa\u7b26\u5408\u6a21\u578b API \u8981\u6c42\u7684\u8f93\u5165\uff08prompt\uff09\u3002AgentScope \u4e2d\uff0c\u6211\u4eec\u4e3a\u5f00\n\u53d1\u8005\u63d0\u4f9b\u4e86\u4e00\u4e9b\u5217\u7684\u5185\u7f6e\u7b56\u7565\uff0c\u4ee5\u652f\u6301\u4e0d\u540c\u7684\u6a21\u578b API \u548c\u573a\u666f\uff08chat \u548c multi-agent\uff09\u3002\n\nAgentScope \u652f\u6301\u7279\u5b9a\u6a21\u578b\u7684 prompt \u683c\u5f0f\u5316\uff0c\u4e5f\u652f\u6301\u6a21\u578b\u672a\u77e5\u7684\u683c\u5f0f\u5316\u3002\n\n.. tip:: **Chat \u573a\u666f** \u53ea\u6d89\u53ca\u5230 user \u548c assistant \u4e24\u4e2a\u89d2\u8272\uff1b\u800c **multi-agent**\n\u573a\u666f\u4f1a\u6d89\u53ca\u5230\u591a\u4e2a\u667a\u80fd\u4f53\uff0c\u5b83\u4eec\u7684\u89d2\u8272\uff08role\uff09\u867d\u7136\u90fd\u662f assistant\uff0c\u4f46\u662f\u6307\u5411\u4e0d\u540c\u7684\u5b9e\u4f53\u3002\n\n<div class=\"alert alert-info\"><h4>Note</h4><p>\u76ee\u524d\uff0c\u591a\u6570\u7684\u5927\u8bed\u8a00\u6a21\u578b API \u670d\u52a1\u53ea\u652f\u6301 chat \u573a\u666f\u3002\u4f8b\u5982\uff0c\u5bf9\u8bdd\u53ea\u6d89\u53ca\u5230\u4e24\u4e2a\u89d2\u8272</p></div>\n\uff08user \u548c assistant\uff09\uff0c\u90e8\u5206 API \u8fd8\u8981\u6c42\u5b83\u4eec\u5fc5\u987b\u4ea4\u66ff\u53d1\u9001\u6d88\u606f\u3002\n\n<div class=\"alert alert-info\"><h4>Note</h4><p>\u76ee\u524d\u8fd8\u6ca1\u6709\u4e00\u79cd\u63d0\u793a\u5de5\u7a0b\u53ef\u4ee5\u505a\u5230\u4e00\u52b3\u6c38\u9038\u3002AgentScope \u5185\u7f6e\u63d0\u793a\u6784\u5efa\u7b56\u7565\u7684\u76ee\u6807</p></div>\n \u662f\u8ba9\u521d\u5b66\u8005\u53ef\u4ee5\u987a\u5229\u8c03\u7528\u6a21\u578b API,\u800c\u4e0d\u662f\u8fbe\u5230\u6700\u4f73\u6027\u80fd\u3002\n \u5bf9\u4e8e\u9ad8\u7ea7\u7528\u6237\uff0c\u6211\u4eec\u5efa\u8bae\u5f00\u53d1\u4eba\u5458\u6839\u636e\u9700\u6c42\u548c\u6a21\u578b API \u8981\u6c42\u6765\u81ea\u5b9a\u4e49\u63d0\u793a\u6784\u5efa\u7b56\u7565\u3002\n\n## \u6a21\u578b\u672a\u77e5\u7684\u683c\u5f0f\u5316\n\n\u5f53\u6211\u4eec\u9700\u8981\u5e94\u7528\u80fd\u591f\u5728\u4e0d\u540c\u7684\u6a21\u578b API \u4e0a\u90fd\u80fd\u8fd0\u884c\u7684\u65f6\u5019\uff0c\u6211\u4eec\u9700\u8981\u8fdb\u884c\u6a21\u578b\u672a\u77e5\u7684 prompt \u683c\u5f0f\u5316\u3002\n\nAgentScope \u901a\u8fc7\u652f\u6301\u4ece\u914d\u7f6e\u4e2d\u52a0\u8f7d\u6a21\u578b\uff0c\u5e76\u5728 model wrapper \u7c7b\u4e2d\u5185\u7f6e\u4e86\u4e00\u7cfb\u5217\u4e0d\u540c\u7684\u683c\u5f0f\u5316\u7b56\u7565\n\u6765\u5b9e\u73b0\u6a21\u578b\u672a\u77e5\u7684\u683c\u5f0f\u5316\u3002\u540c\u65f6\u652f\u6301 chat \u548c multi-agent \u573a\u666f\u3002\n\n\u5f00\u53d1\u8005\u53ef\u4ee5\u76f4\u63a5\u4f7f\u7528 model wrapper \u5bf9\u8c61\u7684 `format` \u65b9\u6cd5\u6765\u683c\u5f0f\u5316\u8f93\u5165\u6d88\u606f\uff0c\u800c\u65e0\u9700\u4e86\u89e3\u6a21\u578b\n API \u7684\u7ec6\u8282\u3002\u4ee5 DashScope Chat API \u4e3a\u4f8b\uff1a\n"
      ]
    },
    {
      "cell_type": "code",
      "execution_count": null,
      "metadata": {
        "collapsed": false
      },
      "outputs": [],
      "source": [
        "from typing import Union, Optional\n\nfrom agentscope.agents import AgentBase\nfrom agentscope.message import Msg\nfrom agentscope.manager import ModelManager\nimport agentscope\nimport json\n\n# Load the model configuration\nagentscope.init(\n    model_configs={\n        \"config_name\": \"my_qwen\",\n        \"model_type\": \"dashscope_chat\",\n        \"model_name\": \"qwen-max\",\n    },\n)\n\n# \u4ece ModelManager \u4e2d\u83b7\u53d6\u6a21\u578b\u5bf9\u8c61\nmodel = ModelManager.get_instance().get_model_by_config_name(\"my_qwen\")\n\n# \u53ef\u4ee5\u5c06 `Msg` \u5bf9\u8c61\u6216 `Msg` \u5bf9\u8c61\u5217\u8868\u4f20\u9012\u7ed9 `format` \u65b9\u6cd5\nprompt = model.format(\n    Msg(\"system\", \"You're a helpful assistant.\", \"system\"),\n    [\n        Msg(\"assistant\", \"Hi!\", \"assistant\"),\n        Msg(\"user\", \"Nice to meet you!\", \"user\"),\n    ],\n    multi_agent_mode=False,\n)\n\nprint(json.dumps(prompt, indent=4, ensure_ascii=False))"
      ]
    },
    {
      "cell_type": "markdown",
      "metadata": {},
      "source": [
        "\u683c\u5f0f\u5316\u8f93\u5165\u6d88\u606f\u540e\uff0c\u6211\u4eec\u53ef\u4ee5\u5c06\u5176\u4f20\u7ed9 `model` \u5bf9\u8c61\uff0c\u8fdb\u884c\u5b9e\u9645\u7684 API \u8c03\u7528\u3002\n\n\n"
      ]
    },
    {
      "cell_type": "code",
      "execution_count": null,
      "metadata": {
        "collapsed": false
      },
      "outputs": [],
      "source": [
        "response = model(prompt)\n\nprint(response.text)"
      ]
    },
    {
      "cell_type": "markdown",
      "metadata": {},
      "source": [
        "\u540c\u6837\uff0c\u6211\u4eec\u53ef\u4ee5\u901a\u8fc7\u8bbe\u7f6e `multi_agent_mode=True` \u5728 multi-agent \u573a\u666f\u4e0b\u683c\u5f0f\u5316\u6d88\u606f\u3002\n\n"
      ]
    },
    {
      "cell_type": "code",
      "execution_count": null,
      "metadata": {
        "collapsed": false
      },
      "outputs": [],
      "source": [
        "prompt = model.format(\n    Msg(\"system\", \"\u4f60\u662f\u4e00\u4e2a\u540d\u4e3aAlice\u7684AI\u52a9\u624b\uff0c\u4f60\u4f1a\u4e0e\u5176\u4ed6\u4eba\u8fdb\u884c\u4ea4\u6d41\", \"system\"),\n    [\n        Msg(\"Alice\", \"Hi!\", \"assistant\"),\n        Msg(\"Bob\", \"Nice to meet you!\", \"assistant\"),\n    ],\n    multi_agent_mode=True,\n)\n\nprint(json.dumps(prompt, indent=4, ensure_ascii=False))"
      ]
    },
    {
      "cell_type": "markdown",
      "metadata": {},
      "source": [
        "\u5728 AgentScope \u7684\u667a\u80fd\u4f53\u7c7b\u4e2d\uff0c\u6a21\u578b\u672a\u77e5\u7684\u683c\u5f0f\u5316\u5b9e\u73b0\u5982\u4e0b\uff1a\n\n"
      ]
    },
    {
      "cell_type": "code",
      "execution_count": null,
      "metadata": {
        "collapsed": false
      },
      "outputs": [],
      "source": [
        "class MyAgent(AgentBase):\n    def __init__(self, name: str, model_config_name: str, **kwargs) -> None:\n        super().__init__(name=name, model_config_name=model_config_name)\n\n        # ...\n\n    def reply(self, x: Optional[Union[Msg, list[Msg]]] = None) -> Msg:\n        # ...\n\n        # \u5728\u6a21\u578b\u7c7b\u578b\u672a\u77e5\u7684\u60c5\u51b5\u4e0b\uff0c\u53ef\u4ee5\u76f4\u63a5\u8fdb\u884c\u683c\u5f0f\u5316\n        prompt = self.model.format(\n            Msg(\"system\", \"{your system prompt}\", \"system\"),\n            self.memory.get_memory(),\n            multi_agent_mode=True,\n        )\n        response = self.model(prompt)\n\n        # ...\n        return Msg(self.name, response.text, role=\"assistant\")"
      ]
    },
    {
      "cell_type": "markdown",
      "metadata": {},
      "source": [
        ".. tip:: Model wrapper \u7c7b\u7684\u683c\u5f0f\u5316\u529f\u80fd\u5168\u90e8\u5b9e\u73b0\u5728 `agentscope.formatter` \u6a21\u5757\u4e2d\u3002\nModel wrapper \u7c7b\u4f1a\u6839\u636e\u6a21\u578b\u540d\u5b57\u6765\u51b3\u5b9a\u4f7f\u7528\u54ea\u4e00\u79cd\u683c\u5f0f\u5316\u7b56\u7565\u3002\n\n"
      ]
    },
    {
      "cell_type": "markdown",
      "metadata": {},
      "source": [
        "## \u6a21\u578b\u5df2\u77e5\u7684\u683c\u5f0f\u5316\n\n`agentscope.formatter` \u6a21\u5757\u4e2d\u5b9e\u73b0\u4e86\u4e00\u7cfb\u5217\u7684\u683c\u5f0f\u5316\u7b56\u7565\uff0c\u4ee5\u652f\u6301\u4e0d\u540c\u7684\u6a21\u578b API \u548c\u573a\u666f\u3002\n\u5177\u4f53\u800c\u8a00\uff0c\u5f00\u53d1\u8005\u53ef\u4ee5\u8c03\u7528 `format_chat` \u548c `format_multi_agent` \u65b9\u6cd5\u6765\u683c\u5f0f\u5316 chat \u548c\nmulti-agent \u573a\u666f\u4e0b\u7684\u6d88\u606f\u3002\u540c\u65f6\uff0c\u8fd8\u63d0\u4f9b\u4e86\u4e00\u4e2a `format_auto` \u65b9\u6cd5\uff0c\u4ed6\u4f1a\u81ea\u52a8\u6839\u636e\u8f93\u5165\n\u6d88\u606f\u4e2d\u6d89\u53ca\u5230\u7684\u89d2\u8272\u5b9e\u4f53\u6570\u91cf\u6765\u51b3\u5b9a\u4f7f\u7528\u54ea\u79cd\u683c\u5f0f\u5316\u7b56\u7565\u3002\n\n"
      ]
    },
    {
      "cell_type": "code",
      "execution_count": null,
      "metadata": {
        "collapsed": false
      },
      "outputs": [],
      "source": [
        "from agentscope.formatters import OpenAIFormatter\n\nmulti_agent_messages = [\n    Msg(\"system\", \"You're a helpful assistant named Alice.\", \"system\"),\n    Msg(\"Alice\", \"Hi!\", \"assistant\"),\n    Msg(\"Bob\", \"Nice to meet you!\", \"assistant\"),\n    Msg(\"Charlie\", \"Nice to meet you, too!\", \"user\"),\n]\n\nchat_messages = [\n    Msg(\"system\", \"You're a helpful assistant named Alice.\", \"system\"),\n    Msg(\"Bob\", \"Nice to meet you!\", \"user\"),\n    Msg(\"Alice\", \"Hi! How can I help you?\", \"assistant\"),\n]"
      ]
    },
    {
      "cell_type": "markdown",
      "metadata": {},
      "source": [
        "Multi-agent \u573a\u666f:\n\n"
      ]
    },
    {
      "cell_type": "code",
      "execution_count": null,
      "metadata": {
        "collapsed": false
      },
      "outputs": [],
      "source": [
        "formatted_multi_agent = OpenAIFormatter.format_multi_agent(\n    multi_agent_messages,\n)\nprint(json.dumps(formatted_multi_agent, indent=4, ensure_ascii=False))"
      ]
    },
    {
      "cell_type": "markdown",
      "metadata": {},
      "source": [
        "Chat \u573a\u666f:\n\n"
      ]
    },
    {
      "cell_type": "code",
      "execution_count": null,
      "metadata": {
        "collapsed": false
      },
      "outputs": [],
      "source": [
        "formatted_chat = OpenAIFormatter.format_chat(\n    chat_messages,\n)\nprint(json.dumps(formatted_chat, indent=4, ensure_ascii=False))"
      ]
    },
    {
      "cell_type": "markdown",
      "metadata": {},
      "source": [
        "\u81ea\u52a8\u683c\u5f0f\u5316\uff08\u8f93\u5165\u4e2d\u53ea\u5305\u542b user \u548c assistant \u4e24\u4e2a\u5b9e\u4f53\uff09\uff1a\n\n"
      ]
    },
    {
      "cell_type": "code",
      "execution_count": null,
      "metadata": {
        "collapsed": false
      },
      "outputs": [],
      "source": [
        "formatted_auto_chat = OpenAIFormatter.format_auto(\n    chat_messages,\n)\nprint(json.dumps(formatted_auto_chat, indent=4, ensure_ascii=False))"
      ]
    },
    {
      "cell_type": "markdown",
      "metadata": {},
      "source": [
        "\u81ea\u52a8\u683c\u5f0f\u5316\uff08\u8f93\u5165\u4e2d\u5305\u542b\u591a\u4e2a\u5b9e\u4f53\uff0c\u5373 multi-agent\uff09\uff1a\n\n"
      ]
    },
    {
      "cell_type": "code",
      "execution_count": null,
      "metadata": {
        "collapsed": false
      },
      "outputs": [],
      "source": [
        "formatted_auto_multi_agent = OpenAIFormatter.format_auto(\n    multi_agent_messages,\n)\nprint(json.dumps(formatted_auto_multi_agent, indent=4, ensure_ascii=False))"
      ]
    },
    {
      "cell_type": "markdown",
      "metadata": {},
      "source": [
        "AgentScope \u4e2d\u53ef\u7528\u7684 formatter \u7c7b\u5982\u4e0b\uff1a\n\n"
      ]
    },
    {
      "cell_type": "code",
      "execution_count": null,
      "metadata": {
        "collapsed": false
      },
      "outputs": [],
      "source": [
        "from agentscope.formatters import (\n    CommonFormatter,\n    AnthropicFormatter,\n    OpenAIFormatter,\n    GeminiFormatter,\n    DashScopeFormatter,\n)"
      ]
    },
    {
      "cell_type": "markdown",
      "metadata": {},
      "source": [
        "`CommonFormatter` \u662f\u7528\u4e8e\u4e00\u822c chat LLMs \u7684\u57fa\u672c\u683c\u5f0f\u5316\u5668\uff0c\n\u4f8b\u5982 ZhipuAI API\u3001Yi API\u3001ollama\u3001LiteLLM \u7b49\u3002\n\n## \u89c6\u89c9\u6a21\u578b\n\n\u5bf9\u4e8e\u89c6\u89c9\u6a21\u578b\uff0cAgentScope \u76ee\u524d\u652f\u6301 OpenAI\uff0cDashscope \u548c Anthropic API\u3002\n\n\n"
      ]
    },
    {
      "cell_type": "code",
      "execution_count": null,
      "metadata": {
        "collapsed": false
      },
      "outputs": [],
      "source": [
        "from agentscope.message import TextBlock, ImageBlock\n\n# we create a fake image locally\nwith open(\"./image.jpg\", \"w\") as f:\n    f.write(\"fake image\")\n\nmulti_modal_messages = [\n    Msg(\"system\", \"You're a helpful assistant named Alice.\", \"system\"),\n    Msg(\n        \"Alice\",\n        [\n            TextBlock(type=\"text\", text=\"Help me to describe the two images?\"),\n            ImageBlock(type=\"image\", url=\"https://example.com/image.jpg\"),\n            ImageBlock(type=\"image\", url=\"./image.jpg\"),\n        ],\n        \"user\",\n    ),\n    Msg(\"Bob\", \"Sure!\", \"assistant\"),\n]"
      ]
    },
    {
      "cell_type": "code",
      "execution_count": null,
      "metadata": {
        "collapsed": false
      },
      "outputs": [],
      "source": [
        "print(\"OpenAI prompt:\")\nopenai_prompt = OpenAIFormatter.format_chat(multi_modal_messages)\nprint(json.dumps(openai_prompt, indent=4, ensure_ascii=False))"
      ]
    },
    {
      "cell_type": "code",
      "execution_count": null,
      "metadata": {
        "collapsed": false
      },
      "outputs": [],
      "source": [
        "print(\"\\nDashscope prompt:\")\ndashscope_prompt = DashScopeFormatter.format_chat(multi_modal_messages)\nprint(json.dumps(dashscope_prompt, indent=4, ensure_ascii=False))"
      ]
    },
    {
      "cell_type": "code",
      "execution_count": null,
      "metadata": {
        "collapsed": false
      },
      "outputs": [],
      "source": [
        "print(\"\\nAnthropic prompt:\")\nanthropic_prompt = AnthropicFormatter.format_chat(multi_modal_messages)\nprint(json.dumps(anthropic_prompt, indent=4, ensure_ascii=False))"
      ]
    }
  ],
  "metadata": {
    "kernelspec": {
      "display_name": "Python 3",
      "language": "python",
      "name": "python3"
    },
    "language_info": {
      "codemirror_mode": {
        "name": "ipython",
        "version": 3
      },
      "file_extension": ".py",
      "mimetype": "text/x-python",
      "name": "python",
      "nbconvert_exporter": "python",
      "pygments_lexer": "ipython3",
      "version": "3.10.17"
    }
  },
  "nbformat": 4,
  "nbformat_minor": 0
}