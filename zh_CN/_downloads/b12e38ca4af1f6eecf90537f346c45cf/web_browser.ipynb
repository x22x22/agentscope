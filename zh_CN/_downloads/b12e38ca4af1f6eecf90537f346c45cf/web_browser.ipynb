{
  "cells": [
    {
      "cell_type": "markdown",
      "metadata": {},
      "source": [
        "\n\n# \u6d4f\u89c8\u5668\u63a7\u5236\n\n\u672c\u8282\u91cd\u5b9a\u5411\u5230\n[conversation_with_web_browser_agent/README.md](https://github.com/modelscope/agentscope/tree/main/examples/conversation_with_web_browser_agent)\u3002\n"
      ]
    }
  ],
  "metadata": {
    "kernelspec": {
      "display_name": "Python 3",
      "language": "python",
      "name": "python3"
    },
    "language_info": {
      "codemirror_mode": {
        "name": "ipython",
        "version": 3
      },
      "file_extension": ".py",
      "mimetype": "text/x-python",
      "name": "python",
      "nbconvert_exporter": "python",
      "pygments_lexer": "ipython3",
      "version": "3.9.21"
    }
  },
  "nbformat": 4,
  "nbformat_minor": 0
}