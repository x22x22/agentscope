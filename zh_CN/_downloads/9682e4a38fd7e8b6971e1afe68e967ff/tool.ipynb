{
  "cells": [
    {
      "cell_type": "markdown",
      "metadata": {},
      "source": [
        "\n\n# \u5de5\u5177\n\n## \u80cc\u666f\u4ecb\u7ecd\n\n\u5de5\u5177\u8c03\u7528\u6839\u636e\u5b9e\u73b0\u65b9\u5f0f\u4e0d\u540c\u5206\u4e3a\u4e24\u79cd\u7c7b\u578b\uff1a\n\n<img src=\"https://img.alicdn.com/imgextra/i3/O1CN01iizvjY1UjKCE3q5FR_!!6000000002553-0-tps-1830-792.jpg\" align=\"center\" alt=\"\u4e24\u79cd\u4e0d\u540c\u5b9e\u73b0\u65b9\u5f0f\" width=\"80%\">\n\n- \u57fa\u4e8e prompt \u7684\u5de5\u5177\u8c03\u7528: \u5f00\u53d1\u4eba\u5458\u5728 prompt \u4e2d\u4ecb\u7ecd\u5de5\u5177\uff0c\u5e76\u4ece LLM \u54cd\u5e94\u4e2d\u624b\u52a8\u63d0\u53d6\u5de5\u5177\u8c03\u7528\u3002\n- \u57fa\u4e8e API \u7684\u5de5\u5177\u8c03\u7528\uff1a\u5f00\u53d1\u4eba\u5458\u63d0\u4f9b JSON Schema \u683c\u5f0f\u7684\u5de5\u5177\u63cf\u8ff0\uff0cLLM API \u5c06\u76f4\u63a5\u8fd4\u56de\u7279\u5b9a\u683c\n \u5f0f\u7684\u5de5\u5177\u8c03\u7528\u3002\n\nAgentScope \u540c\u65f6\u517c\u5bb9\u4e24\u79cd\u65b9\u5f0f\uff0c\u5728\u672c\u6559\u7a0b\u4e2d\uff0c\u5c06\u5c55\u793a\u5982\u4f55\u4f7f\u7528 AgentScope \u4e2d\u5185\u7f6e\u7684\u5de5\u5177\u51fd\u6570\uff0c\n\u4ee5\u53ca\u5982\u4f55\u521b\u5efa\u81ea\u5b9a\u4e49\u5de5\u5177\u3002\n"
      ]
    },
    {
      "cell_type": "code",
      "execution_count": null,
      "metadata": {
        "collapsed": false
      },
      "outputs": [],
      "source": [
        "import json\n\nimport agentscope\nfrom agentscope.message import Msg\nfrom agentscope.models import DashScopeChatWrapper"
      ]
    },
    {
      "cell_type": "markdown",
      "metadata": {},
      "source": [
        "## \u5185\u7f6e\u5de5\u5177\u51fd\u6570\nAgentScope \u63d0\u4f9b\u4e86\u4e00\u4e2a `ServiceToolkit` \u6a21\u5757\uff0c\u652f\u6301\u4ee5\u4e0b\u529f\u80fd:\n\n- \u81ea\u52a8\u89e3\u6790\u5de5\u5177\u51fd\u6570\u4e3a JSON Schema \u683c\u5f0f\n- \u63d0\u4f9b\u4e00\u5957\u9ed8\u8ba4\u7684\u8c03\u7528\u683c\u5f0f,\n- \u53c2\u6570\u68c0\u67e5\u548c\u8c03\u7528\u51fd\u6570\n\n\u5728\u4f7f\u7528 `ServiceToolkit` \u4e4b\u524d,\u6211\u4eec\u53ef\u4ee5\u5148\u770b\u4e00\u4e0b `agentscope.service` \u6a21\u5757\u4e2d\u53ef\u7528\u7684\u5de5\u5177\u3002\n\n\n"
      ]
    },
    {
      "cell_type": "code",
      "execution_count": null,
      "metadata": {
        "collapsed": false
      },
      "outputs": [],
      "source": [
        "from agentscope.service import get_help, ServiceResponse, ServiceExecStatus\n\nget_help()"
      ]
    },
    {
      "cell_type": "markdown",
      "metadata": {},
      "source": [
        "\u4ee5\u4e0a\u6240\u6709\u51fd\u6570\u90fd\u662f\u7528 Python \u5b9e\u73b0\u7684\uff0c\u53ef\u4ee5\u901a\u8fc7\u8c03\u7528 `add` \u65b9\u6cd5\u6ce8\u518c\u5230 `ServiceToolkit` \u4e2d\u3002\n`ServiceToolkit` \u5c06\u81ea\u52a8\u5c06\u5de5\u5177\u51fd\u6570\u89e3\u6790\u4e3a JSON Schema \u683c\u5f0f\u3002\n\n\n"
      ]
    },
    {
      "cell_type": "code",
      "execution_count": null,
      "metadata": {
        "collapsed": false
      },
      "outputs": [],
      "source": [
        "from agentscope.service import ServiceToolkit\nfrom agentscope.service import bing_search, execute_shell_command\n\ntoolkit = ServiceToolkit()\ntoolkit.add(execute_shell_command)"
      ]
    },
    {
      "cell_type": "markdown",
      "metadata": {},
      "source": [
        "\u6ce8\u610f,\u4e00\u4e9b\u5de5\u5177\u51fd\u6570\u7684\u53c2\u6570\uff08\u4f8b\u5982 api_key\uff09\u5e94\u8be5\u7531\u5f00\u53d1\u4eba\u5458\u5904\u7406\u3002\n\u4f60\u53ef\u4ee5\u76f4\u63a5\u5728 add \u65b9\u6cd5\u4e2d\u4ee5\u5173\u952e\u5b57\u53c2\u6570\u7684\u5f62\u5f0f\u4f20\u9012\u8fd9\u4e9b\u53c2\u6570\uff0c\u4fdd\u7559\u5176\u4ed6\u53c2\u6570\u7559\u7ed9\u667a\u80fd\u4f53\u586b\u5199\u3002\n\n"
      ]
    },
    {
      "cell_type": "code",
      "execution_count": null,
      "metadata": {
        "collapsed": false
      },
      "outputs": [],
      "source": [
        "toolkit.add(bing_search, api_key=\"xxx\")\n\nprint(\"\u5de5\u5177\u8bf4\u660e:\")\nprint(toolkit.tools_instruction)"
      ]
    },
    {
      "cell_type": "markdown",
      "metadata": {},
      "source": [
        "\u5185\u7f6e\u7684\u9ed8\u8ba4\u8c03\u7528\u683c\u5f0f:\n\n\n"
      ]
    },
    {
      "cell_type": "code",
      "execution_count": null,
      "metadata": {
        "collapsed": false
      },
      "outputs": [],
      "source": [
        "print(toolkit.tools_calling_format)"
      ]
    },
    {
      "cell_type": "markdown",
      "metadata": {},
      "source": [
        "\u81ea\u52a8\u751f\u6210\u7684\u5de5\u5177\u51fd\u6570 JSON Schema \u683c\u5f0f\u8bf4\u660e:\n\n\n"
      ]
    },
    {
      "cell_type": "code",
      "execution_count": null,
      "metadata": {
        "collapsed": false
      },
      "outputs": [],
      "source": [
        "print(json.dumps(toolkit.json_schemas, indent=2))"
      ]
    },
    {
      "cell_type": "markdown",
      "metadata": {},
      "source": [
        "## \u57fa\u4e8e prompt \u7684\u5de5\u5177\u8c03\u7528\n\u5728\u57fa\u4e8e prompt \u7684\u5de5\u5177\u8c03\u7528\u4e2d\uff0c\u5f00\u53d1\u4eba\u5458\u9700\u8981:\n- \u5728 prompt \u4e2d\u4ecb\u7ecd\u5de5\u5177\u548c\u8c03\u7528\u683c\u5f0f\n- \u4ece LLM \u54cd\u5e94\u4e2d\u624b\u52a8\u63d0\u53d6\u5de5\u5177\u8c03\u7528\n\n\u5173\u4e8e\u4ece\u5b57\u7b26\u4e32\u4e2d\u63d0\u53d6\u5de5\u5177\u8c03\u7528\uff0c\u53ef\u4ee5\u53c2\u8003 `structured-output` \u7ae0\u8282\u4e2d\u7684\u89e3\u6790\u5668\u4ecb\u7ecd\u3002\n`ServiceToolkit.parse_and_call_func`\u65b9\u6cd5\u63a5\u53d7\u7684\u5de5\u5177\u8c03\u7528\u683c\u5f0f\u5982\u4e0b\uff1a\n\n"
      ]
    },
    {
      "cell_type": "code",
      "execution_count": null,
      "metadata": {
        "collapsed": false
      },
      "outputs": [],
      "source": [
        "from agentscope.message import ToolUseBlock\n\ntool_call = ToolUseBlock(\n    type=\"tool_use\",\n    id=\"xxx\",\n    name=\"bing_search\",\n    input={\"query\": \"AgentScope\"},\n)"
      ]
    },
    {
      "cell_type": "markdown",
      "metadata": {},
      "source": [
        "`ServiceToolkit` \u6ce8\u518c\u5de5\u5177\u51fd\u6570\u540e\uff0c\u53ef\u4ee5\u5c06\u5176\u96c6\u6210\u5230\u667a\u80fd\u4f53\u4e2d\u3002\n\nAgentScope \u63d0\u4f9b\u4e86 `ReActAgent` \u667a\u80fd\u4f53\u7c7b\u6765\u4f7f\u7528\u5de5\u5177\uff0c\u53ea\u9700\u8981\u5c06 `ServiceToolkit` \u5bf9\u8c61\u4f20\u9012\u7ed9\u8fd9\u4e2a\u667a\u80fd\u4f53\u3002\n\u6709\u5173\u8be5\u667a\u80fd\u4f53\u7684\u5b9e\u73b0\u7ec6\u8282\uff0c\u8bf7\u53c2\u9605 `builtin_agent`\u3002\n\n<div class=\"alert alert-info\"><h4>Note</h4><p>`ReActAgent` \u91c7\u7528\u7684\u662f prompt \u672c\u5730\u62fc\u63a5\u548c\u89e3\u6790\u7684\u65b9\u5f0f\u8c03\u7528\u5de5\u5177\uff0c\u800c\u4e0d\u662f\u901a\u8fc7</p></div>\n \u6a21\u578b API \u7684 tools API \u8fdb\u884c\u8c03\u7528\u3002\u5173\u4e8e tools API \u7684\u4f7f\u7528\uff0c\u8bf7\u53c2\u8003 `tools-api`.\n\n"
      ]
    },
    {
      "cell_type": "code",
      "execution_count": null,
      "metadata": {
        "collapsed": false
      },
      "outputs": [],
      "source": [
        "from agentscope.agents import ReActAgent\n\nagentscope.init(\n    model_configs={\n        \"config_name\": \"my-qwen-max\",\n        \"model_type\": \"dashscope_chat\",\n        \"model_name\": \"qwen-max\",\n    },\n)\n\nagent = ReActAgent(\n    name=\"Friday\",\n    model_config_name=\"my-qwen-max\",\n    service_toolkit=toolkit,\n    sys_prompt=\"\u4f60\u662f\u4e00\u4e2a\u540d\u4e3a Friday \u7684\u52a9\u624b\u3002\",\n)\n\nmsg_task = Msg(\"user\", \"\u5e2e\u6211\u8ba1\u7b97\u4e00\u4e0b 1615114134*4343434343\", \"user\")\n\nres = agent(msg_task)"
      ]
    },
    {
      "cell_type": "markdown",
      "metadata": {},
      "source": [
        "## \u57fa\u4e8e API \u7684\u5de5\u5177\u8c03\u7528\n\u57fa\u4e8e API \u7684\u5de5\u5177\u8c03\u7528\u4e2d\uff0c\u5f00\u53d1\u8005\u53ea\u9700\u8981\u63d0\u4f9b JSON Schema \u683c\u5f0f\u7684\u5de5\u5177\u63cf\u8ff0\u3002\u4f46\u662f\u4e0d\u540c\u7684\u6a21\u578b API\n- \u8981\u6c42\u7684 JSON Schema \u683c\u5f0f\u4e0d\u540c\n- \u5c06\u5de5\u5177\u8c03\u7528\uff0c\u6267\u884c\u7ed3\u679c\u96c6\u6210\u5230prompt\u4e2d\u7684\u65b9\u5f0f\u4e5f\u4e0d\u540c\n\n<img src=\"file://./api_based_tool_calling.png\" align=\"center\" alt=\"API-based tool calling\" width=\"80%\">\n\n\u4e0a\u56fe\u4ee5 OpenAI \u4e3a\u4f8b\u5c55\u793a\u4e86\u57fa\u4e8e API \u7684\u5de5\u5177\u8c03\u7528\u5982\u4f55\u5de5\u4f5c\u3002\u901a\u8fc7`agentscope.formatter`\u548c\n`ModelResponse`\u7684\u5c01\u88c5\uff0c\u6211\u4eec\u9690\u85cf\u4e86 API \u7684\u683c\u5f0f\u8981\u6c42\u548c\u8f6c\u5316\u7ec6\u8282\uff0c\u5f00\u53d1\u8005\u53ea\u9700\u8981\u4e13\u6ce8\u5e94\u7528\u7684\u5f00\u53d1\u3002\n\u5f00\u53d1\u8005\u9700\u8981\u4e86\u89e3\u7684\u662f\uff1a\n- `ServiceToolkit` \u652f\u6301\u81ea\u52a8\u5c06\u51fd\u6570\u89e3\u6790\u4e3a\u6807\u51c6 JSON Schema \u683c\u5f0f\n- `Formatter` \u6a21\u5757\u652f\u6301\u5c06 JSON Schema \u548c\u6d88\u606f\u5217\u8868\u8f6c\u5316\u6210 API \u9700\u8981\u7684\u683c\u5f0f\n- \u4e0d\u540c\u6a21\u578b API \u8fd4\u56de\u7684\u5de5\u5177\u8c03\u7528\u4f1a\u5728 `ModelResponse` \u4e2d\u7edf\u4e00\u683c\u5f0f\uff08`ToolUseBlock`)\n\n.. tip:: \u65b0\u7684\u667a\u80fd\u4f53\u7c7b `ReActAgentV2` \u5df2\u4e0a\u7ebf\uff0c\u4f7f\u7528\u57fa\u4e8e API \u7684\u5de5\u5177\u8c03\u7528\u65b9\u6cd5\u3002\n \u5176\u4f7f\u7528\u65b9\u6cd5\u4e0e `ReActAgent` \u4fdd\u6301\u9ad8\u5ea6\u4e00\u81f4\u3002\n\n<div class=\"alert alert-info\"><h4>Note</h4><p>\u76ee\u524d `Formatter` \u6a21\u5757\u53ea\u6709 `format_chat` \u51fd\u6570\u652f\u6301\u5de5\u5177\u8c03\u7528\uff0c</p></div>\n`format_multi_agent` \u51fd\u6570\u7684\u652f\u6301\u8fd8\u5728\u5f00\u53d1\u4e2d\u3002\n\n<div class=\"alert alert-info\"><h4>Note</h4><p>tools API\u76ee\u524d\u8fd8\u4e0d\u652f\u6301\u6d41\u5f0f\u8fd4\u56de\uff0c\u76f8\u5173\u529f\u80fd\u5904\u4e8e\u5f00\u53d1\u4e2d\u3002</p></div>\n\n\u6211\u4eec\u4ee5 DashScope API \u4e3a\u4f8b\u5c55\u793a\u5982\u4f55\u4f7f\u7528 tools API.\n\n"
      ]
    },
    {
      "cell_type": "code",
      "execution_count": null,
      "metadata": {
        "collapsed": false
      },
      "outputs": [],
      "source": [
        "from agentscope.formatters import DashScopeFormatter\nfrom agentscope.message import TextBlock, ToolUseBlock, ToolResultBlock\n\nmodel = DashScopeChatWrapper(\n    config_name=\"_\",\n    model_name=\"qwen-max\",\n)"
      ]
    },
    {
      "cell_type": "markdown",
      "metadata": {},
      "source": [
        "\u56fe\u4e2d\u7684 3 -> 4 \u6b65\uff0c\u5c06 JSON schemas \u548c messages \u8f6c\u5316\u6210\u6a21\u578b API \u9700\u8981\u7684\u683c\u5f0f:\n\n"
      ]
    },
    {
      "cell_type": "code",
      "execution_count": null,
      "metadata": {
        "collapsed": false
      },
      "outputs": [],
      "source": [
        "msgs = [\n    Msg(\"user\", \"Help me to execute shell cmd 'whoami'\", \"user\"),\n]\n\nformatted_msgs = DashScopeFormatter.format_chat(msgs)\nformatted_schemas = DashScopeFormatter.format_tools_json_schemas(\n    toolkit.json_schemas,\n)\nprint(json.dumps(formatted_msgs, indent=4, ensure_ascii=False))"
      ]
    },
    {
      "cell_type": "markdown",
      "metadata": {},
      "source": [
        "\u56fe\u4e2d 5 -> 6 -> 7 \u6b65\uff0c\u83b7\u53d6\u6a21\u578b\u54cd\u5e94:\n\n"
      ]
    },
    {
      "cell_type": "code",
      "execution_count": null,
      "metadata": {
        "collapsed": false
      },
      "outputs": [],
      "source": [
        "response = model(formatted_msgs, tools=formatted_schemas)\nprint(\"tool_calls:\", json.dumps(response.tool_calls, indent=4))"
      ]
    },
    {
      "cell_type": "markdown",
      "metadata": {},
      "source": [
        "\u56fe\u4e2d 8 \u6b65\uff0c\u521b\u5efa\u4e00\u4e2a\u5305\u542b\u5de5\u5177\u8c03\u7528\u7684\u65b0\u6d88\u606f:\n\n"
      ]
    },
    {
      "cell_type": "code",
      "execution_count": null,
      "metadata": {
        "collapsed": false
      },
      "outputs": [],
      "source": [
        "# \u521b\u5efa\u5e26\u6709\u5de5\u5177\u8c03\u7528\u7684\u65b0\u6d88\u606f\ncontent = []\nif response.text:\n    content.append(TextBlock(type=\"text\", text=response.text))\nif response.tool_calls:\n    content.extend(response.tool_calls)\nmsgs.append(Msg(\"assistant\", content, \"assistant\", echo=True))\n\n# \u6267\u884c\u5de5\u5177\u8c03\u7528\nmsg_execution = toolkit.parse_and_call_func(\n    response.tool_calls,\n    tools_api_mode=True,  # \u57fa\u4e8e API \u7684\u5de5\u5177\u8c03\u7528\u5fc5\u987b\u4e3a True\n)"
      ]
    },
    {
      "cell_type": "markdown",
      "metadata": {},
      "source": [
        "\u56fe\u4e2d 9 \u6b65\uff0c\u5c06\u6267\u884c\u7ed3\u679c\u6dfb\u52a0\u5230\u6d88\u606f\u5217\u8868\u4e2d:\n\n"
      ]
    },
    {
      "cell_type": "code",
      "execution_count": null,
      "metadata": {
        "collapsed": false
      },
      "outputs": [],
      "source": [
        "msgs.append(msg_execution)"
      ]
    },
    {
      "cell_type": "markdown",
      "metadata": {},
      "source": [
        "\u5728\u5b8c\u6210\u4e86\u4e00\u8f6e\u5de5\u5177\u8c03\u7528\u4e4b\u540e\uff0c\u8ba9\u6211\u4eec\u518d\u6b21\u5c1d\u8bd5\u5c06\u5305\u542b\u5de5\u5177\u8c03\u7528\u548c\u7ed3\u679c\u7684\u6d88\u606f\u5217\u8868\u683c\u5f0f\u5316:\n\n"
      ]
    },
    {
      "cell_type": "code",
      "execution_count": null,
      "metadata": {
        "collapsed": false
      },
      "outputs": [],
      "source": [
        "formatted_msgs = DashScopeFormatter.format_chat(msgs)\nprint(json.dumps(formatted_msgs, indent=4, ensure_ascii=False))"
      ]
    },
    {
      "cell_type": "markdown",
      "metadata": {},
      "source": [
        "\u76ee\u524d\uff0c\u6211\u4eec\u5df2\u7ecf\u5b8c\u6210\u4e86\u57fa\u4e8e API \u7684\u5de5\u5177\u8c03\u7528\u5168\u8fc7\u7a0b\u3002\u5728\u667a\u80fd\u4f53\u5185\u7684\u5177\u4f53\u5b9e\u73b0\u53ef\u4ee5\u53c2\n\u8003 `agentscope.agents.ReActAgentV2`\u3002\n\n"
      ]
    },
    {
      "cell_type": "markdown",
      "metadata": {},
      "source": [
        "## \u5728 ServiceToolkit \u4e2d\u4f7f\u7528 MCP\nAgentScope \u652f\u6301\u96c6\u6210 MCP (Model Context Protocol) \u670d\u52a1\u5668\uff0c\u4f7f\u6a21\u578b\u548c\u5de5\u5177\u5177\u6709\u589e\u5f3a\u7684\u529f\u80fd\u3002\n\u60a8\u53ef\u4ee5\u4f7f\u7528 `add_mcp_servers` \u65b9\u6cd5\u5c06 MCP \u670d\u52a1\u5668\u6dfb\u52a0\u5230 `ServiceToolkit` \u4e2d\uff0c\u5e76\u5728\u5176\u4e2d\u6307\u5b9a\u6bcf\u4e2a\u670d\u52a1\u5668\u7684\u914d\u7f6e\u3002\n\u8bf7\u6ce8\u610f\uff0cMCP \u8981\u6c42 Python \u7248\u672c>=3.10\u3002\n\n"
      ]
    },
    {
      "cell_type": "code",
      "execution_count": null,
      "metadata": {
        "collapsed": false
      },
      "outputs": [],
      "source": [
        "configs = {\n    \"mcpServers\": {\n        \"puppeteer\": {\n            \"command\": \"npx\",\n            \"args\": [\"-y\", \"@modelcontextprotocol/server-puppeteer\"],\n        },\n    },\n}"
      ]
    },
    {
      "cell_type": "markdown",
      "metadata": {},
      "source": [
        "\u5c06 MCP \u670d\u52a1\u5668\u914d\u7f6e\u6dfb\u52a0\u5230 ServiceToolkit\n`toolkit.add_mcp_servers(server_configs=configs)`\n\n## \u521b\u5efa\u5de5\u5177\u51fd\u6570\n\u81ea\u5b9a\u4e49\u5de5\u5177\u51fd\u6570\u5fc5\u987b\u9075\u5faa\u4ee5\u4e0b\u89c4\u5219:\n\n- \u53c2\u6570\u4f7f\u7528 typing \u6307\u5b9a\u7c7b\u578b\n- \u4f7f\u7528 Google \u98ce\u683c\u4e66\u5199\u5b8c\u6574\u7684 docstring\n- \u51fd\u6570\u8fd4\u56de\u503c\u5fc5\u987b\u7528 `ServiceResponse` \u5305\u88c5\n\n\n"
      ]
    },
    {
      "cell_type": "code",
      "execution_count": null,
      "metadata": {
        "collapsed": false
      },
      "outputs": [],
      "source": [
        "def new_function(arg1: str, arg2: int) -> ServiceResponse:\n    \"\"\"\u7b80\u5355\u4ecb\u7ecd\u8be5\u51fd\u6570\u3002\n\n    Args:\n        arg1 (`str`):\n            \u5bf9 arg1 \u7684\u7b80\u5355\u63cf\u8ff0\n        arg2 (`int`):\n            \u5bf9 arg2 \u7684\u7b80\u5355\u63cf\u8ff0\n    \"\"\"\n    return ServiceResponse(\n        status=ServiceExecStatus.SUCCESS,\n        content=\"\u5b8c\u6210!\",\n    )"
      ]
    }
  ],
  "metadata": {
    "kernelspec": {
      "display_name": "Python 3",
      "language": "python",
      "name": "python3"
    },
    "language_info": {
      "codemirror_mode": {
        "name": "ipython",
        "version": 3
      },
      "file_extension": ".py",
      "mimetype": "text/x-python",
      "name": "python",
      "nbconvert_exporter": "python",
      "pygments_lexer": "ipython3",
      "version": "3.10.17"
    }
  },
  "nbformat": 4,
  "nbformat_minor": 0
}