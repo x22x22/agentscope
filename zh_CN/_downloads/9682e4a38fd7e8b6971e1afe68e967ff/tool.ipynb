{
  "cells": [
    {
      "cell_type": "markdown",
      "metadata": {},
      "source": [
        "\n\n# \u5de5\u5177\n\n\u5728\u672c\u6559\u7a0b\u4e2d\uff0c\u6211\u4eec\u5c06\u5c55\u793a\u5982\u4f55\u4f7f\u7528 AgentScope \u4e2d\u5185\u7f6e\u7684\u5de5\u5177\u51fd\u6570\uff0c\u4ee5\u53ca\u5982\u4f55\u521b\u5efa\u81ea\u5b9a\u4e49\u5de5\u5177\u51fd\u6570\u3002\n"
      ]
    },
    {
      "cell_type": "code",
      "execution_count": null,
      "metadata": {
        "collapsed": false
      },
      "outputs": [],
      "source": [
        "import json\n\nimport agentscope\nfrom agentscope.message import Msg"
      ]
    },
    {
      "cell_type": "markdown",
      "metadata": {},
      "source": [
        "## \u5185\u7f6e\u5de5\u5177\u51fd\u6570\nAgentScope \u63d0\u4f9b\u4e86\u4e00\u4e2a `ServiceToolkit` \u6a21\u5757\uff0c\u652f\u6301\u4ee5\u4e0b\u529f\u80fd:\n\n- \u5de5\u5177\u4ecb\u7ecd\u751f\u6210,\n- \u63d0\u4f9b\u4e00\u5957\u9ed8\u8ba4\u7684\u8c03\u7528\u683c\u5f0f,\n- \u6a21\u578b\u8fd4\u56de\u503c\u89e3\u6790\u3001\u5de5\u5177\u8c03\u7528\u548c\u9762\u5411\u667a\u80fd\u4f53\u7684\u9519\u8bef\u5904\u7406\u3002\n\n\u5728\u4f7f\u7528 `ServiceToolkit` \u4e4b\u524d,\u6211\u4eec\u53ef\u4ee5\u5148\u770b\u4e00\u4e0b `agentscope.service` \u6a21\u5757\u4e2d\u53ef\u7528\u7684\u5de5\u5177\u3002\n\n\n"
      ]
    },
    {
      "cell_type": "code",
      "execution_count": null,
      "metadata": {
        "collapsed": false
      },
      "outputs": [],
      "source": [
        "from agentscope.service import get_help, ServiceResponse, ServiceExecStatus\n\nget_help()"
      ]
    },
    {
      "cell_type": "markdown",
      "metadata": {},
      "source": [
        "\u4ee5\u4e0a\u6240\u6709\u51fd\u6570\u90fd\u662f\u7528 Python \u51fd\u6570\u5b9e\u73b0\u7684\u3002\n\u53ef\u4ee5\u901a\u8fc7\u8c03\u7528 `add` \u65b9\u6cd5\u6ce8\u518c\u5230 `ServiceToolkit` \u4e2d\u3002\n\n\n"
      ]
    },
    {
      "cell_type": "code",
      "execution_count": null,
      "metadata": {
        "collapsed": false
      },
      "outputs": [],
      "source": [
        "from agentscope.service import ServiceToolkit\nfrom agentscope.service import bing_search, execute_shell_command\n\ntoolkit = ServiceToolkit()\ntoolkit.add(execute_shell_command)\n\n# \u6ce8\u610f,\u4e00\u4e9b\u5de5\u5177\u51fd\u6570\u7684\u53c2\u6570\uff08\u4f8b\u5982 api_key\uff09\u5e94\u8be5\u7531\u5f00\u53d1\u4eba\u5458\u5904\u7406\u3002\n# \u4f60\u53ef\u4ee5\u76f4\u63a5\u5728 add \u65b9\u6cd5\u4e2d\u4ee5\u5173\u952e\u5b57\u53c2\u6570\u7684\u5f62\u5f0f\u4f20\u9012\u8fd9\u4e9b\u53c2\u6570\uff0c\u4fdd\u7559\u5176\u4ed6\u53c2\u6570\u7559\u7ed9\u667a\u80fd\u4f53\u586b\u5199\u3002\n\ntoolkit.add(bing_search, api_key=\"xxx\")\n\nprint(\"\u5de5\u5177\u8bf4\u660e:\")\nprint(toolkit.tools_instruction)"
      ]
    },
    {
      "cell_type": "markdown",
      "metadata": {},
      "source": [
        "\u5185\u7f6e\u7684\u9ed8\u8ba4\u8c03\u7528\u683c\u5f0f:\n\n\n"
      ]
    },
    {
      "cell_type": "code",
      "execution_count": null,
      "metadata": {
        "collapsed": false
      },
      "outputs": [],
      "source": [
        "print(toolkit.tools_calling_format)"
      ]
    },
    {
      "cell_type": "markdown",
      "metadata": {},
      "source": [
        "\u81ea\u52a8\u751f\u6210\u7684\u5de5\u5177\u51fd\u6570 JSON Schema \u683c\u5f0f\u8bf4\u660e:\n\n\n"
      ]
    },
    {
      "cell_type": "code",
      "execution_count": null,
      "metadata": {
        "collapsed": false
      },
      "outputs": [],
      "source": [
        "print(json.dumps(toolkit.json_schemas, indent=2))"
      ]
    },
    {
      "cell_type": "markdown",
      "metadata": {},
      "source": [
        "AgentScope \u63d0\u4f9b\u4e86 `ReActAgent` \u667a\u80fd\u4f53\u7c7b\u6765\u4f7f\u7528\u5de5\u5177\uff0c\u53ea\u9700\u8981\u5c06 `ServiceToolkit` \u5bf9\u8c61\u4f20\u9012\u7ed9\u8fd9\u4e2a\u667a\u80fd\u4f53\u3002\n\u6709\u5173\u8be5\u667a\u80fd\u4f53\u7684\u5b9e\u73b0\u7ec6\u8282\uff0c\u8bf7\u53c2\u9605 `builtin_agent`\u3002\n\n\n"
      ]
    },
    {
      "cell_type": "code",
      "execution_count": null,
      "metadata": {
        "collapsed": false
      },
      "outputs": [],
      "source": [
        "from agentscope.agents import ReActAgent\n\nagentscope.init(\n    model_configs={\n        \"config_name\": \"my-qwen-max\",\n        \"model_type\": \"dashscope_chat\",\n        \"model_name\": \"qwen-max\",\n    },\n)\n\nagent = ReActAgent(\n    name=\"Friday\",\n    model_config_name=\"my-qwen-max\",\n    service_toolkit=toolkit,\n    sys_prompt=\"\u4f60\u662f\u4e00\u4e2a\u540d\u4e3a Friday \u7684\u52a9\u624b\u3002\",\n)\n\nmsg_task = Msg(\"user\", \"\u5e2e\u6211\u8ba1\u7b97\u4e00\u4e0b 1615114134*4343434343\", \"user\")\n\nres = agent(msg_task)"
      ]
    },
    {
      "cell_type": "markdown",
      "metadata": {},
      "source": [
        "## \u521b\u5efa\u5de5\u5177\u51fd\u6570\n\u81ea\u5b9a\u4e49\u5de5\u5177\u51fd\u6570\u5fc5\u987b\u9075\u5faa\u4ee5\u4e0b\u89c4\u5219:\n\n- \u53c2\u6570\u4f7f\u7528 typing \u6307\u5b9a\u7c7b\u578b\n- \u4f7f\u7528 Google \u98ce\u683c\u4e66\u5199\u5b8c\u6574\u7684 docstring\n- \u51fd\u6570\u8fd4\u56de\u503c\u5fc5\u987b\u7528 `ServiceResponse` \u5305\u88c5\n\n\n"
      ]
    },
    {
      "cell_type": "code",
      "execution_count": null,
      "metadata": {
        "collapsed": false
      },
      "outputs": [],
      "source": [
        "def new_function(arg1: str, arg2: int) -> ServiceResponse:\n    \"\"\"\u7b80\u5355\u4ecb\u7ecd\u8be5\u51fd\u6570\u3002\n\n    Args:\n        arg1 (`str`):\n            \u5bf9 arg1 \u7684\u7b80\u5355\u63cf\u8ff0\n        arg2 (`int`):\n            \u5bf9 arg2 \u7684\u7b80\u5355\u63cf\u8ff0\n    \"\"\"\n    return ServiceResponse(\n        status=ServiceExecStatus.SUCCESS,\n        content=\"\u5b8c\u6210!\",\n    )"
      ]
    }
  ],
  "metadata": {
    "kernelspec": {
      "display_name": "Python 3",
      "language": "python",
      "name": "python3"
    },
    "language_info": {
      "codemirror_mode": {
        "name": "ipython",
        "version": 3
      },
      "file_extension": ".py",
      "mimetype": "text/x-python",
      "name": "python",
      "nbconvert_exporter": "python",
      "pygments_lexer": "ipython3",
      "version": "3.9.21"
    }
  },
  "nbformat": 4,
  "nbformat_minor": 0
}