{
  "cells": [
    {
      "cell_type": "markdown",
      "metadata": {},
      "source": [
        "\n\n# \u7cfb\u7edf\u63d0\u793a\u4f18\u5316\n\nAgentScope \u5b9e\u73b0\u4e86\u4e00\u4e2a\u7528\u4e8e\u4f18\u5316\u667a\u80fd\u4f53\u7cfb\u7edf\u63d0\u793a\u7684\u6a21\u5757\u3002\n\n\n## \u7cfb\u7edf\u63d0\u793a\u751f\u6210\u5668\n\n\u7cfb\u7edf\u63d0\u793a\u751f\u6210\u5668\u4f7f\u7528\u5143\u63d0\u793a\uff08Meta prompt\uff09\u6765\u6307\u5bfc\u6a21\u578b\u6839\u636e\u7528\u6237\u7684\u8981\u6c42\u751f\u6210\u7cfb\u7edf\u63d0\u793a\uff0c\u5e76\u5141\u8bb8\u5f00\u53d1\u4eba\u5458\u4f7f\u7528\u5185\u7f6e\u793a\u4f8b\u6216\u63d0\u4f9b\u81ea\u5df1\u7684\u793a\u4f8b\u4f5c\u4e3a\u4e0a\u4e0b\u6587\u5b66\u4e60\uff08ICL\uff09\u3002\n\n\u7cfb\u7edf\u63d0\u793a\u751f\u6210\u5668\u5305\u62ec\u4e00\u4e2a `EnglishSystemPromptGenerator` \u548c\u4e00\u4e2a `ChineseSystemPromptGenerator` \u6a21\u5757\uff0c\u5b83\u4eec\u53ea\u5728\u4f7f\u7528\u7684\u8bed\u8a00\u4e0a\u6709\u6240\u4e0d\u540c\u3002\n\n\u6211\u4eec\u4ee5 `ChineseSystemPromptGenerator` \u4e3a\u4f8b,\u8bf4\u660e\u5982\u4f55\u4f7f\u7528\u7cfb\u7edf\u63d0\u793a\u751f\u6210\u5668\u3002\n\n## \u521d\u59cb\u5316\n\n\u8981\u521d\u59cb\u5316\u751f\u6210\u5668,\u4f60\u9700\u8981\u9996\u5148\u5728 `agentscope.init` \u51fd\u6570\u4e2d\u6ce8\u518c\u4f60\u7684\u6a21\u578b\u914d\u7f6e\u3002\n"
      ]
    },
    {
      "cell_type": "code",
      "execution_count": null,
      "metadata": {
        "collapsed": false
      },
      "outputs": [],
      "source": [
        "from agentscope.prompt import ChineseSystemPromptGenerator\nimport agentscope\n\nmodel_config = {\n    \"model_type\": \"dashscope_chat\",\n    \"config_name\": \"qwen_config\",\n    \"model_name\": \"qwen-max\",\n    # \u901a\u8fc7\u73af\u5883\u53d8\u91cf\u5bfc\u51fa\u4f60\u7684 api \u5bc6\u94a5\n}"
      ]
    },
    {
      "cell_type": "markdown",
      "metadata": {},
      "source": [
        "\u751f\u6210\u5668\u5c06\u4f7f\u7528\u5185\u7f6e\u7684\u9ed8\u8ba4\u5143\u63d0\u793a\u6765\u6307\u5bfc\u5927\u8bed\u8a00\u6a21\u578b\u751f\u6210\u7cfb\u7edf\u63d0\u793a\u3002\n\n\n"
      ]
    },
    {
      "cell_type": "code",
      "execution_count": null,
      "metadata": {
        "collapsed": false
      },
      "outputs": [],
      "source": [
        "agentscope.init(\n    model_configs=model_config,\n)\n\nprompt_generator = ChineseSystemPromptGenerator(\n    model_config_name=\"qwen_config\",\n)"
      ]
    },
    {
      "cell_type": "markdown",
      "metadata": {},
      "source": [
        "\u6211\u4eec\u6b22\u8fce\u7528\u6237\u81ea\u7531\u5c1d\u8bd5\u4e0d\u540c\u7684\u4f18\u5316\u65b9\u6cd5\u3002\u6211\u4eec\u63d0\u4f9b\u4e86\u76f8\u5e94\u7684 `SystemPromptGeneratorBase` \u6a21\u5757\uff0c\u53ef\u4ee5\u901a\u8fc7\u7ee7\u627f\u6765\u5b9e\u73b0\u81ea\u5b9a\u4e49\u7684\u7cfb\u7edf\u63d0\u793a\u751f\u6210\u5668\u3002\n\n## \u751f\u6210\u7cfb\u7edf\u63d0\u793a\n\n\u8c03\u7528\u751f\u6210\u5668\u7684 `generate` \u51fd\u6570\u6765\u751f\u6210\u7cfb\u7edf\u63d0\u793a\uff0c\u5982\u4e0b\u6240\u793a\u3002\n\n\u53ef\u4ee5\u8f93\u5165\u4e00\u4e2a\u9700\u6c42\uff0c\u6216\u8005\u8981\u4f18\u5316\u7684\u7cfb\u7edf\u63d0\u793a\u3002\n\n"
      ]
    },
    {
      "cell_type": "code",
      "execution_count": null,
      "metadata": {
        "collapsed": false
      },
      "outputs": [],
      "source": [
        "generated_system_prompt = prompt_generator.generate(\n    user_input=\"\u4e3a\u4e00\u4f4d\u5c0f\u7ea2\u4e66\u8425\u9500\u4e13\u5bb6\u751f\u6210\u7cfb\u7edf\u63d0\u793a\uff0c\u4ed6\u8d1f\u8d23\u63a8\u5e7f\u4e66\u7c4d\u3002\",\n)\n\nprint(generated_system_prompt)"
      ]
    },
    {
      "cell_type": "markdown",
      "metadata": {},
      "source": [
        "## \u4e0a\u4e0b\u6587\u5b66\u4e60\uff08ICL\uff09\n\nAgentScope \u5728\u7cfb\u7edf\u63d0\u793a\u751f\u6210\u4e2d\u652f\u6301\u4e0a\u4e0b\u6587\u5b66\u4e60\u3002\n\n\u8981\u4f7f\u7528\u793a\u4f8b\uff0cAgentScope \u63d0\u4f9b\u4e86\u4ee5\u4e0b\u53c2\u6570:\n\n- `example_num`: \u9644\u52a0\u5230\u5143\u63d0\u793a\u7684\u793a\u4f8b\u6570\u91cf\uff0c\u9ed8\u8ba4\u4e3a 0\n- `example_selection_strategy`: \u9009\u62e9\u793a\u4f8b\u7684\u7b56\u7565\uff0c\u53ef\u9009 \"random\" \u548c \"similarity\"\u3002\n- `example_list`: \u4e00\u4e2a\u793a\u4f8b\u5217\u8868\uff0c\u5176\u4e2d\u6bcf\u4e2a\u793a\u4f8b\u5fc5\u987b\u662f\u4e00\u4e2a\u5e26\u6709\u952e \"user_prompt\" \u548c \"opt_prompt\" \u7684\u5b57\u5178\u3002\u5982\u679c\u672a\u6307\u5b9a,\u5c06\u4f7f\u7528\u5185\u7f6e\u7684\u793a\u4f8b\u5217\u8868\u3002\n\n\u6ce8\u610f\uff0c\u5982\u679c\u4f60\u9009\u62e9 \"similarity\" \u4f5c\u4e3a\u793a\u4f8b\u9009\u62e9\u7b56\u7565\uff0c\u4f60\u9700\u8981\u5728 `embed_model_config_name` \u6216 `local_embedding_model` \u53c2\u6570\u4e2d\u6307\u5b9a\u4e00\u4e2a\u5d4c\u5165\u6a21\u578b\u3002\n\n\u5b83\u4eec\u7684\u533a\u522b\u5982\u4e0b:\n\n- `embed_model_config_name`: \u4f60\u5fc5\u987b\u5148\u5728 `agentscope.init` \u4e2d\u6ce8\u518c\u5d4c\u5165\u6a21\u578b\uff0c\u5e76\u5728\u6b64\u53c2\u6570\u4e2d\u6307\u5b9a\u6a21\u578b\u914d\u7f6e\u540d\u79f0\u3002\n- `local_embedding_model`: \u6216\u8005\uff0c\u4f60\u53ef\u4ee5\u4f7f\u7528 `sentence_transformers.SentenceTransformer` \u5e93\u652f\u6301\u7684\u672c\u5730\u5c0f\u578b\u5d4c\u5165\u6a21\u578b\u3002\n\n\u5982\u679c\u4f60\u4e0d\u6307\u5b9a\u4e0a\u8ff0\u53c2\u6570\uff0cAgentScope \u5c06\u4f7f\u7528\u9ed8\u8ba4\u7684 \"sentence-transformers/all-mpnet-base-v2\" \u6a21\u578b\uff0c\u8be5\u6a21\u578b\u53ef\u5728 CPU \u4e0a\u8fd0\u884c\u3002\n\n"
      ]
    },
    {
      "cell_type": "code",
      "execution_count": null,
      "metadata": {
        "collapsed": false
      },
      "outputs": [],
      "source": [
        "icl_generator = ChineseSystemPromptGenerator(\n    model_config_name=\"qwen_config\",\n    example_num=3,\n    example_selection_strategy=\"random\",\n)\n\nicl_generated_system_prompt = icl_generator.generate(\n    user_input=\"\u4e3a\u4e00\u4f4d\u5c0f\u7ea2\u4e66\u8425\u9500\u4e13\u5bb6\u751f\u6210\u7cfb\u7edf\u63d0\u793a\uff0c\u4ed6\u8d1f\u8d23\u63a8\u5e7f\u4e66\u7c4d\u3002\",\n)\n\nprint(icl_generated_system_prompt)"
      ]
    },
    {
      "cell_type": "markdown",
      "metadata": {},
      "source": [
        "<div class=\"alert alert-info\"><h4>Note</h4><p>1. \u6837\u4f8b\u7684 Embedding \u5c06\u88ab\u7f13\u5b58\u5728 `~/.cache/agentscope/` \u4e2d\uff0c\u4ee5\u907f\u514d\u91cd\u590d\u8ba1\u7b97\u3002</p></div>\n 2. `EnglishSystemPromptGenerator` \u548c `ChineseSystemPromptGenerator` \u7684\u5185\u7f6e\u793a\u4f8b\u6570\u91cf\u5206\u522b\u4e3a 18 \u548c 37\u3002\u8bf7\u6ce8\u610f Embedding API \u670d\u52a1\u7684\u6210\u672c\u3002\n\n\n"
      ]
    }
  ],
  "metadata": {
    "kernelspec": {
      "display_name": "Python 3",
      "language": "python",
      "name": "python3"
    },
    "language_info": {
      "codemirror_mode": {
        "name": "ipython",
        "version": 3
      },
      "file_extension": ".py",
      "mimetype": "text/x-python",
      "name": "python",
      "nbconvert_exporter": "python",
      "pygments_lexer": "ipython3",
      "version": "3.9.21"
    }
  },
  "nbformat": 4,
  "nbformat_minor": 0
}