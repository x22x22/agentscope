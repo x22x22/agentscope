{
  "cells": [
    {
      "cell_type": "markdown",
      "metadata": {},
      "source": [
        "\n\n# \u5185\u7f6e\u667a\u80fd\u4f53\n\nAgentScope \u5185\u7f6e\u82e5\u5e72\u667a\u80fd\u4f53\u7c7b\uff0c\u4ee5\u652f\u6301\u4e0d\u540c\u4f7f\u7528\u573a\u666f\uff0c\u540c\u65f6\u5c55\u793a\u5982\u4f55\u4f7f\u7528 AgentScope \u6784\u5efa\u667a\u80fd\u4f53\u3002\n\n.. list-table::\n    :header-rows: 1\n\n    * - \u7c7b\n      - \u63cf\u8ff0\n    * - `UserAgent`\n      - \u5141\u8bb8\u7528\u6237\u53c2\u4e0e\u5bf9\u8bdd\u7684\u667a\u80fd\u4f53\u3002\n    * - `DialogAgent`\n      - \u4f7f\u7528\u81ea\u7136\u8bed\u8a00\u4ea4\u8c08\u7684\u667a\u80fd\u4f53\u3002\n    * - `DictDialogAgent`\n      - \u652f\u6301\u7ed3\u6784\u5316\u8f93\u51fa\u7684\u667a\u80fd\u4f53\u3002\n    * - `ReActAgent`\n      - \u4ee5 reasoning-acting \u5faa\u73af\u7684\u65b9\u5f0f\u4f7f\u7528\u5de5\u5177\u7684\u667a\u80fd\u4f53\u3002\n    * - `LlamaIndexAgent`\n      - \u68c0\u7d22\u589e\u5f3a\u578b\u751f\u6210 (RAG) \u667a\u80fd\u4f53\u3002\n"
      ]
    },
    {
      "cell_type": "code",
      "execution_count": null,
      "metadata": {
        "collapsed": false
      },
      "outputs": [],
      "source": [
        "import agentscope\n\nfor module in agentscope.agents.__all__:\n    if module.endswith(\"Agent\"):\n        print(module)"
      ]
    },
    {
      "cell_type": "markdown",
      "metadata": {},
      "source": [
        "<div class=\"alert alert-info\"><h4>Note</h4><p>\u4e3a\u4e86\u4f7f\u540c\u4e00\u4e2a\u667a\u80fd\u4f53\u7c7b\u80fd\u591f\u652f\u6301\u4e0d\u540c\u7684\u5927\u8bed\u8a00\u6a21\u578b API\uff0c\u6240\u6709\u5185\u7f6e\u667a\u80fd\u4f53\u7c7b\u90fd\u901a\u8fc7\u6a21\u578b\u914d\u7f6e\u540d `model_config_name` \u6765\u8fdb\u884c\u521d\u59cb\u5316\u3002\u5982\u679c\u4f60\u6784\u5efa\u7684\u667a\u80fd\u4f53\u4e0d\u6253\u7b97\u591a\u4e2a\u4e0d\u540c\u7684\u6a21\u578b\uff0c\u63a8\u8350\u53ef\u4ee5\u663e\u5f0f\u5730\u8fdb\u884c\u6a21\u578b\u521d\u59cb\u5316\uff0c\u800c\u4e0d\u662f\u4f7f\u7528\u6a21\u578b\u914d\u7f6e\u540d\u3002</p></div>\n\n\n"
      ]
    },
    {
      "cell_type": "code",
      "execution_count": null,
      "metadata": {
        "collapsed": false
      },
      "outputs": [],
      "source": [
        "import agentscope\n\nagentscope.init(\n    model_configs={\n        \"config_name\": \"my-qwen-max\",\n        \"model_name\": \"qwen-max\",\n        \"model_type\": \"dashscope_chat\",\n    },\n)"
      ]
    },
    {
      "cell_type": "markdown",
      "metadata": {},
      "source": [
        "## DialogAgent\nDialogAgent \u662f AgentScope \u4e2d\u6700\u57fa\u672c\u7684\u667a\u80fd\u4f53\uff0c\u53ef\u4ee5\u4ee5\u5bf9\u8bdd\u7684\u65b9\u5f0f\u4e0e\u7528\u6237\u4ea4\u4e92\u3002\n\u5f00\u53d1\u8005\u53ef\u4ee5\u901a\u8fc7\u63d0\u4f9b\u4e0d\u540c\u7684\u7cfb\u7edf\u63d0\u793a\u548c\u6a21\u578b\u914d\u7f6e\u6765\u81ea\u5b9a\u4e49\u5b83\u3002\n\n\n"
      ]
    },
    {
      "cell_type": "code",
      "execution_count": null,
      "metadata": {
        "collapsed": false
      },
      "outputs": [],
      "source": [
        "from agentscope.agents import DialogAgent\nfrom agentscope.message import Msg\n\n# \u521d\u59cb\u5316\u4e00\u4e2a\u5bf9\u8bdd\u667a\u80fd\u4f53\nalice = DialogAgent(\n    name=\"Alice\",\n    model_config_name=\"my-qwen-max\",\n    sys_prompt=\"\u4f60\u662f\u4e00\u4e2a\u540d\u53eb Alice \u7684\u52a9\u624b\u3002\",\n)\n\n# \u5411\u667a\u80fd\u4f53\u53d1\u9001\u4e00\u6761\u6d88\u606f\nmsg = Msg(\"Bob\", \"\u55e8\uff01\u4f60\u53eb\u4ec0\u4e48\u540d\u5b57\uff1f\", \"user\")\nresponse = alice(msg)"
      ]
    },
    {
      "cell_type": "markdown",
      "metadata": {},
      "source": [
        "## UserAgent\n`UserAgent` \u7c7b\u5141\u8bb8\u7528\u6237\u4e0e\u5176\u4ed6\u667a\u80fd\u4f53\u4ea4\u4e92\u3002\n\u5f53\u8c03\u7528 `UserAgent` \u5bf9\u8c61\u65f6\uff0c\u5b83\u4f1a\u8981\u6c42\u7528\u6237\u8f93\u5165\uff0c\u5e76\u5c06\u5176\u683c\u5f0f\u5316\u4e3a `Msg` \u5bf9\u8c61\u3002\n\n\u8fd9\u91cc\u6211\u4eec\u5c55\u793a\u5982\u4f55\u521d\u59cb\u5316\u4e00\u4e2a `UserAgent` \u5bf9\u8c61\uff0c\u5e76\u4e0e\u5bf9\u8bdd\u667a\u80fd\u4f53 `alice` \u8fdb\u884c\u4ea4\u4e92\u3002\n\n\n"
      ]
    },
    {
      "cell_type": "code",
      "execution_count": null,
      "metadata": {
        "collapsed": false
      },
      "outputs": [],
      "source": [
        "from agentscope.agents import UserAgent\nfrom io import StringIO\nimport sys\n\nuser = UserAgent(\n    name=\"Bob\",\n    input_hint=\"\u7528\u6237\u8f93\u5165: \\n\",\n)\n\n# \u6a21\u62df\u7528\u6237\u8f93\u5165\nsys.stdin = StringIO(\"\u4f60\u8ba4\u8bc6\u6211\u5417\uff1f\\n\")\n\nmsg = user()\nmsg = alice(msg)"
      ]
    },
    {
      "cell_type": "markdown",
      "metadata": {},
      "source": [
        "## DictDialogAgent\n`DictDialogAgent` \u652f\u6301\u7ed3\u6784\u5316\u8f93\u51fa\uff0c\u5e76\u53ef\u901a\u8fc7 `set_parser` \u65b9\u6cd5\u6307\u5b9a\u89e3\u6790\u5668\u6765\u5b9e\u73b0\u81ea\u52a8\u540e\u5904\u7406\u3002\n\n\u6211\u4eec\u9996\u5148\u521d\u59cb\u5316\u4e00\u4e2a `DictDialogAgent` \u5bf9\u8c61\uff0c\u7136\u540e\u901a\u8fc7\u66f4\u6362\u89e3\u6790\u5668\uff0c\u5b9e\u73b0\u4e0d\u540c\u7ed3\u6784\u5316\u7684\u8f93\u51fa\u3002\n\n\n"
      ]
    },
    {
      "cell_type": "code",
      "execution_count": null,
      "metadata": {
        "collapsed": false
      },
      "outputs": [],
      "source": [
        "from agentscope.agents import DictDialogAgent\nfrom agentscope.parsers import MarkdownJsonDictParser\n\n\ncharles = DictDialogAgent(\n    name=\"Charles\",\n    model_config_name=\"my-qwen-max\",\n    sys_prompt=\"\u4f60\u662f\u4e00\u4e2a\u540d\u53eb Charles \u7684\u52a9\u624b\u3002\",\n    max_retries=3,  # \u83b7\u53d6\u6240\u9700\u7ed3\u6784\u5316\u8f93\u51fa\u5931\u8d25\u65f6\u7684\u6700\u5927\u91cd\u8bd5\u6b21\u6570\n)\n\n# \u8981\u6c42\u667a\u80fd\u4f53\u751f\u6210\u5305\u542b `thought`\u3001`speak` \u548c `decision` \u7684\u7ed3\u6784\u5316\u8f93\u51fa\nparser1 = MarkdownJsonDictParser(\n    content_hint={\n        \"thought\": \"\u4f60\u7684\u60f3\u6cd5\",\n        \"speak\": \"\u4f60\u8981\u8bf4\u7684\u8bdd\",\n        \"decision\": \"\u4f60\u7684\u6700\u7ec8\u51b3\u5b9a\uff0ctrue/false\",\n    },\n    required_keys=[\"thought\", \"speak\", \"decision\"],\n)\n\ncharles.set_parser(parser1)\nmsg1 = charles(Msg(\"Bob\", \"\u5728\u4e0b\u96e8\u5929\u5916\u51fa\u662f\u4e2a\u597d\u4e3b\u610f\u5417\uff1f\", \"user\"))\n\nprint(f\"\u5185\u5bb9\u5b57\u6bb5: {msg1.content}\")\nprint(f\"\u5185\u5bb9\u5b57\u6bb5\u7684\u7c7b\u578b: {type(msg1.content)}\")"
      ]
    },
    {
      "cell_type": "markdown",
      "metadata": {},
      "source": [
        "\u7136\u540e\uff0c\u6211\u4eec\u8981\u6c42\u667a\u80fd\u4f53\u4ece 1 \u5230 10 \u4e2d\u9009\u62e9\u4e00\u4e2a\u6570\u5b57\u3002\n\n\n"
      ]
    },
    {
      "cell_type": "code",
      "execution_count": null,
      "metadata": {
        "collapsed": false
      },
      "outputs": [],
      "source": [
        "parser2 = MarkdownJsonDictParser(\n    content_hint={\n        \"thought\": \"\u4f60\u7684\u60f3\u6cd5\",\n        \"speak\": \"\u4f60\u8981\u8bf4\u7684\u8bdd\",\n        \"number\": \"\u4f60\u9009\u62e9\u7684\u6570\u5b57\",\n    },\n)\n\ncharles.set_parser(parser2)\nmsg2 = charles(Msg(\"Bob\", \"\u4ece 1 \u5230 10 \u4e2d\u9009\u62e9\u4e00\u4e2a\u6570\u5b57\u3002\", \"user\"))\n\nprint(f\"\u54cd\u5e94\u6d88\u606f\u7684\u5185\u5bb9: {msg2.content}\")"
      ]
    },
    {
      "cell_type": "markdown",
      "metadata": {},
      "source": [
        "\u4e0b\u4e00\u4e2a\u95ee\u9898\u662f\u5982\u4f55\u5bf9\u7ed3\u6784\u5316\u8f93\u51fa\u8fdb\u884c\u540e\u5904\u7406\u3002\n\u4f8b\u5982\uff0c`thought` \u5b57\u6bb5\u5e94\u8be5\u5b58\u50a8\u5728\u8bb0\u5fc6\u4e2d\u800c\u4e0d\u66b4\u9732\u7ed9\u5176\u4ed6\u4eba\uff0c\n\u800c `speak` \u5b57\u6bb5\u5e94\u8be5\u663e\u793a\u7ed9\u7528\u6237\uff0c`decision` \u5b57\u6bb5\u5e94\u8be5\u80fd\u591f\u5728\u54cd\u5e94\u6d88\u606f\u5bf9\u8c61\u4e2d\u8f7b\u677e\u8bbf\u95ee\u3002\n\n\n"
      ]
    },
    {
      "cell_type": "code",
      "execution_count": null,
      "metadata": {
        "collapsed": false
      },
      "outputs": [],
      "source": [
        "parser3 = MarkdownJsonDictParser(\n    content_hint={\n        \"thought\": \"\u4f60\u7684\u60f3\u6cd5\",\n        \"speak\": \"\u4f60\u8981\u8bf4\u7684\u8bdd\",\n        \"number\": \"\u4f60\u9009\u62e9\u7684\u6570\u5b57\",\n    },\n    required_keys=[\"thought\", \"speak\", \"number\"],\n    keys_to_memory=[\"thought\", \"speak\", \"number\"],  # \u9700\u8981\u5b58\u50a8\u5728\u8bb0\u5fc6\u4e2d\n    keys_to_content=\"speak\",  # \u9700\u8981\u663e\u793a\u7ed9\u7528\u6237\n    keys_to_metadata=\"number\",  # \u9700\u8981\u5b58\u50a8\u5728\u54cd\u5e94\u6d88\u606f\u7684\u5143\u6570\u636e\u4e2d\n)\n\ncharles.set_parser(parser3)\n\nmsg3 = charles(Msg(\"Bob\", \"\u4ece 20 \u5230 30 \u4e2d\u9009\u62e9\u4e00\u4e2a\u6570\u5b57\u3002\", \"user\"))\n\nprint(f\"\u5185\u5bb9\u5b57\u6bb5: {msg3.content}\")\nprint(f\"\u5185\u5bb9\u5b57\u6bb5\u7684\u7c7b\u578b: {type(msg3.content)}\\n\")\n\nprint(f\"\u5143\u6570\u636e\u5b57\u6bb5: {msg3.metadata}\")\nprint(f\"\u5143\u6570\u636e\u5b57\u6bb5\u7684\u7c7b\u578b: {type(msg3.metadata)}\")"
      ]
    },
    {
      "cell_type": "markdown",
      "metadata": {},
      "source": [
        ".. hint:: \u6709\u5173\u7ed3\u6784\u5316\u8f93\u51fa\u7684\u9ad8\u7ea7\u7528\u6cd5\u548c\u66f4\u591a\u4e0d\u540c\u89e3\u6790\u5668\uff0c\u8bf7\u53c2\u9605 `structured-output` \u7ae0\u8282\u3002\n\n## ReActAgent\n`ReActAgent` \u4ee5 reasoning-acting \u5faa\u73af\u7684\u65b9\u5f0f\u4f7f\u7528\u5de5\u5177\u6765\u89e3\u51b3\u7ed9\u5b9a\u7684\u95ee\u9898\u3002\n\n\u9996\u5148\u6211\u4eec\u4e3a\u667a\u80fd\u4f53\u51c6\u5907\u4e00\u4e2a\u5de5\u5177\u51fd\u6570\u3002\n\n\n"
      ]
    },
    {
      "cell_type": "code",
      "execution_count": null,
      "metadata": {
        "collapsed": false
      },
      "outputs": [],
      "source": [
        "from agentscope.service import ServiceToolkit, execute_python_code\n\n\ntoolkit = ServiceToolkit()\n\n# \u901a\u8fc7\u6307\u5b9a\u90e8\u5206\u53c2\u6570\u5c06 execute_python_code \u8bbe\u7f6e\u4e3a\u5de5\u5177\uff0c\u8fd9\u91cc\u7528\u6237\u9700\u8981\u5728 add \u65b9\u6cd5\u91cc\u9762\u914d\u7f6e\u90e8\u5206\n# \u53c2\u6570\uff0c\u901a\u5e38\u662f\u4e00\u4e9b\u5e94\u8be5\u7531\u5f00\u53d1\u8005\u63d0\u4f9b\u7684\u53c2\u6570\uff0c\u4f8b\u5982 API Key \u7b49\uff0c\u5269\u4f59\u53c2\u6570\u7531\u667a\u80fd\u4f53\u81ea\u5df1\u586b\u5199\u3002\ntoolkit.add(\n    execute_python_code,\n    timeout=300,\n    use_docker=False,\n    maximum_memory_bytes=None,\n)"
      ]
    },
    {
      "cell_type": "markdown",
      "metadata": {},
      "source": [
        "\u7136\u540e\u6211\u4eec\u521d\u59cb\u5316\u4e00\u4e2a `ReActAgent` \u6765\u89e3\u51b3\u7ed9\u5b9a\u7684\u95ee\u9898\u3002\n\n\n"
      ]
    },
    {
      "cell_type": "code",
      "execution_count": null,
      "metadata": {
        "collapsed": false
      },
      "outputs": [],
      "source": [
        "from agentscope.agents import ReActAgent\n\ndavid = ReActAgent(\n    name=\"David\",\n    model_config_name=\"my-qwen-max\",\n    sys_prompt=\"\u4f60\u662f\u4e00\u4e2a\u540d\u53eb David \u7684\u52a9\u624b\u3002\",\n    service_toolkit=toolkit,\n    max_iters=10,\n    verbose=True,\n)\n\ntask = Msg(\"Bob\", \"\u8bf7\u5e2e\u6211\u8ba1\u7b97 151513434*54353453453\u3002\", \"user\")\n\nresponse = david(task)"
      ]
    },
    {
      "cell_type": "markdown",
      "metadata": {},
      "source": [
        "## LlamaIndexAgent\n\u6709\u5173\u66f4\u591a\u8be6\u7ec6\u4fe1\u606f\uff0c\u8bf7\u53c2\u9605\u68c0\u7d22\u589e\u5f3a\u578b\u751f\u6210 (RAG) \u7ae0\u8282\u3002\n\n\n"
      ]
    }
  ],
  "metadata": {
    "kernelspec": {
      "display_name": "Python 3",
      "language": "python",
      "name": "python3"
    },
    "language_info": {
      "codemirror_mode": {
        "name": "ipython",
        "version": 3
      },
      "file_extension": ".py",
      "mimetype": "text/x-python",
      "name": "python",
      "nbconvert_exporter": "python",
      "pygments_lexer": "ipython3",
      "version": "3.9.21"
    }
  },
  "nbformat": 4,
  "nbformat_minor": 0
}