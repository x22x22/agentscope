{
  "cells": [
    {
      "cell_type": "markdown",
      "metadata": {},
      "source": [
        "\n\n# \u6784\u5efa\u667a\u80fd\u4f53\n\nAgentScope \u4e2d\uff0c\u53ef\u4ee5\u901a\u8fc7\u7ee7\u627f\u57fa\u7c7b`agentscope.agents.AgentBase`\u6765\u6784\u5efa\u667a\u80fd\u4f53\n\n\u5728\u4e0b\u9762\uff0c\u6211\u4eec\u5c06\u6784\u5efa\u4e00\u4e2a\u7b80\u5355\u7684\uff0c\u53ef\u4ee5\u548c\u5176\u4ed6\u4eba\u4e92\u52a8\u7684\u667a\u80fd\u4f53\u3002\n"
      ]
    },
    {
      "cell_type": "code",
      "execution_count": null,
      "metadata": {
        "collapsed": false
      },
      "outputs": [],
      "source": [
        "from agentscope.agents import AgentBase\nfrom agentscope.memory import TemporaryMemory\nfrom agentscope.message import Msg\nfrom agentscope.models import DashScopeChatWrapper\nimport json"
      ]
    },
    {
      "cell_type": "markdown",
      "metadata": {},
      "source": [
        "## \u5b9a\u4e49\u667a\u80fd\u4f53\n\u7ee7\u627f `agentscope.agents.AgentBase` \u7c7b\u5e76\u5b9e\u73b0\u5176\u6784\u9020\u51fd\u6570\u548c `reply` \u65b9\u6cd5\u3002\n\n\u5728\u6784\u9020\u51fd\u6570\u4e2d\uff0c\u6211\u4eec\u521d\u59cb\u5316\u667a\u80fd\u4f53\u7684\u540d\u5b57\u3001\u7cfb\u7edf\u63d0\u793a\u3001\u8bb0\u5fc6\u6a21\u5757\u548c\u6a21\u578b\u3002\n\u5728\u672c\u4f8b\u4e2d\uff0c\u6211\u4eec\u91c7\u7528 DashScope Chat API \u4e2d\u7684 `qwen-max` \u4f5c\u4e3a\u6a21\u578b\u670d\u52a1\u3002\n\u5f53\u7136\uff0c\u4f60\u53ef\u4ee5\u5c06\u5176\u66ff\u6362\u4e3a `agentscope.models` \u4e0b\u7684\u5176\u5b83\u6a21\u578b\u3002\n\n`reply`\u65b9\u6cd5\u662f\u667a\u80fd\u4f53\u7684\u6838\u5fc3\uff0c\u5b83\u63a5\u53d7\u6d88\u606f\u4f5c\u4e3a\u8f93\u5165\u5e76\u8fd4\u56de\u56de\u590d\u6d88\u606f\u3002\n\u5728\u8be5\u65b9\u6cd5\u4e2d\uff0c\u6211\u4eec\u5b9e\u73b0\u4e86\u667a\u80fd\u4f53\u7684\u57fa\u672c\u903b\u8f91:\n\n- \u5728\u8bb0\u5fc6\u4e2d\u8bb0\u5f55\u8f93\u5165\u6d88\u606f\uff0c\n- \u4f7f\u7528\u7cfb\u7edf\u63d0\u793a\u548c\u8bb0\u5fc6\u6784\u5efa\u63d0\u793a\u8bcd\uff0c\n- \u8c03\u7528\u6a21\u578b\u83b7\u53d6\u8fd4\u56de\u503c\uff0c\n- \u5728\u8bb0\u5fc6\u4e2d\u8bb0\u5f55\u8fd4\u56de\u503c\u5e76\u8fd4\u56de\u4e00\u4e2a\u6d88\u606f\u3002\n\n\n"
      ]
    },
    {
      "cell_type": "code",
      "execution_count": null,
      "metadata": {
        "collapsed": false
      },
      "outputs": [],
      "source": [
        "class JarvisAgent(AgentBase):\n    def __init__(self):\n        super().__init__(\"Jarvis\")\n\n        self.name = \"Jarvis\"\n        self.sys_prompt = \"\u4f60\u662f\u4e00\u4e2a\u540d\u4e3aJarvis\u7684\u52a9\u624b\u3002\"\n        self.memory = TemporaryMemory()\n        self.model = DashScopeChatWrapper(\n            config_name=\"_\",\n            model_name=\"qwen-max\",\n        )\n\n    def reply(self, msg):\n        # \u5728\u8bb0\u5fc6\u4e2d\u8bb0\u5f55\u6d88\u606f\n        self.memory.add(msg)\n\n        # \u4f7f\u7528\u7cfb\u7edf\u63d0\u793a\u548c\u8bb0\u5fc6\u6784\u5efa\u4e0a\u4e0b\u6587\n        prompt = self.model.format(\n            Msg(\n                name=\"system\",\n                content=self.sys_prompt,\n                role=\"system\",\n            ),\n            self.memory.get_memory(),\n        )\n\n        # \u8c03\u7528\u6a21\u578b\u83b7\u53d6\u54cd\u5e94\n        response = self.model(prompt)\n\n        # \u5728\u8bb0\u5fc6\u4e2d\u8bb0\u5f55\u54cd\u5e94\u6d88\u606f\u5e76\u8fd4\u56de\n        msg = Msg(\n            name=self.name,\n            content=response.text,\n            role=\"assistant\",\n        )\n        self.memory.add(msg)\n\n        self.speak(msg)\n        return msg"
      ]
    },
    {
      "cell_type": "markdown",
      "metadata": {},
      "source": [
        "\u521b\u5efa\u667a\u80fd\u4f53\u7c7b\u540e\uff0c\u6211\u4eec\u5b9e\u4f8b\u5316\u5b83\uff0c\u5e76\u901a\u8fc7\u53d1\u9001\u6d88\u606f\u4e0e\u4e4b\u4ea4\u4e92\u3002\n\n\n"
      ]
    },
    {
      "cell_type": "code",
      "execution_count": null,
      "metadata": {
        "collapsed": false
      },
      "outputs": [],
      "source": [
        "jarvis = JarvisAgent()\n\nmsg = Msg(\n    name=\"user\",\n    content=\"\u55e8\uff01Jarvis\u3002\",\n    role=\"user\",\n)\n\nmsg_reply = jarvis(msg)\n\nprint(f\"\u6d88\u606f\u7684\u53d1\u9001\u8005: {msg_reply.name}\")\nprint(f\"\u53d1\u9001\u8005\u7684\u89d2\u8272: {msg_reply.role}\")\nprint(f\"\u6d88\u606f\u7684\u5185\u5bb9: {msg_reply.content}\")"
      ]
    },
    {
      "cell_type": "markdown",
      "metadata": {},
      "source": [
        "======================\n\n## \u7ec4\u4ef6\n\u73b0\u5728\u6211\u4eec\u7b80\u8981\u4ecb\u7ecd\u4e0a\u8ff0\u667a\u80fd\u4f53\u4e2d\u4f7f\u7528\u5230\u7684\u57fa\u672c\u7ec4\u4ef6\uff0c\u5305\u62ec\n\n* \u8bb0\u5fc6\n* \u6a21\u578b\n\n### \u8bb0\u5fc6\n\u8bb0\u5fc6\u6a21\u5757\u63d0\u4f9b\u4e86\u8bb0\u5fc6\u7ba1\u7406\u7684\u57fa\u672c\u64cd\u4f5c\u3002\n\n\n"
      ]
    },
    {
      "cell_type": "code",
      "execution_count": null,
      "metadata": {
        "collapsed": false
      },
      "outputs": [],
      "source": [
        "memory = TemporaryMemory()\n\n# \u6dfb\u52a0\u4e00\u6761\u6d88\u606f\nmemory.add(Msg(\"system\", \"\u4f60\u662f\u4e00\u4e2a\u540d\u4e3aJarvis\u7684\u52a9\u624b\u3002\", \"system\"))\n\n# \u4e00\u6b21\u6dfb\u52a0\u591a\u6761\u6d88\u606f\nmemory.add(\n    [\n        Msg(\"Stank\", \"\u55e8!\", \"user\"),\n        Msg(\"Jarvis\", \"\u6211\u80fd\u4e3a\u60a8\u505a\u4e9b\u4ec0\u4e48\u5417?\", \"assistant\"),\n    ],\n)\n\nprint(f\"\u5f53\u524d\u8bb0\u5fc6: {memory.get_memory()}\")\nprint(f\"\u5f53\u524d\u5927\u5c0f: {memory.size()}\")"
      ]
    },
    {
      "cell_type": "markdown",
      "metadata": {},
      "source": [
        "\u4f7f\u7528\u53c2\u6570 `recent_n` \u83b7\u53d6\u6700\u540e\u4e24\u6761\u6d88\u606f\u3002\n\n\n"
      ]
    },
    {
      "cell_type": "code",
      "execution_count": null,
      "metadata": {
        "collapsed": false
      },
      "outputs": [],
      "source": [
        "recent_two_msgs = memory.get_memory(recent_n=2)\n\nfor i, msg in enumerate(recent_two_msgs):\n    print(\n        f\"MSG{i}: \u53d1\u9001\u8005: {msg.name}, \u89d2\u8272: {msg.role}, \u5185\u5bb9: {msg.content}\",\n    )"
      ]
    },
    {
      "cell_type": "markdown",
      "metadata": {},
      "source": [
        "\u5220\u9664\u8bb0\u5fc6\u4e2d\u7684\u7b2c\u4e00\u6761\u6d88\u606f\u3002\n\n\n"
      ]
    },
    {
      "cell_type": "code",
      "execution_count": null,
      "metadata": {
        "collapsed": false
      },
      "outputs": [],
      "source": [
        "memory.delete(0)\n\nprint(f\"\u5220\u9664\u540e\u7684\u8bb0\u5fc6: {memory.get_memory()}\")\nprint(f\"\u5220\u9664\u540e\u7684\u5927\u5c0f: {memory.size()}\")"
      ]
    },
    {
      "cell_type": "markdown",
      "metadata": {},
      "source": [
        "### \u6a21\u578b\n`agentscope.models` \u5c01\u88c5\u4e86\u4e0d\u540c\u7684\u6a21\u578b API\uff0c\u5e76\u5728\u5176 `format` \u51fd\u6570\u4e2d\u4e3a\u4e0d\u540c\u7684 API \u63d0\u4f9b\u4e86\u57fa\u672c\u7684\u63d0\u793a\u8bcd\u6784\u5efa\u7b56\u7565\u3002\n\n\u4ee5 DashScope Chat API \u4e3a\u4f8b:\n\n\n"
      ]
    },
    {
      "cell_type": "code",
      "execution_count": null,
      "metadata": {
        "collapsed": false
      },
      "outputs": [],
      "source": [
        "messages = [\n    Msg(\"system\", \"\u4f60\u662f\u4e00\u4e2a\u540d\u4e3aJarvis\u7684\u52a9\u624b\u3002\", \"system\"),\n    Msg(\"Stank\", \"\u55e8!\", \"user\"),\n    Msg(\"Jarvis\", \"\u6211\u80fd\u4e3a\u60a8\u505a\u4e9b\u4ec0\u4e48\u5417?\", \"assistant\"),\n]\n\nmodel = DashScopeChatWrapper(\n    config_name=\"api\",\n    model_name=\"qwen-max\",\n)\nprompt = model.format(messages)\nprint(json.dumps(prompt, indent=4, ensure_ascii=False))"
      ]
    },
    {
      "cell_type": "markdown",
      "metadata": {},
      "source": [
        "## \u8fdb\u4e00\u6b65\u9605\u8bfb\n- `builtin-agent`\n- `model_api`\n\n"
      ]
    }
  ],
  "metadata": {
    "kernelspec": {
      "display_name": "Python 3",
      "language": "python",
      "name": "python3"
    },
    "language_info": {
      "codemirror_mode": {
        "name": "ipython",
        "version": 3
      },
      "file_extension": ".py",
      "mimetype": "text/x-python",
      "name": "python",
      "nbconvert_exporter": "python",
      "pygments_lexer": "ipython3",
      "version": "3.9.21"
    }
  },
  "nbformat": 4,
  "nbformat_minor": 0
}