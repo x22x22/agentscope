{
  "cells": [
    {
      "cell_type": "markdown",
      "metadata": {},
      "source": [
        "\n\n# \u591a\u6a21\u6001\n\n\u5728\u672c\u8282\u4e2d\uff0c\u6211\u4eec\u5c06\u5c55\u793a\u5982\u4f55\u5728 AgentScope \u4e2d\u6784\u5efa\u591a\u6a21\u6001\u5e94\u7528\u7a0b\u5e8f\u3002\n\n## \u6784\u5efa\u89c6\u89c9\u667a\u80fd\u4f53\n\n\u5bf9\u4e8e\u5927\u591a\u6570\u5927\u8bed\u8a00\u6a21\u578b API\uff0c\u89c6\u89c9\u548c\u975e\u89c6\u89c9\u6a21\u578b\u5171\u4eab\u76f8\u540c\u7684 API\uff0c\u53ea\u662f\u8f93\u5165\u683c\u5f0f\u6709\u6240\u4e0d\u540c\u3002\n\u5728 AgentScope \u4e2d\uff0c\u6a21\u578b\u5305\u88c5\u5668\u7684 `format` \u51fd\u6570\u8d1f\u8d23\u5c06\u8f93\u5165\u7684 `Msg` \u5bf9\u8c61\u8f6c\u6362\u4e3a\u89c6\u89c9\u6a21\u578b\u6240\u9700\u7684\u683c\u5f0f\u3002\n\n\u4e5f\u5c31\u662f\u8bf4\uff0c\u6211\u4eec\u53ea\u9700\u6307\u5b9a\u89c6\u89c9\u5927\u8bed\u8a00\u6a21\u578b\u800c\u65e0\u9700\u66f4\u6539\u667a\u80fd\u4f53\u7684\u4ee3\u7801\u3002\n\u6709\u5173 AgentScope \u652f\u6301\u7684\u89c6\u89c9\u5927\u8bed\u8a00\u6a21\u578b API\uff0c\u8bf7\u53c2\u9605 `model_api` \u90e8\u5206\u3002\n\n\u4ee5 \"qwen-vl-max\" \u4e3a\u4f8b\uff0c\u6211\u4eec\u5c06\u4f7f\u7528\u89c6\u89c9\u5927\u8bed\u8a00\u6a21\u578b\u6784\u5efa\u4e00\u4e2a\u667a\u80fd\u4f53\u3002\n"
      ]
    },
    {
      "cell_type": "code",
      "execution_count": null,
      "metadata": {
        "collapsed": false
      },
      "outputs": [],
      "source": [
        "model_config = {\n    \"config_name\": \"my-qwen-vl\",\n    \"model_type\": \"dashscope_multimodal\",\n    \"model_name\": \"qwen-vl-max\",\n}"
      ]
    },
    {
      "cell_type": "markdown",
      "metadata": {},
      "source": [
        "\u5982\u5f80\u5e38\u4e00\u6837\uff0c\u6211\u4eec\u4f7f\u7528\u4e0a\u8ff0\u914d\u7f6e\u521d\u59cb\u5316 AgentScope\uff0c\u5e76\u4f7f\u7528\u89c6\u89c9\u5927\u8bed\u8a00\u6a21\u578b\u521b\u5efa\u4e00\u4e2a\u65b0\u7684\u667a\u80fd\u4f53\u3002\n\n\n"
      ]
    },
    {
      "cell_type": "code",
      "execution_count": null,
      "metadata": {
        "collapsed": false
      },
      "outputs": [],
      "source": [
        "from agentscope.agents import DialogAgent\nimport agentscope\n\nagentscope.init(model_configs=model_config)\n\nagent = DialogAgent(\n    name=\"Monday\",\n    sys_prompt=\"\u4f60\u662f\u4e00\u4e2a\u540d\u4e3aMonday\u7684\u52a9\u624b\u3002\",\n    model_config_name=\"my-qwen-vl\",\n)"
      ]
    },
    {
      "cell_type": "markdown",
      "metadata": {},
      "source": [
        "\u4e3a\u4e86\u4e0e\u667a\u80fd\u4f53\u8fdb\u884c\u591a\u6a21\u6001\u6570\u636e\u7684\u4ea4\u4e92\uff0c`Msg` \u7c7b\u63d0\u4f9b\u4e86\u4e00\u4e2a `url` \u5b57\u6bb5\u3002\n\u4f60\u53ef\u4ee5\u5728 `url` \u5b57\u6bb5\u4e2d\u653e\u7f6e\u672c\u5730\u6216\u5728\u7ebf\u7684\u56fe\u7247 URL\u3002\n\n\u8fd9\u91cc\u8ba9\u6211\u4eec\u9996\u5148\u4f7f\u7528 matplotlib \u521b\u5efa\u4e00\u4e2a\u56fe\u7247\n\n\n"
      ]
    },
    {
      "cell_type": "code",
      "execution_count": null,
      "metadata": {
        "collapsed": false
      },
      "outputs": [],
      "source": [
        "import matplotlib.pyplot as plt\n\nplt.figure(figsize=(6, 6))\nplt.bar(range(3), [2, 1, 4])\nplt.xticks(range(3), [\"Alice\", \"Bob\", \"Charlie\"])\nplt.title(\"The Apples Each Person Has in 2023\")\nplt.xlabel(\"Number of Apples\")\n\nplt.show()\nplt.savefig(\"./bar.png\")"
      ]
    },
    {
      "cell_type": "markdown",
      "metadata": {},
      "source": [
        "\u7136\u540e\uff0c\u6211\u4eec\u521b\u5efa\u4e00\u4e2a\u5305\u542b\u56fe\u50cf URL \u7684 `Msg` \u5bf9\u8c61\n\n\n"
      ]
    },
    {
      "cell_type": "code",
      "execution_count": null,
      "metadata": {
        "collapsed": false
      },
      "outputs": [],
      "source": [
        "from agentscope.message import Msg\n\nmsg = Msg(\n    name=\"\u7528\u6237\",\n    content=\"\u4e3a\u6211\u8be6\u7ec6\u63cf\u8ff0\u4e00\u4e0b\u8fd9\u4e2a\u56fe\u7247\u3002\",\n    role=\"user\",\n    url=\"./bar.png\",\n)"
      ]
    },
    {
      "cell_type": "markdown",
      "metadata": {},
      "source": [
        "\u4e4b\u540e\uff0c\u6211\u4eec\u53ef\u4ee5\u5c06\u6d88\u606f\u53d1\u9001\u7ed9\u89c6\u89c9\u667a\u80fd\u4f53\u5e76\u83b7\u53d6\u54cd\u5e94\u3002\n\n"
      ]
    },
    {
      "cell_type": "code",
      "execution_count": null,
      "metadata": {
        "collapsed": false
      },
      "outputs": [],
      "source": [
        "response = agent(msg)"
      ]
    }
  ],
  "metadata": {
    "kernelspec": {
      "display_name": "Python 3",
      "language": "python",
      "name": "python3"
    },
    "language_info": {
      "codemirror_mode": {
        "name": "ipython",
        "version": 3
      },
      "file_extension": ".py",
      "mimetype": "text/x-python",
      "name": "python",
      "nbconvert_exporter": "python",
      "pygments_lexer": "ipython3",
      "version": "3.9.21"
    }
  },
  "nbformat": 4,
  "nbformat_minor": 0
}