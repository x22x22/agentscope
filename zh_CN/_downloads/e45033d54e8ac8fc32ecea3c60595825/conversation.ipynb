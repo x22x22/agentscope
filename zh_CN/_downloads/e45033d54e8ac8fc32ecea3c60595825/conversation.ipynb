{
  "cells": [
    {
      "cell_type": "markdown",
      "metadata": {},
      "source": [
        "\n\n# \u6784\u5efa\u5bf9\u8bdd\n\nAgentScope \u4e2d\uff0c\u4e0d\u540c\u667a\u80fd\u4f53\u4e4b\u95f4\u901a\u8fc7\u201c\u663e\u5f0f\u7684\u6d88\u606f\u4ea4\u6362\u201d\u6765\u6784\u5efa\u5bf9\u8bdd\u3002\n"
      ]
    },
    {
      "cell_type": "code",
      "execution_count": null,
      "metadata": {
        "collapsed": false
      },
      "outputs": [],
      "source": [
        "from agentscope.agents import DialogAgent, UserAgent\nfrom agentscope.message import Msg\nfrom agentscope import msghub\nimport agentscope\n\n# \u4e3a\u7b80\u5355\u8d77\u89c1\uff0c\u901a\u8fc7\u6a21\u578b\u914d\u7f6e\u8fdb\u884c\u521d\u59cb\u5316\nagentscope.init(\n    model_configs={\n        \"config_name\": \"my-qwen-max\",\n        \"model_name\": \"qwen-max\",\n        \"model_type\": \"dashscope_chat\",\n    },\n)"
      ]
    },
    {
      "cell_type": "markdown",
      "metadata": {},
      "source": [
        "## \u4e24\u4e2a\u667a\u80fd\u4f53\n\u8fd9\u91cc\u6211\u4eec\u6784\u5efa\u4e00\u4e2a\u7b80\u5355\u7684\u5bf9\u8bdd\uff0c\u5bf9\u8bdd\u53cc\u65b9\u662f\u4e24\u4e2a\u667a\u80fd\u4f53 `Angel` \u548c `Monster`\u3002\n\n\n"
      ]
    },
    {
      "cell_type": "code",
      "execution_count": null,
      "metadata": {
        "collapsed": false
      },
      "outputs": [],
      "source": [
        "angel = DialogAgent(\n    name=\"Angel\",\n    sys_prompt=\"\u4f60\u662f\u4e00\u4e2a\u540d\u53eb Angel \u7684\u6b4c\u624b\uff0c\u8bf4\u8bdd\u98ce\u683c\u7b80\u5355\u51dd\u7ec3\u3002\",\n    model_config_name=\"my-qwen-max\",\n)\n\nmonster = DialogAgent(\n    name=\"Monster\",\n    sys_prompt=\"\u4f60\u662f\u4e00\u4e2a\u540d\u53eb Monster \u7684\u8fd0\u52a8\u5458\uff0c\u8bf4\u8bdd\u98ce\u683c\u7b80\u5355\u51dd\u7ec3\u3002\",\n    model_config_name=\"my-qwen-max\",\n)"
      ]
    },
    {
      "cell_type": "markdown",
      "metadata": {},
      "source": [
        "\u73b0\u5728\uff0c\u6211\u4eec\u8ba9\u8fd9\u4e24\u4e2a\u667a\u80fd\u4f53\u5bf9\u8bdd\u4e09\u8f6e\u3002\n\n\n"
      ]
    },
    {
      "cell_type": "code",
      "execution_count": null,
      "metadata": {
        "collapsed": false
      },
      "outputs": [],
      "source": [
        "msg = None\nfor _ in range(3):\n    msg = angel(msg)\n    msg = monster(msg)"
      ]
    },
    {
      "cell_type": "markdown",
      "metadata": {},
      "source": [
        "\u5982\u679c\u4f60\u60f3\u53c2\u4e0e\u5230\u5bf9\u8bdd\u4e2d\uff0c\u53ea\u9700\u5b9e\u4f8b\u5316\u4e00\u4e2a\u5185\u7f6e\u7684 `UserAgent` \u6765\u5411\u667a\u80fd\u4f53\u8f93\u5165\u6d88\u606f\u3002\n\n\n"
      ]
    },
    {
      "cell_type": "code",
      "execution_count": null,
      "metadata": {
        "collapsed": false
      },
      "outputs": [],
      "source": [
        "user = UserAgent(name=\"User\")"
      ]
    },
    {
      "cell_type": "markdown",
      "metadata": {},
      "source": [
        "## \u591a\u4e8e\u4e24\u4e2a\u667a\u80fd\u4f53\n\u5f53\u4e00\u4e2a\u5bf9\u8bdd\u4e2d\u6709\u591a\u4e8e\u4e24\u4e2a\u667a\u80fd\u4f53\u65f6\uff0c\u6765\u81ea\u4e00\u4e2a\u667a\u80fd\u4f53\u7684\u6d88\u606f\u5e94\u8be5\u5e7f\u64ad\u7ed9\u6240\u6709\u5176\u4ed6\u667a\u80fd\u4f53\u3002\n\n\u4e3a\u4e86\u7b80\u5316\u5e7f\u64ad\u6d88\u606f\u7684\u64cd\u4f5c\uff0cAgentScope \u63d0\u4f9b\u4e86\u4e00\u4e2a `msghub` \u6a21\u5757\u3002\n\u5177\u4f53\u6765\u8bf4\uff0c\u5728\u540c\u4e00\u4e2a `msghub` \u4e2d\u7684\u667a\u80fd\u4f53\u4f1a\u81ea\u52a8\u63a5\u6536\u5176\u5b83\u53c2\u4e0e\u8005\u53d1\u9001\u7684\u6d88\u606f\u3002\n\u6211\u4eec\u53ea\u9700\u8981\u7ec4\u7ec7\u53d1\u8a00\u7684\u987a\u5e8f\uff0c\u800c\u4e0d\u9700\u8981\u663e\u5f0f\u5730\u5c06\u6d88\u606f\u4f20\u9012\u7ed9\u5176\u5b83\u667a\u80fd\u4f53\u3002\n\n\u5f53\u7136\uff0c\u4f60\u4e5f\u53ef\u4ee5\u663e\u5f0f\u4f20\u9012\u6d88\u606f\uff0c\u4f46\u662f\u8bb0\u5fc6\u6a21\u5757\u4e2d\u7684\u67e5\u91cd\u64cd\u4f5c\u4f1a\u81ea\u52a8\u8df3\u8fc7\u6dfb\u52a0\u91cd\u590d\u7684\u6d88\u606f\u3002\u56e0\u6b64\u4e0d\u4f1a\u9020\u6210\u8bb0\u5fc6\u4e2d\u7684\u6d88\u606f\u91cd\u590d\u3002\n\n\u8fd9\u91cc\u662f\u4e00\u4e2a `msghub` \u7684\u793a\u4f8b\uff0c\u6211\u4eec\u9996\u5148\u521b\u5efa\u4e09\u4e2a\u667a\u80fd\u4f53\uff1aAlice\u3001Bob \u548c Charlie\uff0c\u5b83\u4eec\u90fd\u4f7f\u7528` qwen-max` \u6a21\u578b\u3002\n\n"
      ]
    },
    {
      "cell_type": "code",
      "execution_count": null,
      "metadata": {
        "collapsed": false
      },
      "outputs": [],
      "source": [
        "alice = DialogAgent(\n    name=\"Alice\",\n    sys_prompt=\"\u4f60\u662f\u4e00\u4e2a\u540d\u53ebAlice\u7684\u52a9\u624b\u3002\",\n    model_config_name=\"my-qwen-max\",\n)\n\nbob = DialogAgent(\n    name=\"Bob\",\n    sys_prompt=\"\u4f60\u662f\u4e00\u4e2a\u540d\u53ebBob\u7684\u52a9\u624b\u3002\",\n    model_config_name=\"my-qwen-max\",\n)\n\ncharlie = DialogAgent(\n    name=\"Charlie\",\n    sys_prompt=\"\u4f60\u662f\u4e00\u4e2a\u540d\u53ebCharlie\u7684\u52a9\u624b\u3002\",\n    model_config_name=\"my-qwen-max\",\n)"
      ]
    },
    {
      "cell_type": "markdown",
      "metadata": {},
      "source": [
        "\u4e09\u4e2a\u667a\u80fd\u4f53\u5c06\u5728\u5bf9\u8bdd\u4e2d\u8f6e\u6d41\u62a5\u6570\u3002\n\n\n"
      ]
    },
    {
      "cell_type": "code",
      "execution_count": null,
      "metadata": {
        "collapsed": false
      },
      "outputs": [],
      "source": [
        "# \u4ecb\u7ecd\u5bf9\u8bdd\u89c4\u5219\ngreeting = Msg(\n    name=\"user\",\n    content=\"\u73b0\u5728\u5f00\u59cb\u4ece1\u5f00\u59cb\u9010\u4e2a\u62a5\u6570\uff0c\u6bcf\u6b21\u53ea\u4ea7\u751f\u4e00\u4e2a\u6570\u5b57\uff0c\u7edd\u5bf9\u4e0d\u80fd\u4ea7\u751f\u5176\u4ed6\u4efb\u4f55\u4fe1\u606f\u3002\",\n    role=\"user\",\n)\n\nwith msghub(\n    participants=[alice, bob, charlie],\n    announcement=greeting,  # \u5f00\u59cb\u65f6\uff0c\u901a\u77e5\u6d88\u606f\u5c06\u5e7f\u64ad\u7ed9\u6240\u6709\u53c2\u4e0e\u8005\u3002\n) as hub:\n    # \u5bf9\u8bdd\u7684\u7b2c\u4e00\u8f6e\n    alice()\n    bob()\n    charlie()\n\n    # \u6211\u4eec\u53ef\u4ee5\u52a8\u6001\u7ba1\u7406\u53c2\u4e0e\u8005\uff0c\u4f8b\u5982\u4ece\u5bf9\u8bdd\u4e2d\u5220\u9664\u4e00\u4e2a\u667a\u80fd\u4f53\n    hub.delete(charlie)\n\n    # \u5411\u6240\u6709\u53c2\u4e0e\u8005\u5e7f\u64ad\u4e00\u6761\u6d88\u606f\n    hub.broadcast(\n        Msg(\n            \"user\",\n            \"Charlie\u5df2\u79bb\u5f00\u5bf9\u8bdd\u3002\",\n            \"user\",\n        ),\n    )\n\n    # \u5bf9\u8bdd\u7684\u7b2c\u4e8c\u8f6e\n    alice()\n    bob()\n    charlie()"
      ]
    },
    {
      "cell_type": "markdown",
      "metadata": {},
      "source": [
        "\u73b0\u5728\u6211\u4eec\u6253\u5370Alice\u548cBob\u7684\u8bb0\u5fc6\uff0c\u4ee5\u68c0\u67e5\u64cd\u4f5c\u662f\u5426\u6210\u529f\u3002\n\n"
      ]
    },
    {
      "cell_type": "code",
      "execution_count": null,
      "metadata": {
        "collapsed": false
      },
      "outputs": [],
      "source": [
        "print(\"Alice\u7684\u8bb0\u5fc6\uff1a\")\nfor msg in alice.memory.get_memory():\n    print(f\"{msg.name}\uff1a{msg.content}\")\n\nprint(\"\\nCharlie\u7684\u8bb0\u5fc6\uff1a\")\nfor msg in charlie.memory.get_memory():\n    print(f\"{msg.name}\uff1a{msg.content}\")"
      ]
    },
    {
      "cell_type": "markdown",
      "metadata": {},
      "source": [
        "\u5728\u4e0a\u9762\u7684\u793a\u4f8b\u4e2d\uff0cCharlie \u5728\u7b2c\u4e00\u8f6e\u7ed3\u675f\u540e\u79bb\u5f00\u4e86\u5bf9\u8bdd\uff0c\u56e0\u6b64\u6ca1\u6709\u6536\u5230 Alice \u548c Bob \u7684\"4\"\u548c\"5\"\u3002\n\u6240\u4ee5\u7b2c\u4e8c\u8f6e\u65f6\u5b83\u62a5\u4e86\"4\"\u3002\n\u53e6\u4e00\u65b9\u9762\uff0cAlice \u548c Bob \u7ee7\u7eed\u4e86\u5bf9\u8bdd\uff0c\u6ca1\u6709 Charlie \u7684\u53c2\u4e0e\u3002\n\n\n"
      ]
    }
  ],
  "metadata": {
    "kernelspec": {
      "display_name": "Python 3",
      "language": "python",
      "name": "python3"
    },
    "language_info": {
      "codemirror_mode": {
        "name": "ipython",
        "version": 3
      },
      "file_extension": ".py",
      "mimetype": "text/x-python",
      "name": "python",
      "nbconvert_exporter": "python",
      "pygments_lexer": "ipython3",
      "version": "3.9.21"
    }
  },
  "nbformat": 4,
  "nbformat_minor": 0
}