{
  "cells": [
    {
      "cell_type": "markdown",
      "metadata": {},
      "source": [
        "\n\n# \u914d\u7f6e\u548c\u76d1\u63a7\n\nAgentScope \u7684\u4e3b\u5165\u53e3\u662f `agentscope.init`\uff0c\u5728\u8fd9\u91cc\u60a8\u53ef\u4ee5\u914d\u7f6e\u5e94\u7528\u7a0b\u5e8f\u3002\n"
      ]
    },
    {
      "cell_type": "code",
      "execution_count": null,
      "metadata": {
        "collapsed": false
      },
      "outputs": [],
      "source": [
        "import agentscope\n\n\nagentscope.init(\n    model_configs=[  # \u6a21\u578b\u914d\u7f6e\n        {\n            \"config_name\": \"my-qwen-max\",\n            \"model_type\": \"dashscope_chat\",\n            \"model_name\": \"qwen-max\",\n        },\n    ],\n    project=\"\u9879\u76ee Alpha\",  # \u9879\u76ee\u540d\u79f0\n    name=\"\u6d4b\u8bd5-1\",  # \u8fd0\u884c\u65f6\u540d\u79f0\n    disable_saving=False,  # \u662f\u5426\u7981\u7528\u6587\u4ef6\u4fdd\u5b58\uff0c\u63a8\u8350\u5f00\u542f\n    save_dir=\"./runs\",  # \u4fdd\u5b58\u76ee\u5f55\n    save_log=True,  # \u662f\u5426\u4fdd\u5b58\u65e5\u5fd7\n    save_code=False,  # \u662f\u5426\u4fdd\u5b58\u6b64\u6b21\u8fd0\u884c\u7684\u4ee3\u7801\n    save_api_invoke=False,  # \u4fdd\u5b58 API \u8c03\u7528\n    cache_dir=\"~/.cache\",  # \u7f13\u5b58\u76ee\u5f55\uff0c\u7528\u4e8e\u7f13\u5b58 Embedding \u548c\u5176\u5b83\n    use_monitor=True,  # \u662f\u5426\u76d1\u63a7 token \u4f7f\u7528\u60c5\u51b5\n    logger_level=\"INFO\",  # \u65e5\u5fd7\u7ea7\u522b\n)"
      ]
    },
    {
      "cell_type": "markdown",
      "metadata": {},
      "source": [
        "## \u5bfc\u51fa\u914d\u7f6e\n`state_dict` \u65b9\u6cd5\u53ef\u7528\u4e8e\u5bfc\u51fa\u6b63\u5728\u8fd0\u884c\u7684\u5e94\u7528\u7a0b\u5e8f\u7684\u914d\u7f6e\u3002\n\n\n"
      ]
    },
    {
      "cell_type": "code",
      "execution_count": null,
      "metadata": {
        "collapsed": false
      },
      "outputs": [],
      "source": [
        "import json\n\nprint(json.dumps(agentscope.state_dict(), indent=2))"
      ]
    },
    {
      "cell_type": "markdown",
      "metadata": {},
      "source": [
        "## \u8fd0\u884c\u76d1\u63a7\nAgentScope \u63d0\u4f9b\u4e86 AgentScope Studio\uff0c\u8fd9\u662f\u4e00\u4e2a Web \u53ef\u89c6\u5316\u754c\u9762\uff0c\u7528\u4e8e\u76d1\u63a7\u548c\u7ba1\u7406\u6b63\u5728\u8fd0\u884c\u7684\u5e94\u7528\u7a0b\u5e8f\u548c\u5386\u53f2\u8bb0\u5f55\u3002\n\u6709\u5173\u66f4\u591a\u8be6\u7ec6\u4fe1\u606f\uff0c\u8bf7\u53c2\u9605 `visual` \u90e8\u5206\u3002\n\n\n"
      ]
    },
    {
      "cell_type": "markdown",
      "metadata": {},
      "source": [
        "\n## \u76d1\u63a7 Token \u4f7f\u7528\u60c5\u51b5\n`print_llm_usage` \u5c06\u6253\u5370\u5e76\u8fd4\u56de\u5f53\u524d\u8fd0\u884c\u5e94\u7528\u7a0b\u5e8f\u7684 token \u4f7f\u7528\u60c5\u51b5\u3002\n\n\n"
      ]
    },
    {
      "cell_type": "code",
      "execution_count": null,
      "metadata": {
        "collapsed": false
      },
      "outputs": [],
      "source": [
        "from agentscope.models import DashScopeChatWrapper\n\nqwen_max = DashScopeChatWrapper(\n    config_name=\"-\",\n    model_name=\"qwen-max\",\n)\nqwen_plus = DashScopeChatWrapper(\n    config_name=\"-\",\n    model_name=\"qwen-plus\",\n)\n\n# \u8c03\u7528 qwen-max \u548c qwen-plus \u6765\u6a21\u62df token \u4f7f\u7528\u60c5\u51b5\n_ = qwen_max([{\"role\": \"user\", \"content\": \"Hi!\"}])\n_ = qwen_plus([{\"role\": \"user\", \"content\": \"Who are you?\"}])\n\nusage = agentscope.print_llm_usage()\n\nprint(json.dumps(usage, indent=2))"
      ]
    }
  ],
  "metadata": {
    "kernelspec": {
      "display_name": "Python 3",
      "language": "python",
      "name": "python3"
    },
    "language_info": {
      "codemirror_mode": {
        "name": "ipython",
        "version": 3
      },
      "file_extension": ".py",
      "mimetype": "text/x-python",
      "name": "python",
      "nbconvert_exporter": "python",
      "pygments_lexer": "ipython3",
      "version": "3.9.21"
    }
  },
  "nbformat": 4,
  "nbformat_minor": 0
}